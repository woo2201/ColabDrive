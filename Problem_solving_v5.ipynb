{
  "cells": [
    {
      "cell_type": "markdown",
      "metadata": {
        "id": "view-in-github",
        "colab_type": "text"
      },
      "source": [
        "<a href=\"https://colab.research.google.com/github/woo2201/sampleCases/blob/reservior/Problem_solving_v5.ipynb\" target=\"_parent\"><img src=\"https://colab.research.google.com/assets/colab-badge.svg\" alt=\"Open In Colab\"/></a>"
      ]
    },
    {
      "cell_type": "markdown",
      "metadata": {
        "id": "Pr1YitFqpM-B"
      },
      "source": [
        "## Problem Solving Practice"
      ]
    },
    {
      "cell_type": "markdown",
      "metadata": {
        "id": "SeOnyStMqPjv"
      },
      "source": [
        "1. 풀지 못한 문제는 * Unsolved 로 표시한다.\n",
        "2. 하루에 최소 한 문제씩 푸는 것을 목표로 한다.\n",
        "3. 문제 제목은 ### 로 설정한다."
      ]
    },
    {
      "cell_type": "markdown",
      "metadata": {
        "id": "tDMIUa9mGi4c"
      },
      "source": [
        "## - Unclassified"
      ]
    },
    {
      "cell_type": "code",
      "execution_count": null,
      "metadata": {
        "colab": {
          "base_uri": "https://localhost:8080/"
        },
        "id": "6qx7mCSnGm7P",
        "outputId": "8a5df5ac-2f22-4962-fa75-25ed06b1b93e"
      },
      "outputs": [
        {
          "name": "stdout",
          "output_type": "stream",
          "text": [
            "2\n",
            "6 12 10\n",
            "402\n",
            "30 50 72\n",
            "1203\n"
          ]
        }
      ],
      "source": [
        "for _ in range(int(input())):\n",
        "    H, W, N = map(int, input().split())\n",
        "    answer = []\n",
        "    for j in range(1, W + 1):\n",
        "        for i in range(1, H + 1):\n",
        "            answer.append(''.join([str(i), str(j).zfill(2)]))\n",
        "    \n",
        "    print(answer[N-1])"
      ]
    },
    {
      "cell_type": "code",
      "execution_count": null,
      "metadata": {
        "colab": {
          "base_uri": "https://localhost:8080/",
          "height": 35
        },
        "id": "1MKs0-b_JlGb",
        "outputId": "4d003c91-4054-45d2-f492-032036615605"
      },
      "outputs": [
        {
          "data": {
            "application/vnd.google.colaboratory.intrinsic+json": {
              "type": "string"
            },
            "text/plain": [
              "'1203'"
            ]
          },
          "execution_count": 23,
          "metadata": {},
          "output_type": "execute_result"
        }
      ],
      "source": [
        "answer[n-1]"
      ]
    },
    {
      "cell_type": "markdown",
      "metadata": {
        "id": "tBCEMHgcpVrb"
      },
      "source": [
        "# - Hash\n",
        "\n",
        "- Key-Value 쌍을 가진다. 데이터를 빠르게 찾을 때 사용"
      ]
    },
    {
      "cell_type": "markdown",
      "metadata": {
        "id": "7KxglWbYrYaK"
      },
      "source": [
        "### K번째수 : SOLVED\n",
        "\n",
        "배열 array의 i번째 숫자부터 j번째 숫자까지 자르고 정렬했을 때, k번째에 있는 수를 구하려 합니다.\n",
        "\n",
        "예를 들어 array가 [1, 5, 2, 6, 3, 7, 4], i = 2, j = 5, k = 3이라면\n",
        "\n",
        "array의 2번째부터 5번째까지 자르면 [5, 2, 6, 3]입니다.\n",
        "1에서 나온 배열을 정렬하면 [2, 3, 5, 6]입니다.\n",
        "2에서 나온 배열의 3번째 숫자는 5입니다.\n"
      ]
    },
    {
      "cell_type": "code",
      "execution_count": null,
      "metadata": {
        "id": "BpBvKWRFrQMi"
      },
      "outputs": [],
      "source": [
        "# K 번째 수 \n",
        "\n",
        "array = [1, 5, 2, 6, 3, 7, 4]\n",
        "commands = [[2, 5, 3], [4, 4, 1], [1, 7, 3]]\n",
        "\n",
        "def solution(array, commands):\n",
        "    return [sorted(array[command[0]-1 : command[1]])[command[2]-1] for command in commands]"
      ]
    },
    {
      "cell_type": "markdown",
      "source": [
        "### 영어 끝말잇기"
      ],
      "metadata": {
        "id": "54GCDA1XhOSA"
      }
    },
    {
      "cell_type": "code",
      "source": [
        "n = 3\n",
        "words = [\"tank\", \"kick\", \"know\", \"wheel\", \"land\", \"dream\", \"mother\", \"robot\", \"tank\"]"
      ],
      "metadata": {
        "id": "7oSywJoDhNzC"
      },
      "execution_count": null,
      "outputs": []
    },
    {
      "cell_type": "code",
      "source": [
        "from collections import defaultdict\n",
        "\n",
        "dic = defaultdict(list)\n",
        "dik = defaultdict(list)\n",
        "\n",
        "for i in range(1, len(words) + 1) : \n",
        "    dic[words[i-1]].append(i)\n",
        "    dik[words[i-1]].append((i-1)%3)\n",
        "\n",
        "    if len(dic[words[i-1]]) >= 2 :\n",
        "        answer = dic[words[i-1]][1] // n\n",
        "        who = dik[words[i-1]][1] + 1"
      ],
      "metadata": {
        "id": "lU_VNQkwhvC-"
      },
      "execution_count": null,
      "outputs": []
    },
    {
      "cell_type": "code",
      "source": [
        "who"
      ],
      "metadata": {
        "colab": {
          "base_uri": "https://localhost:8080/"
        },
        "id": "goaYm6XTjhKU",
        "outputId": "e7756be7-1012-4708-a7e0-f4fc1dd16463"
      },
      "execution_count": null,
      "outputs": [
        {
          "output_type": "execute_result",
          "data": {
            "text/plain": [
              "3"
            ]
          },
          "metadata": {},
          "execution_count": 84
        }
      ]
    },
    {
      "cell_type": "code",
      "source": [
        "[(i-1)%3 for i in [1,2,3,4,5,6,7,8,9,10]]"
      ],
      "metadata": {
        "colab": {
          "base_uri": "https://localhost:8080/"
        },
        "id": "nuM-oaTHo66M",
        "outputId": "f49d19d5-6c7a-48b5-c44a-48af041f1565"
      },
      "execution_count": null,
      "outputs": [
        {
          "output_type": "execute_result",
          "data": {
            "text/plain": [
              "[0, 1, 2, 0, 1, 2, 0, 1, 2, 0]"
            ]
          },
          "metadata": {},
          "execution_count": 74
        }
      ]
    },
    {
      "cell_type": "markdown",
      "metadata": {
        "id": "a_55rTCFpbv4"
      },
      "source": [
        "# - Stack/Queue \n",
        "-  LIFO, FIFO, push & pop! 스택과 큐를 이용해서 문제를 풀자."
      ]
    },
    {
      "cell_type": "markdown",
      "metadata": {
        "id": "tK9RWgJVpbyX"
      },
      "source": [
        "# - Heap\n",
        "- 힙은 특정한 규칙을 가지는 트리. 힙을 이용하면 우선순위 큐를 구현할 수 있다."
      ]
    },
    {
      "cell_type": "markdown",
      "metadata": {
        "id": "R6oFgFmipb0l"
      },
      "source": [
        "# - 정렬\n",
        "- 문제의 효율화"
      ]
    },
    {
      "cell_type": "markdown",
      "source": [
        "### H index\n",
        "\n",
        "H-Index는 과학자의 생산성과 영향력을 나타내는 지표입니다. 어느 과학자의 H-Index를 나타내는 값인 h를 구하려고 합니다. 위키백과1에 따르면, H-Index는 다음과 같이 구합니다.\n",
        "\n",
        "어떤 과학자가 발표한 논문 n편 중, h번 이상 인용된 논문이 h편 이상이고 나머지 논문이 h번 이하 인용되었다면 h의 최댓값이 이 과학자의 H-Index입니다.\n",
        "\n",
        "어떤 과학자가 발표한 논문의 인용 횟수를 담은 배열 citations가 매개변수로 주어질 때, 이 과학자의 H-Index를 return 하도록 solution 함수를 작성해주세요."
      ],
      "metadata": {
        "id": "dkuT8X2gB6fG"
      }
    },
    {
      "cell_type": "code",
      "source": [
        "citations = [3, 0, 6, 1, 5]\n",
        "answer = 3"
      ],
      "metadata": {
        "id": "gQvK2_uyB6k4"
      },
      "execution_count": 25,
      "outputs": []
    },
    {
      "cell_type": "code",
      "source": [
        "def solution(citations):\n",
        "    \n",
        "    citations.sort()\n",
        "    answer = 0 \n",
        "\n",
        "    total_count = len(citations)\n",
        "    for i in range(0, total_count + 1):\n",
        "        if len([x for x in citations if x >= i]) >= i and len([x for x in citations if x < i]) <= i :\n",
        "            answer = i\n",
        "        \n",
        "    return answer"
      ],
      "metadata": {
        "id": "4ZbYJtIW9z8S"
      },
      "execution_count": 12,
      "outputs": []
    },
    {
      "cell_type": "code",
      "source": [
        "citations.sort()\n",
        "for i, v in enumerate(citations):\n",
        "    if len(citations) - i >= v:\n",
        "        print(len(citations) - i)\n"
      ],
      "metadata": {
        "colab": {
          "base_uri": "https://localhost:8080/"
        },
        "id": "bJl2EETHCzfE",
        "outputId": "cc403f07-24ef-451d-d953-1a9f6f2b69ea"
      },
      "execution_count": 26,
      "outputs": [
        {
          "output_type": "stream",
          "name": "stdout",
          "text": [
            "5\n",
            "4\n",
            "3\n"
          ]
        }
      ]
    },
    {
      "cell_type": "markdown",
      "metadata": {
        "id": "UDbarW7Mpb3K"
      },
      "source": [
        "# - 완전탐색"
      ]
    },
    {
      "cell_type": "markdown",
      "source": [
        "## 모의고사"
      ],
      "metadata": {
        "id": "2vTHi56PMmBQ"
      }
    },
    {
      "cell_type": "code",
      "source": [
        "import math\n",
        "def solution(answer) :\n",
        "    s = len(answer) \n",
        "    \n",
        "    student_1 = [1, 2, 3, 4, 5]\n",
        "    student_2 = [2, 1, 2, 3, 2, 4, 2, 5]\n",
        "    student_3 = [3, 3, 1, 1, 2, 2, 4, 4, 5, 5]\n",
        "    \n",
        "    ans_1 = (student_1 * math.ceil(s / len(student_1)))[0:s] \n",
        "    ans_2 = (student_2 * math.ceil(s / len(student_2)))[0:s] \n",
        "    ans_3 = (student_3 * math.ceil(s / len(student_3)))[0:s] \n",
        "\n",
        "    rslt = []\n",
        "    for ans in [ans_1, ans_2, ans_3]:\n",
        "        rslt.append(len([i for i, j in zip(answer, ans) if i == j]))\n",
        "\n",
        "    return [i+1 for i, j in enumerate(rslt) if j == max(rslt)]"
      ],
      "metadata": {
        "colab": {
          "base_uri": "https://localhost:8080/"
        },
        "id": "Bj3HSRVFMkQk",
        "outputId": "9b645346-ecf3-480d-fe2c-55d52fe5db79"
      },
      "execution_count": null,
      "outputs": [
        {
          "output_type": "execute_result",
          "data": {
            "text/plain": [
              "[1, 2, 3]"
            ]
          },
          "metadata": {},
          "execution_count": 30
        }
      ]
    },
    {
      "cell_type": "markdown",
      "source": [
        "# 카펫\n"
      ],
      "metadata": {
        "id": "z82MF9-IgzXB"
      }
    },
    {
      "cell_type": "code",
      "source": [
        "# brown = 16\n",
        "# yellow = 9\n",
        "# exp = [5, 5]\n",
        "\n",
        "brown = 10\n",
        "yellow = 2\n",
        "exp = [4, 3]"
      ],
      "metadata": {
        "id": "xvHlLPOSMjTO"
      },
      "execution_count": null,
      "outputs": []
    },
    {
      "cell_type": "code",
      "source": [
        "candidates = [i for i in range(1, yellow + 1) if yellow % i == 0]\n",
        "value = 0\n",
        "answer = []\n",
        "\n",
        "for candy in candidates :\n",
        "    if ((brown+yellow) /(candy + 2)) % 1 == 0 :\n",
        "        value = (brown+yellow) /(candy + 2) \n",
        "\n",
        "answer = [value, ( brown + yello ) / value]\n",
        "answer = [max(answer), min(answer)]"
      ],
      "metadata": {
        "id": "MSu_oOn3SfTm"
      },
      "execution_count": null,
      "outputs": []
    },
    {
      "cell_type": "markdown",
      "source": [
        "# 문자열 압축 < 미완 >\n"
      ],
      "metadata": {
        "id": "di7vAtqQg05m"
      }
    },
    {
      "cell_type": "code",
      "source": [
        "st = \"aabbaccc\"\n",
        "ans = 7\n",
        "# st = \"ababcdcdababcdcd\", ans = 9\n",
        "# st = \"abcabcdede\" , ans = 8\n",
        "# st = \"abcabcabcabcdededededede\", ans = \t14\n",
        "# st = \"xababcdcdababcdcd\", ans = 17"
      ],
      "metadata": {
        "id": "e-ZI9K5pvSRK"
      },
      "execution_count": null,
      "outputs": []
    },
    {
      "cell_type": "code",
      "source": [
        "for chunk in range(0, len(st)):\n",
        "    val = []\n",
        "    for i in range(0, len(st) - 1):\n",
        "        if len(st[i:i+chunk]) == chunk:\n",
        "            val.append(st[i:i+chunk])\n",
        "    print(val)"
      ],
      "metadata": {
        "id": "vHgDxWR-ir7x",
        "colab": {
          "base_uri": "https://localhost:8080/"
        },
        "outputId": "f1aec5b1-6517-4bef-c21c-3b364e6b5a0e"
      },
      "execution_count": null,
      "outputs": [
        {
          "output_type": "stream",
          "name": "stdout",
          "text": [
            "['', '', '', '', '', '', '']\n",
            "['a', 'a', 'b', 'b', 'a', 'c', 'c']\n",
            "['aa', 'ab', 'bb', 'ba', 'ac', 'cc', 'cc']\n",
            "['aab', 'abb', 'bba', 'bac', 'acc', 'ccc']\n",
            "['aabb', 'abba', 'bbac', 'bacc', 'accc']\n",
            "['aabba', 'abbac', 'bbacc', 'baccc']\n",
            "['aabbac', 'abbacc', 'bbaccc']\n",
            "['aabbacc', 'abbaccc']\n"
          ]
        }
      ]
    },
    {
      "cell_type": "markdown",
      "metadata": {
        "id": "1U0601TGpb5k"
      },
      "source": [
        "# - 탐욕법 (Greedy)\n",
        "- 부분적인 최적해가 전체의 최적해가 되는 법"
      ]
    },
    {
      "cell_type": "markdown",
      "metadata": {
        "id": "8uvWJhdth2tJ"
      },
      "source": [
        "- 거스름돈 : N원의 돈을 거슬러 주어야 할때 500, 100, 50, 10원 짜리 동전으로 거슬러 줄 수 있는 최소 동전의 개수"
      ]
    },
    {
      "cell_type": "code",
      "execution_count": null,
      "metadata": {
        "id": "_sS0KGX8h15s"
      },
      "outputs": [],
      "source": [
        "def HereIsYourChange(N):\n",
        "\n",
        "    changes = [500, 100, 50, 10]\n",
        "\n",
        "    cnt = 0\n",
        "    for i in changes:\n",
        "\n",
        "        cnt = cnt + (N // i)\n",
        "        N = N - (i * (N // i))\n",
        "\n",
        "    return cnt"
      ]
    },
    {
      "cell_type": "code",
      "execution_count": null,
      "metadata": {
        "colab": {
          "base_uri": "https://localhost:8080/"
        },
        "id": "XM0CSy84jiIq",
        "outputId": "d8dc01d1-f9d5-4690-9f23-fde00b25ffa5"
      },
      "outputs": [
        {
          "data": {
            "text/plain": [
              "10"
            ]
          },
          "execution_count": 9,
          "metadata": {},
          "output_type": "execute_result"
        }
      ],
      "source": [
        "HereIsYourChange(5000)"
      ]
    },
    {
      "cell_type": "markdown",
      "metadata": {
        "id": "3WtS-HPQpb8R"
      },
      "source": [
        "#- 동적계획법 ( 다이나믹 프로그래밍 ) \n",
        "- 불필요한 계산은 최소화, 효율적인 최적해를 찾자."
      ]
    },
    {
      "cell_type": "markdown",
      "metadata": {
        "id": "jfmCzqispb-7"
      },
      "source": [
        "# - 깊이/너비 우선탐색 (DFS/BFS)\n",
        "- 깊이/너비 우선 탐색을 사용해 원하는 답을 찾아보세요."
      ]
    },
    {
      "cell_type": "markdown",
      "metadata": {
        "id": "53nXl-shpcBb"
      },
      "source": [
        "# - 이분탐색\n",
        "\n",
        "- 기본적으로 start point 와 end point 를 설정하고, 임의의 값보다 작은지 큰지를 비교탐색해서 줄여나가는 것을 이분탐색이라고 함. \n",
        "\n",
        "- 이분탐색에서 중요한 것은 \"이분탐색의 범위는 무엇으로할지\", \"이분 탐색의 기준을 무엇으로 할지\" 가 중요함.\n",
        " \n",
        "- 또한 기준 array 들이 모두 소팅이 되어 있어야 함.\n",
        "\n",
        "- array size 가 1 Billion 이상이라면, 이분탐색이 적절해."
      ]
    },
    {
      "cell_type": "markdown",
      "metadata": {
        "id": "DDMdPrnCu3Ne"
      },
      "source": [
        "### 입국심사 : Unsolved\n",
        "\n",
        "입국심사를 기다리는 사람 수 n, 각 심사관이 한 명을 심사하는데 걸리는 시간이 담긴 배열 times가 매개변수로 주어질 때, 모든 사람이 심사를 받는데 걸리는 시간의 최솟값을 return 하도록 solution 함수를 작성해주세요.\n",
        "\n",
        "- 제한사항\n",
        "\n",
        "    - 입국심사를 기다리는 사람은 1명 이상 1,000,000,000명 이하입니다.\n",
        "    - 각 심사관이 한 명을 심사하는데 걸리는 시간은 1분 이상 1,000,000,000분 이하입니다.\n",
        "    - 심사관은 1명 이상 100,000명 이하입니다."
      ]
    },
    {
      "cell_type": "code",
      "execution_count": null,
      "metadata": {
        "id": "z2KQ-vYbu9bN"
      },
      "outputs": [],
      "source": [
        "# 1. 모두 심사를 받아야 한다. n == 심사인원\n",
        "# 2. \n",
        "\n",
        "n = 6\n",
        "times = [7, 10]"
      ]
    },
    {
      "cell_type": "code",
      "execution_count": null,
      "metadata": {
        "colab": {
          "background_save": true
        },
        "id": "iPvBf3YQxcMh"
      },
      "outputs": [],
      "source": [
        "st, en = 0, max(times) *  n\n",
        "answer = 0 \n",
        "\n",
        "while st < en :\n",
        "    \n",
        "    mid = (st + en) // 2\n",
        "    cnt = 0\n",
        "\n",
        "    for time in times :\n",
        "        cnt = cnt + (mid // time)\n",
        "\n",
        "        if cnt > mid :\n",
        "            break\n",
        "\n",
        "    if cnt < n :\n",
        "        answer = mid\n",
        "        en = mid - 1\n",
        "    elif cnt > n:\n",
        "        st = mid + 1\n",
        "    else:\n",
        "        break\n",
        "\n"
      ]
    },
    {
      "cell_type": "code",
      "execution_count": null,
      "metadata": {
        "colab": {
          "base_uri": "https://localhost:8080/"
        },
        "id": "yoZjF2Ci9iGI",
        "outputId": "0fe69671-dbc9-4784-a7c4-180652a062ec"
      },
      "outputs": [
        {
          "data": {
            "text/plain": [
              "59"
            ]
          },
          "execution_count": 6,
          "metadata": {},
          "output_type": "execute_result"
        }
      ],
      "source": [
        ""
      ]
    },
    {
      "cell_type": "markdown",
      "metadata": {
        "id": "jzC_2ZZdpcEC"
      },
      "source": [
        "# - 그래프"
      ]
    },
    {
      "cell_type": "code",
      "execution_count": null,
      "metadata": {
        "id": "KGMtpEJ8pVVj"
      },
      "outputs": [],
      "source": [
        ""
      ]
    },
    {
      "cell_type": "code",
      "execution_count": null,
      "metadata": {
        "id": "Up6CHwXTpBxc"
      },
      "outputs": [],
      "source": [
        ""
      ]
    }
  ],
  "metadata": {
    "colab": {
      "collapsed_sections": [],
      "name": "Problem_solving.ipynb",
      "provenance": [],
      "authorship_tag": "ABX9TyPxVtwUBUq4cSa2TJ+eIMXt",
      "include_colab_link": true
    },
    "kernelspec": {
      "display_name": "Python 3",
      "name": "python3"
    },
    "language_info": {
      "name": "python"
    }
  },
  "nbformat": 4,
  "nbformat_minor": 0
}