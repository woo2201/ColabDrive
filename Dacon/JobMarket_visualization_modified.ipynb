{
  "nbformat": 4,
  "nbformat_minor": 0,
  "metadata": {
    "colab": {
      "name": "JobMarket_visualization.ipynb",
      "provenance": [],
      "collapsed_sections": [],
      "authorship_tag": "ABX9TyMqYYdy66OGbva6mV0fVV1X",
      "include_colab_link": true
    },
    "kernelspec": {
      "name": "python3",
      "display_name": "Python 3"
    },
    "language_info": {
      "name": "python"
    }
  },
  "cells": [
    {
      "cell_type": "markdown",
      "metadata": {
        "id": "view-in-github",
        "colab_type": "text"
      },
      "source": [
        "<a href=\"https://colab.research.google.com/github/woo2201/ColabDrive/blob/reservior/JobMarket_visualization_modified.ipynb\" target=\"_parent\"><img src=\"https://colab.research.google.com/assets/colab-badge.svg\" alt=\"Open In Colab\"/></a>"
      ]
    },
    {
      "cell_type": "code",
      "execution_count": 1,
      "metadata": {
        "colab": {
          "base_uri": "https://localhost:8080/"
        },
        "id": "lp29hRBeOzqB",
        "outputId": "c6e09611-05d8-4b05-c28f-1e0a728f9247"
      },
      "outputs": [
        {
          "output_type": "stream",
          "name": "stdout",
          "text": [
            "Mounted at /content/gdrive\n"
          ]
        }
      ],
      "source": [
        "from google.colab import drive \n",
        "drive.mount('/content/gdrive')"
      ]
    },
    {
      "cell_type": "code",
      "source": [
        "cd /content/gdrive/MyDrive/dataset/JobMarket/"
      ],
      "metadata": {
        "colab": {
          "base_uri": "https://localhost:8080/"
        },
        "id": "fth6zQcQQXNC",
        "outputId": "ba1fa2f1-69fd-4aba-d729-2a1c0e40ab8c"
      },
      "execution_count": 2,
      "outputs": [
        {
          "output_type": "stream",
          "name": "stdout",
          "text": [
            "/content/gdrive/MyDrive/dataset/JobMarket\n"
          ]
        }
      ]
    },
    {
      "cell_type": "code",
      "source": [
        "import pandas as pd\n",
        "import numpy as np\n",
        "import matplotlib.pyplot as plt\n",
        "from urllib.request import urlopen\n",
        "from bs4 import BeautifulSoup\n",
        "import requests\n",
        "import lxml\n",
        "import re\n",
        "import html\n",
        "import urllib"
      ],
      "metadata": {
        "id": "UZWuGTVreVYU"
      },
      "execution_count": 3,
      "outputs": []
    },
    {
      "cell_type": "code",
      "source": [
        "companies = pd.read_csv('Top_modified5002.csv')"
      ],
      "metadata": {
        "id": "-KfbofsqeVa3"
      },
      "execution_count": 11,
      "outputs": []
    },
    {
      "cell_type": "code",
      "source": [
        "class infoParser:\n",
        "    def __init__(self, company):\n",
        "        self.company = company\n",
        "        try:\n",
        "            self.html = urlopen(\"https://www.teamblind.com/kr/company/\" + urllib.parse.quote(self.company))  \n",
        "            self.bsObject = BeautifulSoup(self.html, \"html.parser\", from_encoding='utf-8')\n",
        "        except urllib.error.HTTPError as err:\n",
        "            pass     \n",
        "\n",
        "    def description(self):\n",
        "        try:\n",
        "            val = self.bsObject.find('div', {\"class\":\"desc all\"}).text\n",
        "        except AttributeError as e:\n",
        "            return None\n",
        "        return val\n",
        "\n",
        "    def overallRating(self):\n",
        "        try:\n",
        "            val = self.bsObject.find('span', {\"class\" : \"star\"}).text\n",
        "        except AttributeError as e:\n",
        "            return None\n",
        "        return val\n",
        "\n",
        "    def individualStar(self):\n",
        "        try:\n",
        "            val = [float(i.text) for i in self.bsObject.find_all('strong',{'class' : \"star\"})]\n",
        "        except AttributeError as e:\n",
        "            return None\n",
        "        return val\n",
        "    \n",
        "    def reviewCount(self):\n",
        "        try:\n",
        "            val = self.bsObject.find('em',{'class' : \"count\"}).text\n",
        "        except AttributeError as e:\n",
        "            return None\n",
        "        return val"
      ],
      "metadata": {
        "id": "vkT5glPFEuEG"
      },
      "execution_count": 13,
      "outputs": []
    },
    {
      "cell_type": "code",
      "source": [
        "df = pd.DataFrame({'company' : [],\n",
        "                   'description': [],\n",
        "                   'overallRating': [],\n",
        "                   'individualStar' : [],\n",
        "                   'reviewCount': []})  # starName = [str(i.text) for i in bsObject.find_all('span', {'class' : 'desc'})][0:5]; starName\n",
        "\n",
        "for cpny in companies['종목명']:\n",
        "    test = infoParser(company = cpny)\n",
        "    adix = {'company' : test.company,\n",
        "            'description': test.description(),\n",
        "            'overallRating': test.overallRating(),\n",
        "            'individualStar' : test.individualStar(),\n",
        "            'reviewCount': test.reviewCount()}\n",
        "    \n",
        "    df = df.append(adix, ignore_index = True)\n"
      ],
      "metadata": {
        "colab": {
          "base_uri": "https://localhost:8080/",
          "height": 381
        },
        "id": "6Yr5b05-Yngj",
        "outputId": "6fa2af18-2a9e-41f7-8d49-32abd7fd0a78"
      },
      "execution_count": 14,
      "outputs": [
        {
          "output_type": "error",
          "ename": "TypeError",
          "evalue": "ignored",
          "traceback": [
            "\u001b[0;31m---------------------------------------------------------------------------\u001b[0m",
            "\u001b[0;31mTypeError\u001b[0m                                 Traceback (most recent call last)",
            "\u001b[0;32m<ipython-input-14-ffe45fd2b95a>\u001b[0m in \u001b[0;36m<module>\u001b[0;34m()\u001b[0m\n\u001b[1;32m      6\u001b[0m \u001b[0;34m\u001b[0m\u001b[0m\n\u001b[1;32m      7\u001b[0m \u001b[0;32mfor\u001b[0m \u001b[0mcpny\u001b[0m \u001b[0;32min\u001b[0m \u001b[0mcompanies\u001b[0m\u001b[0;34m[\u001b[0m\u001b[0;34m'종목명'\u001b[0m\u001b[0;34m]\u001b[0m\u001b[0;34m:\u001b[0m\u001b[0;34m\u001b[0m\u001b[0;34m\u001b[0m\u001b[0m\n\u001b[0;32m----> 8\u001b[0;31m     \u001b[0mtest\u001b[0m \u001b[0;34m=\u001b[0m \u001b[0minfoParser\u001b[0m\u001b[0;34m(\u001b[0m\u001b[0mcompany\u001b[0m \u001b[0;34m=\u001b[0m \u001b[0mcpny\u001b[0m\u001b[0;34m)\u001b[0m\u001b[0;34m\u001b[0m\u001b[0;34m\u001b[0m\u001b[0m\n\u001b[0m\u001b[1;32m      9\u001b[0m     adix = {'company' : test.company,\n\u001b[1;32m     10\u001b[0m             \u001b[0;34m'description'\u001b[0m\u001b[0;34m:\u001b[0m \u001b[0mtest\u001b[0m\u001b[0;34m.\u001b[0m\u001b[0mdescription\u001b[0m\u001b[0;34m(\u001b[0m\u001b[0;34m)\u001b[0m\u001b[0;34m,\u001b[0m\u001b[0;34m\u001b[0m\u001b[0;34m\u001b[0m\u001b[0m\n",
            "\u001b[0;32m<ipython-input-13-d402de0758c7>\u001b[0m in \u001b[0;36m__init__\u001b[0;34m(self, company)\u001b[0m\n\u001b[1;32m      3\u001b[0m         \u001b[0mself\u001b[0m\u001b[0;34m.\u001b[0m\u001b[0mcompany\u001b[0m \u001b[0;34m=\u001b[0m \u001b[0mcompany\u001b[0m\u001b[0;34m\u001b[0m\u001b[0;34m\u001b[0m\u001b[0m\n\u001b[1;32m      4\u001b[0m         \u001b[0;32mtry\u001b[0m\u001b[0;34m:\u001b[0m\u001b[0;34m\u001b[0m\u001b[0;34m\u001b[0m\u001b[0m\n\u001b[0;32m----> 5\u001b[0;31m             \u001b[0mself\u001b[0m\u001b[0;34m.\u001b[0m\u001b[0mhtml\u001b[0m \u001b[0;34m=\u001b[0m \u001b[0murlopen\u001b[0m\u001b[0;34m(\u001b[0m\u001b[0;34m\"https://www.teamblind.com/kr/company/\"\u001b[0m \u001b[0;34m+\u001b[0m \u001b[0murllib\u001b[0m\u001b[0;34m.\u001b[0m\u001b[0mparse\u001b[0m\u001b[0;34m.\u001b[0m\u001b[0mquote\u001b[0m\u001b[0;34m(\u001b[0m\u001b[0mself\u001b[0m\u001b[0;34m.\u001b[0m\u001b[0mcompany\u001b[0m\u001b[0;34m)\u001b[0m\u001b[0;34m)\u001b[0m\u001b[0;34m\u001b[0m\u001b[0;34m\u001b[0m\u001b[0m\n\u001b[0m\u001b[1;32m      6\u001b[0m             \u001b[0mself\u001b[0m\u001b[0;34m.\u001b[0m\u001b[0mbsObject\u001b[0m \u001b[0;34m=\u001b[0m \u001b[0mBeautifulSoup\u001b[0m\u001b[0;34m(\u001b[0m\u001b[0mself\u001b[0m\u001b[0;34m.\u001b[0m\u001b[0mhtml\u001b[0m\u001b[0;34m,\u001b[0m \u001b[0;34m\"html.parser\"\u001b[0m\u001b[0;34m,\u001b[0m \u001b[0mfrom_encoding\u001b[0m\u001b[0;34m=\u001b[0m\u001b[0;34m'utf-8'\u001b[0m\u001b[0;34m)\u001b[0m\u001b[0;34m\u001b[0m\u001b[0;34m\u001b[0m\u001b[0m\n\u001b[1;32m      7\u001b[0m         \u001b[0;32mexcept\u001b[0m \u001b[0murllib\u001b[0m\u001b[0;34m.\u001b[0m\u001b[0merror\u001b[0m\u001b[0;34m.\u001b[0m\u001b[0mHTTPError\u001b[0m \u001b[0;32mas\u001b[0m \u001b[0merr\u001b[0m\u001b[0;34m:\u001b[0m\u001b[0;34m\u001b[0m\u001b[0;34m\u001b[0m\u001b[0m\n",
            "\u001b[0;32m/usr/lib/python3.7/urllib/parse.py\u001b[0m in \u001b[0;36mquote\u001b[0;34m(string, safe, encoding, errors)\u001b[0m\n\u001b[1;32m    851\u001b[0m         \u001b[0;32mif\u001b[0m \u001b[0merrors\u001b[0m \u001b[0;32mis\u001b[0m \u001b[0;32mnot\u001b[0m \u001b[0;32mNone\u001b[0m\u001b[0;34m:\u001b[0m\u001b[0;34m\u001b[0m\u001b[0;34m\u001b[0m\u001b[0m\n\u001b[1;32m    852\u001b[0m             \u001b[0;32mraise\u001b[0m \u001b[0mTypeError\u001b[0m\u001b[0;34m(\u001b[0m\u001b[0;34m\"quote() doesn't support 'errors' for bytes\"\u001b[0m\u001b[0;34m)\u001b[0m\u001b[0;34m\u001b[0m\u001b[0;34m\u001b[0m\u001b[0m\n\u001b[0;32m--> 853\u001b[0;31m     \u001b[0;32mreturn\u001b[0m \u001b[0mquote_from_bytes\u001b[0m\u001b[0;34m(\u001b[0m\u001b[0mstring\u001b[0m\u001b[0;34m,\u001b[0m \u001b[0msafe\u001b[0m\u001b[0;34m)\u001b[0m\u001b[0;34m\u001b[0m\u001b[0;34m\u001b[0m\u001b[0m\n\u001b[0m\u001b[1;32m    854\u001b[0m \u001b[0;34m\u001b[0m\u001b[0m\n\u001b[1;32m    855\u001b[0m \u001b[0;32mdef\u001b[0m \u001b[0mquote_plus\u001b[0m\u001b[0;34m(\u001b[0m\u001b[0mstring\u001b[0m\u001b[0;34m,\u001b[0m \u001b[0msafe\u001b[0m\u001b[0;34m=\u001b[0m\u001b[0;34m''\u001b[0m\u001b[0;34m,\u001b[0m \u001b[0mencoding\u001b[0m\u001b[0;34m=\u001b[0m\u001b[0;32mNone\u001b[0m\u001b[0;34m,\u001b[0m \u001b[0merrors\u001b[0m\u001b[0;34m=\u001b[0m\u001b[0;32mNone\u001b[0m\u001b[0;34m)\u001b[0m\u001b[0;34m:\u001b[0m\u001b[0;34m\u001b[0m\u001b[0;34m\u001b[0m\u001b[0m\n",
            "\u001b[0;32m/usr/lib/python3.7/urllib/parse.py\u001b[0m in \u001b[0;36mquote_from_bytes\u001b[0;34m(bs, safe)\u001b[0m\n\u001b[1;32m    876\u001b[0m     \"\"\"\n\u001b[1;32m    877\u001b[0m     \u001b[0;32mif\u001b[0m \u001b[0;32mnot\u001b[0m \u001b[0misinstance\u001b[0m\u001b[0;34m(\u001b[0m\u001b[0mbs\u001b[0m\u001b[0;34m,\u001b[0m \u001b[0;34m(\u001b[0m\u001b[0mbytes\u001b[0m\u001b[0;34m,\u001b[0m \u001b[0mbytearray\u001b[0m\u001b[0;34m)\u001b[0m\u001b[0;34m)\u001b[0m\u001b[0;34m:\u001b[0m\u001b[0;34m\u001b[0m\u001b[0;34m\u001b[0m\u001b[0m\n\u001b[0;32m--> 878\u001b[0;31m         \u001b[0;32mraise\u001b[0m \u001b[0mTypeError\u001b[0m\u001b[0;34m(\u001b[0m\u001b[0;34m\"quote_from_bytes() expected bytes\"\u001b[0m\u001b[0;34m)\u001b[0m\u001b[0;34m\u001b[0m\u001b[0;34m\u001b[0m\u001b[0m\n\u001b[0m\u001b[1;32m    879\u001b[0m     \u001b[0;32mif\u001b[0m \u001b[0;32mnot\u001b[0m \u001b[0mbs\u001b[0m\u001b[0;34m:\u001b[0m\u001b[0;34m\u001b[0m\u001b[0;34m\u001b[0m\u001b[0m\n\u001b[1;32m    880\u001b[0m         \u001b[0;32mreturn\u001b[0m \u001b[0;34m''\u001b[0m\u001b[0;34m\u001b[0m\u001b[0;34m\u001b[0m\u001b[0m\n",
            "\u001b[0;31mTypeError\u001b[0m: quote_from_bytes() expected bytes"
          ]
        }
      ]
    },
    {
      "cell_type": "code",
      "source": [
        ""
      ],
      "metadata": {
        "colab": {
          "base_uri": "https://localhost:8080/",
          "height": 424
        },
        "id": "myyeN0pJq7Cw",
        "outputId": "4feebce5-77ea-434a-e6f3-6c431f729c76"
      },
      "execution_count": 180,
      "outputs": [
        {
          "output_type": "execute_result",
          "data": {
            "text/html": [
              "\n",
              "  <div id=\"df-fcdf6bda-19d9-4802-97bb-7ae173bbae17\">\n",
              "    <div class=\"colab-df-container\">\n",
              "      <div>\n",
              "<style scoped>\n",
              "    .dataframe tbody tr th:only-of-type {\n",
              "        vertical-align: middle;\n",
              "    }\n",
              "\n",
              "    .dataframe tbody tr th {\n",
              "        vertical-align: top;\n",
              "    }\n",
              "\n",
              "    .dataframe thead th {\n",
              "        text-align: right;\n",
              "    }\n",
              "</style>\n",
              "<table border=\"1\" class=\"dataframe\">\n",
              "  <thead>\n",
              "    <tr style=\"text-align: right;\">\n",
              "      <th></th>\n",
              "      <th>company</th>\n",
              "      <th>description</th>\n",
              "      <th>overallRating</th>\n",
              "      <th>individualStar</th>\n",
              "      <th>reviewCount</th>\n",
              "    </tr>\n",
              "  </thead>\n",
              "  <tbody>\n",
              "    <tr>\n",
              "      <th>0</th>\n",
              "      <td>삼성전자</td>\n",
              "      <td>삼성전자는 삼성그룹 계열사로 휴대폰, 컴퓨터, 네트워크시스템, 반도체부품, 디스플레...</td>\n",
              "      <td>Rating Score3.5</td>\n",
              "      <td>[3.2, 3.1, 3.7, 3.2, 2.6]</td>\n",
              "      <td>7,097개 리뷰</td>\n",
              "    </tr>\n",
              "    <tr>\n",
              "      <th>1</th>\n",
              "      <td>SK하이닉스</td>\n",
              "      <td>SK하이닉스는 반도체 전문기업으로 반도체, 컴퓨터, 통신기기 제조 등의 사업을 영위...</td>\n",
              "      <td>Rating Score2.3</td>\n",
              "      <td>[2.2, 2.3, 2.5, 2.2, 1.8]</td>\n",
              "      <td>3,277개 리뷰</td>\n",
              "    </tr>\n",
              "    <tr>\n",
              "      <th>2</th>\n",
              "      <td>한국전력공사</td>\n",
              "      <td>한국전력공사는 국민경제 발전 기여를 목적으로 설립된 법인으로 시장형 공기업에 해당합...</td>\n",
              "      <td>Rating Score4.0</td>\n",
              "      <td>[3.4, 4.2, 3.9, 3.1, 3.0]</td>\n",
              "      <td>1,668개 리뷰</td>\n",
              "    </tr>\n",
              "    <tr>\n",
              "      <th>3</th>\n",
              "      <td>SK</td>\n",
              "      <td>SK는 에너지, 화학, 정보통신, 반도체, 마케팅, 바이오, 물류 부문에서 사업을 ...</td>\n",
              "      <td>Rating Score3.5</td>\n",
              "      <td>[3.1, 4.6, 3.2, 3.7, 2.8]</td>\n",
              "      <td>14개 리뷰</td>\n",
              "    </tr>\n",
              "    <tr>\n",
              "      <th>4</th>\n",
              "      <td>SK이노베이션</td>\n",
              "      <td>SK이노베이션은 에너지, 화학 분야를 선도하는 기업으로 석유개발, 정유, 화학, 윤...</td>\n",
              "      <td>Rating Score3.9</td>\n",
              "      <td>[3.6, 3.9, 3.8, 3.9, 3.3]</td>\n",
              "      <td>729개 리뷰</td>\n",
              "    </tr>\n",
              "    <tr>\n",
              "      <th>...</th>\n",
              "      <td>...</td>\n",
              "      <td>...</td>\n",
              "      <td>...</td>\n",
              "      <td>...</td>\n",
              "      <td>...</td>\n",
              "    </tr>\n",
              "    <tr>\n",
              "      <th>485</th>\n",
              "      <td>LG디스플레이</td>\n",
              "      <td>LG디스플레이는 OLED, Curved OLED 등의 제조 기술력을 보유하고 있는 ...</td>\n",
              "      <td>Rating Score2.9</td>\n",
              "      <td>[2.8, 2.9, 2.8, 2.7, 2.3]</td>\n",
              "      <td>1,659개 리뷰</td>\n",
              "    </tr>\n",
              "    <tr>\n",
              "      <th>486</th>\n",
              "      <td>S-Oil</td>\n",
              "      <td>S-OIL은 수익성 있는 지속성장을 미션으로 하는 정유/석유화학 업계의 대표회사입니...</td>\n",
              "      <td>Rating Score3.4</td>\n",
              "      <td>[2.7, 3.7, 3.8, 2.7, 2.1]</td>\n",
              "      <td>212개 리뷰</td>\n",
              "    </tr>\n",
              "    <tr>\n",
              "      <th>487</th>\n",
              "      <td>롯데쇼핑</td>\n",
              "      <td>롯데쇼핑은 롯데그룹의 계열사로 백화점, 할인점, 전자제품전문점, 슈퍼, TV홈쇼핑 ...</td>\n",
              "      <td>Rating Score2.6</td>\n",
              "      <td>[2.4, 2.9, 2.4, 2.2, 1.8]</td>\n",
              "      <td>807개 리뷰</td>\n",
              "    </tr>\n",
              "    <tr>\n",
              "      <th>488</th>\n",
              "      <td>삼성중공업</td>\n",
              "      <td>삼성중공업은 강선 건조업을 주 업으로 하는 삼성그룹의 계열사입니다. 다양한 종류의 ...</td>\n",
              "      <td>Rating Score2.1</td>\n",
              "      <td>[2.2, 3.3, 1.8, 2.1, 1.4]</td>\n",
              "      <td>746개 리뷰</td>\n",
              "    </tr>\n",
              "    <tr>\n",
              "      <th>489</th>\n",
              "      <td>두산중공업</td>\n",
              "      <td>두산중공업은 두산그룹 계열사로 기관, 터빈, 선박용엔진 등의 생산 및 공급을 주요 ...</td>\n",
              "      <td>Rating Score2.9</td>\n",
              "      <td>[2.8, 4.2, 2.5, 3.1, 2.0]</td>\n",
              "      <td>454개 리뷰</td>\n",
              "    </tr>\n",
              "  </tbody>\n",
              "</table>\n",
              "<p>490 rows × 5 columns</p>\n",
              "</div>\n",
              "      <button class=\"colab-df-convert\" onclick=\"convertToInteractive('df-fcdf6bda-19d9-4802-97bb-7ae173bbae17')\"\n",
              "              title=\"Convert this dataframe to an interactive table.\"\n",
              "              style=\"display:none;\">\n",
              "        \n",
              "  <svg xmlns=\"http://www.w3.org/2000/svg\" height=\"24px\"viewBox=\"0 0 24 24\"\n",
              "       width=\"24px\">\n",
              "    <path d=\"M0 0h24v24H0V0z\" fill=\"none\"/>\n",
              "    <path d=\"M18.56 5.44l.94 2.06.94-2.06 2.06-.94-2.06-.94-.94-2.06-.94 2.06-2.06.94zm-11 1L8.5 8.5l.94-2.06 2.06-.94-2.06-.94L8.5 2.5l-.94 2.06-2.06.94zm10 10l.94 2.06.94-2.06 2.06-.94-2.06-.94-.94-2.06-.94 2.06-2.06.94z\"/><path d=\"M17.41 7.96l-1.37-1.37c-.4-.4-.92-.59-1.43-.59-.52 0-1.04.2-1.43.59L10.3 9.45l-7.72 7.72c-.78.78-.78 2.05 0 2.83L4 21.41c.39.39.9.59 1.41.59.51 0 1.02-.2 1.41-.59l7.78-7.78 2.81-2.81c.8-.78.8-2.07 0-2.86zM5.41 20L4 18.59l7.72-7.72 1.47 1.35L5.41 20z\"/>\n",
              "  </svg>\n",
              "      </button>\n",
              "      \n",
              "  <style>\n",
              "    .colab-df-container {\n",
              "      display:flex;\n",
              "      flex-wrap:wrap;\n",
              "      gap: 12px;\n",
              "    }\n",
              "\n",
              "    .colab-df-convert {\n",
              "      background-color: #E8F0FE;\n",
              "      border: none;\n",
              "      border-radius: 50%;\n",
              "      cursor: pointer;\n",
              "      display: none;\n",
              "      fill: #1967D2;\n",
              "      height: 32px;\n",
              "      padding: 0 0 0 0;\n",
              "      width: 32px;\n",
              "    }\n",
              "\n",
              "    .colab-df-convert:hover {\n",
              "      background-color: #E2EBFA;\n",
              "      box-shadow: 0px 1px 2px rgba(60, 64, 67, 0.3), 0px 1px 3px 1px rgba(60, 64, 67, 0.15);\n",
              "      fill: #174EA6;\n",
              "    }\n",
              "\n",
              "    [theme=dark] .colab-df-convert {\n",
              "      background-color: #3B4455;\n",
              "      fill: #D2E3FC;\n",
              "    }\n",
              "\n",
              "    [theme=dark] .colab-df-convert:hover {\n",
              "      background-color: #434B5C;\n",
              "      box-shadow: 0px 1px 3px 1px rgba(0, 0, 0, 0.15);\n",
              "      filter: drop-shadow(0px 1px 2px rgba(0, 0, 0, 0.3));\n",
              "      fill: #FFFFFF;\n",
              "    }\n",
              "  </style>\n",
              "\n",
              "      <script>\n",
              "        const buttonEl =\n",
              "          document.querySelector('#df-fcdf6bda-19d9-4802-97bb-7ae173bbae17 button.colab-df-convert');\n",
              "        buttonEl.style.display =\n",
              "          google.colab.kernel.accessAllowed ? 'block' : 'none';\n",
              "\n",
              "        async function convertToInteractive(key) {\n",
              "          const element = document.querySelector('#df-fcdf6bda-19d9-4802-97bb-7ae173bbae17');\n",
              "          const dataTable =\n",
              "            await google.colab.kernel.invokeFunction('convertToInteractive',\n",
              "                                                     [key], {});\n",
              "          if (!dataTable) return;\n",
              "\n",
              "          const docLinkHtml = 'Like what you see? Visit the ' +\n",
              "            '<a target=\"_blank\" href=https://colab.research.google.com/notebooks/data_table.ipynb>data table notebook</a>'\n",
              "            + ' to learn more about interactive tables.';\n",
              "          element.innerHTML = '';\n",
              "          dataTable['output_type'] = 'display_data';\n",
              "          await google.colab.output.renderOutput(dataTable, element);\n",
              "          const docLink = document.createElement('div');\n",
              "          docLink.innerHTML = docLinkHtml;\n",
              "          element.appendChild(docLink);\n",
              "        }\n",
              "      </script>\n",
              "    </div>\n",
              "  </div>\n",
              "  "
            ],
            "text/plain": [
              "     company  ... reviewCount\n",
              "0       삼성전자  ...   7,097개 리뷰\n",
              "1     SK하이닉스  ...   3,277개 리뷰\n",
              "2     한국전력공사  ...   1,668개 리뷰\n",
              "3         SK  ...      14개 리뷰\n",
              "4    SK이노베이션  ...     729개 리뷰\n",
              "..       ...  ...         ...\n",
              "485  LG디스플레이  ...   1,659개 리뷰\n",
              "486    S-Oil  ...     212개 리뷰\n",
              "487     롯데쇼핑  ...     807개 리뷰\n",
              "488    삼성중공업  ...     746개 리뷰\n",
              "489    두산중공업  ...     454개 리뷰\n",
              "\n",
              "[490 rows x 5 columns]"
            ]
          },
          "metadata": {},
          "execution_count": 180
        }
      ]
    },
    {
      "cell_type": "code",
      "source": [
        "df.to_csv(\"/content/gdrive/MyDrive/dataset/JobMarket/completeList.csv\") # for back up"
      ],
      "metadata": {
        "id": "Qz9PNarURYM7"
      },
      "execution_count": 181,
      "outputs": []
    },
    {
      "cell_type": "code",
      "source": [
        "df.sample(5)"
      ],
      "metadata": {
        "colab": {
          "base_uri": "https://localhost:8080/",
          "height": 206
        },
        "id": "-5bzbO4dq_oL",
        "outputId": "8a0cddad-057a-4423-8e6d-7573e9af51ce"
      },
      "execution_count": 183,
      "outputs": [
        {
          "output_type": "execute_result",
          "data": {
            "text/html": [
              "\n",
              "  <div id=\"df-ac554a22-b4e1-456e-8b27-4ca4fb3d495b\">\n",
              "    <div class=\"colab-df-container\">\n",
              "      <div>\n",
              "<style scoped>\n",
              "    .dataframe tbody tr th:only-of-type {\n",
              "        vertical-align: middle;\n",
              "    }\n",
              "\n",
              "    .dataframe tbody tr th {\n",
              "        vertical-align: top;\n",
              "    }\n",
              "\n",
              "    .dataframe thead th {\n",
              "        text-align: right;\n",
              "    }\n",
              "</style>\n",
              "<table border=\"1\" class=\"dataframe\">\n",
              "  <thead>\n",
              "    <tr style=\"text-align: right;\">\n",
              "      <th></th>\n",
              "      <th>company</th>\n",
              "      <th>description</th>\n",
              "      <th>overallRating</th>\n",
              "      <th>individualStar</th>\n",
              "      <th>reviewCount</th>\n",
              "    </tr>\n",
              "  </thead>\n",
              "  <tbody>\n",
              "    <tr>\n",
              "      <th>439</th>\n",
              "      <td>메드팩토</td>\n",
              "      <td>접기</td>\n",
              "      <td>Rating Score2.0</td>\n",
              "      <td>[2.0, 4.0, 2.0, 2.5, 2.5]</td>\n",
              "      <td>2개 리뷰</td>\n",
              "    </tr>\n",
              "    <tr>\n",
              "      <th>395</th>\n",
              "      <td>알서포트</td>\n",
              "      <td>접기</td>\n",
              "      <td>Rating Score2.8</td>\n",
              "      <td>[3.0, 3.5, 2.3, 2.4, 1.8]</td>\n",
              "      <td>91개 리뷰</td>\n",
              "    </tr>\n",
              "    <tr>\n",
              "      <th>167</th>\n",
              "      <td>한국카본</td>\n",
              "      <td>접기</td>\n",
              "      <td>Rating Score2.7</td>\n",
              "      <td>[2.7, 3.3, 2.1, 2.5, 1.7]</td>\n",
              "      <td>37개 리뷰</td>\n",
              "    </tr>\n",
              "    <tr>\n",
              "      <th>357</th>\n",
              "      <td>크래프톤</td>\n",
              "      <td>크래프톤은 테라, 배틀그라운드, 볼링킹 등 다양한 장르의 게임을 출시한 개발사입니다...</td>\n",
              "      <td>Rating Score3.4</td>\n",
              "      <td>[3.4, 2.9, 3.9, 3.2, 2.7]</td>\n",
              "      <td>201개 리뷰</td>\n",
              "    </tr>\n",
              "    <tr>\n",
              "      <th>2</th>\n",
              "      <td>한국전력공사</td>\n",
              "      <td>한국전력공사는 국민경제 발전 기여를 목적으로 설립된 법인으로 시장형 공기업에 해당합...</td>\n",
              "      <td>Rating Score4.0</td>\n",
              "      <td>[3.4, 4.2, 3.9, 3.1, 3.0]</td>\n",
              "      <td>1,668개 리뷰</td>\n",
              "    </tr>\n",
              "  </tbody>\n",
              "</table>\n",
              "</div>\n",
              "      <button class=\"colab-df-convert\" onclick=\"convertToInteractive('df-ac554a22-b4e1-456e-8b27-4ca4fb3d495b')\"\n",
              "              title=\"Convert this dataframe to an interactive table.\"\n",
              "              style=\"display:none;\">\n",
              "        \n",
              "  <svg xmlns=\"http://www.w3.org/2000/svg\" height=\"24px\"viewBox=\"0 0 24 24\"\n",
              "       width=\"24px\">\n",
              "    <path d=\"M0 0h24v24H0V0z\" fill=\"none\"/>\n",
              "    <path d=\"M18.56 5.44l.94 2.06.94-2.06 2.06-.94-2.06-.94-.94-2.06-.94 2.06-2.06.94zm-11 1L8.5 8.5l.94-2.06 2.06-.94-2.06-.94L8.5 2.5l-.94 2.06-2.06.94zm10 10l.94 2.06.94-2.06 2.06-.94-2.06-.94-.94-2.06-.94 2.06-2.06.94z\"/><path d=\"M17.41 7.96l-1.37-1.37c-.4-.4-.92-.59-1.43-.59-.52 0-1.04.2-1.43.59L10.3 9.45l-7.72 7.72c-.78.78-.78 2.05 0 2.83L4 21.41c.39.39.9.59 1.41.59.51 0 1.02-.2 1.41-.59l7.78-7.78 2.81-2.81c.8-.78.8-2.07 0-2.86zM5.41 20L4 18.59l7.72-7.72 1.47 1.35L5.41 20z\"/>\n",
              "  </svg>\n",
              "      </button>\n",
              "      \n",
              "  <style>\n",
              "    .colab-df-container {\n",
              "      display:flex;\n",
              "      flex-wrap:wrap;\n",
              "      gap: 12px;\n",
              "    }\n",
              "\n",
              "    .colab-df-convert {\n",
              "      background-color: #E8F0FE;\n",
              "      border: none;\n",
              "      border-radius: 50%;\n",
              "      cursor: pointer;\n",
              "      display: none;\n",
              "      fill: #1967D2;\n",
              "      height: 32px;\n",
              "      padding: 0 0 0 0;\n",
              "      width: 32px;\n",
              "    }\n",
              "\n",
              "    .colab-df-convert:hover {\n",
              "      background-color: #E2EBFA;\n",
              "      box-shadow: 0px 1px 2px rgba(60, 64, 67, 0.3), 0px 1px 3px 1px rgba(60, 64, 67, 0.15);\n",
              "      fill: #174EA6;\n",
              "    }\n",
              "\n",
              "    [theme=dark] .colab-df-convert {\n",
              "      background-color: #3B4455;\n",
              "      fill: #D2E3FC;\n",
              "    }\n",
              "\n",
              "    [theme=dark] .colab-df-convert:hover {\n",
              "      background-color: #434B5C;\n",
              "      box-shadow: 0px 1px 3px 1px rgba(0, 0, 0, 0.15);\n",
              "      filter: drop-shadow(0px 1px 2px rgba(0, 0, 0, 0.3));\n",
              "      fill: #FFFFFF;\n",
              "    }\n",
              "  </style>\n",
              "\n",
              "      <script>\n",
              "        const buttonEl =\n",
              "          document.querySelector('#df-ac554a22-b4e1-456e-8b27-4ca4fb3d495b button.colab-df-convert');\n",
              "        buttonEl.style.display =\n",
              "          google.colab.kernel.accessAllowed ? 'block' : 'none';\n",
              "\n",
              "        async function convertToInteractive(key) {\n",
              "          const element = document.querySelector('#df-ac554a22-b4e1-456e-8b27-4ca4fb3d495b');\n",
              "          const dataTable =\n",
              "            await google.colab.kernel.invokeFunction('convertToInteractive',\n",
              "                                                     [key], {});\n",
              "          if (!dataTable) return;\n",
              "\n",
              "          const docLinkHtml = 'Like what you see? Visit the ' +\n",
              "            '<a target=\"_blank\" href=https://colab.research.google.com/notebooks/data_table.ipynb>data table notebook</a>'\n",
              "            + ' to learn more about interactive tables.';\n",
              "          element.innerHTML = '';\n",
              "          dataTable['output_type'] = 'display_data';\n",
              "          await google.colab.output.renderOutput(dataTable, element);\n",
              "          const docLink = document.createElement('div');\n",
              "          docLink.innerHTML = docLinkHtml;\n",
              "          element.appendChild(docLink);\n",
              "        }\n",
              "      </script>\n",
              "    </div>\n",
              "  </div>\n",
              "  "
            ],
            "text/plain": [
              "    company  ... reviewCount\n",
              "439    메드팩토  ...       2개 리뷰\n",
              "395    알서포트  ...      91개 리뷰\n",
              "167    한국카본  ...      37개 리뷰\n",
              "357    크래프톤  ...     201개 리뷰\n",
              "2    한국전력공사  ...   1,668개 리뷰\n",
              "\n",
              "[5 rows x 5 columns]"
            ]
          },
          "metadata": {},
          "execution_count": 183
        }
      ]
    },
    {
      "cell_type": "code",
      "source": [
        "from konlpy.tag import Okt\n",
        "okt = Okt()"
      ],
      "metadata": {
        "id": "gRMZ0xm5rPQ6"
      },
      "execution_count": 188,
      "outputs": []
    },
    {
      "cell_type": "code",
      "source": [
        "okt.nouns('안녕하십니까, 대선 4자 가상 대결입니다')"
      ],
      "metadata": {
        "colab": {
          "base_uri": "https://localhost:8080/"
        },
        "id": "VT3R3tG6rPUB",
        "outputId": "eb841227-b79c-45a0-dd47-f570bcca260a"
      },
      "execution_count": 189,
      "outputs": [
        {
          "output_type": "execute_result",
          "data": {
            "text/plain": [
              "['안녕하십니까', '대선', '자', '가상', '대결']"
            ]
          },
          "metadata": {},
          "execution_count": 189
        }
      ]
    },
    {
      "cell_type": "code",
      "source": [
        "pd.DataFrame(df[df.description.isnull()].company[30:]).to_csv(\"/content/gdrive/MyDrive/dataset/JobMarket/wrongnames.csv\")"
      ],
      "metadata": {
        "id": "P3_Hi3sdrPW6"
      },
      "execution_count": 208,
      "outputs": []
    },
    {
      "cell_type": "code",
      "source": [
        "솔브레인홀딩스 -> 솔브레인 5\n",
        "KB금융 -> KB금융지주 6\n",
        "신한지주 -> 신한금융지주회사 8\n",
        "삼성화재 -> 삼성화재해상보험 17\n",
        "엔씨소프트 -> NCSOFT 23\n",
        "우리금융지주 ->\n",
        "미래에셋증권 -> 미래에셋대우\n",
        "현대차 -> 현대자동차\n",
        "DL -> DL이앤씨\n",
        "금호석유 -> 금호석유화학\n",
        "\u001c메리츠증권 -> 메리츠종금증권\n",
        "현대해상 -> 현대해상화재보험\n",
        "삼성에스디에스 -> 삼성SDS\n",
        "BNK금융지주 -> BNK투자증권\n",
        "코오롱인더 -> 코오롱인더스트리\n",
        "한국금융지주 -> 한국투자증권\n",
        "서울가스 -> 서울도시가스\n",
        "코리안리 -> 코리안리재보험\n",
        "KCC글라스 -> KCC\n",
        "한국콜마홀딩스 -> 한국콜마\n",
        "동양생명 -> 동양생명보험\n",
        "에스에프에이 -> SFA\n",
        "LS ELECTRIC - > LS일렉트릭\n",
        "\n",
        "현대중공업지주 -> 현대중공업\n",
        "한국항공우주 -> 한국항공우주산업\n",
        "쿠쿠홈시스 -> 쿠쿠전자\n",
        "웹젠\n",
        "우리종금\n",
        "SK디앤디\n",
        "HMM"
      ],
      "metadata": {
        "id": "f6aPTLX8rPZg"
      },
      "execution_count": null,
      "outputs": []
    },
    {
      "cell_type": "code",
      "source": [
        ""
      ],
      "metadata": {
        "id": "ufWfhEg1rPcW"
      },
      "execution_count": null,
      "outputs": []
    },
    {
      "cell_type": "code",
      "source": [
        ""
      ],
      "metadata": {
        "id": "QGcIWVDxrPfP"
      },
      "execution_count": null,
      "outputs": []
    },
    {
      "cell_type": "code",
      "source": [
        ""
      ],
      "metadata": {
        "id": "qLU06qRprPhz"
      },
      "execution_count": null,
      "outputs": []
    },
    {
      "cell_type": "code",
      "source": [
        ""
      ],
      "metadata": {
        "id": "Us0XbHVbrPkb"
      },
      "execution_count": null,
      "outputs": []
    }
  ]
}
