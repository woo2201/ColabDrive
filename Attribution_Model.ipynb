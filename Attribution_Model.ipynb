{
  "nbformat": 4,
  "nbformat_minor": 0,
  "metadata": {
    "colab": {
      "name": "Attribution_Model.ipynb",
      "provenance": [],
      "authorship_tag": "ABX9TyNBIbe9qlWcWC5Rk7rNBPs6",
      "include_colab_link": true
    },
    "kernelspec": {
      "name": "python3",
      "display_name": "Python 3"
    },
    "language_info": {
      "name": "python"
    }
  },
  "cells": [
    {
      "cell_type": "markdown",
      "metadata": {
        "id": "view-in-github",
        "colab_type": "text"
      },
      "source": [
        "<a href=\"https://colab.research.google.com/github/woo2201/sampleCases/blob/reservior/Attribution_Model.ipynb\" target=\"_parent\"><img src=\"https://colab.research.google.com/assets/colab-badge.svg\" alt=\"Open In Colab\"/></a>"
      ]
    },
    {
      "cell_type": "code",
      "execution_count": null,
      "metadata": {
        "colab": {
          "base_uri": "https://localhost:8080/"
        },
        "id": "5OBv4ADvJzAh",
        "outputId": "43293f99-998c-4bdc-cc73-4619bca46158"
      },
      "outputs": [
        {
          "output_type": "stream",
          "name": "stdout",
          "text": [
            "Mounted at /content/gdrive\n"
          ]
        }
      ],
      "source": [
        "from google.colab import drive \n",
        "drive.mount('/content/gdrive')"
      ]
    },
    {
      "cell_type": "code",
      "source": [
        "cd /content/gdrive/MyDrive/dataset/Lifeplanet/Analytics_45000"
      ],
      "metadata": {
        "colab": {
          "base_uri": "https://localhost:8080/"
        },
        "id": "80Zgx1JmKAuc",
        "outputId": "a39318cf-350d-46c0-d724-2bec0930fc51"
      },
      "execution_count": null,
      "outputs": [
        {
          "output_type": "stream",
          "name": "stdout",
          "text": [
            "/content/gdrive/MyDrive/dataset/Lifeplanet/Analytics_45000\n"
          ]
        }
      ]
    },
    {
      "cell_type": "code",
      "source": [
        "import os\n",
        "import glob\n",
        "import numpy as np\n",
        "import pandas as pd"
      ],
      "metadata": {
        "id": "ZQwvn0wjLEE0"
      },
      "execution_count": null,
      "outputs": []
    },
    {
      "cell_type": "code",
      "source": [
        "path = \"/content/gdrive/MyDrive/dataset/Lifeplanet/Analytics_45000/\"\n",
        "filenames = glob.glob(path + \"*.csv\")\n",
        "data = [var.split('.')[0].split('/')[-1] for var in filenames]\n",
        "\n",
        "# dynamically allocate df names.\n",
        "for name in zip(filenames, data):\n",
        "        loc = list(name)[0]\n",
        "        val = list(name)[1]\n",
        "        globals()[val] = pd.read_csv(loc, sep='delimiter', header=None, engine = 'python')"
      ],
      "metadata": {
        "id": "tpcmmLbJKAxw"
      },
      "execution_count": null,
      "outputs": []
    },
    {
      "cell_type": "code",
      "source": [
        "data"
      ],
      "metadata": {
        "colab": {
          "base_uri": "https://localhost:8080/"
        },
        "id": "-8WtTMi_LIu9",
        "outputId": "5b00e5d1-a7e4-45f1-8588-a363387d1d1e"
      },
      "execution_count": null,
      "outputs": [
        {
          "output_type": "execute_result",
          "data": {
            "text/plain": [
              "['Analytics_01',\n",
              " 'Analytics_02',\n",
              " 'Analytics_03',\n",
              " 'Analytics_04',\n",
              " 'Analytics_05',\n",
              " 'Analytics_06',\n",
              " 'Analytics_07',\n",
              " 'Analytics_08',\n",
              " 'Analytics_09',\n",
              " 'Analytics_10']"
            ]
          },
          "metadata": {},
          "execution_count": 5
        }
      ]
    },
    {
      "cell_type": "code",
      "source": [
        "def preprocessing(df):\n",
        "\n",
        "    df = df[6:]\n",
        "    df.columns = df.columns.astype(str)\n",
        "    df.rename(columns = {'0':'vector_1'}, inplace = True)\n",
        "\n",
        "    return df"
      ],
      "metadata": {
        "id": "aS87XtLeUXUv"
      },
      "execution_count": null,
      "outputs": []
    },
    {
      "cell_type": "code",
      "source": [
        "df = pd.concat([preprocessing(Analytics_01),\n",
        "                preprocessing(Analytics_02),\n",
        "                preprocessing(Analytics_03),\n",
        "                preprocessing(Analytics_04),\n",
        "                preprocessing(Analytics_05),\n",
        "                preprocessing(Analytics_06),\n",
        "                preprocessing(Analytics_07),\n",
        "                preprocessing(Analytics_08),\n",
        "                preprocessing(Analytics_09),\n",
        "                preprocessing(Analytics_10),])"
      ],
      "metadata": {
        "colab": {
          "base_uri": "https://localhost:8080/"
        },
        "id": "GDR35pNfUKf8",
        "outputId": "9d34a91b-d005-44a6-e34d-21bc25bee40d"
      },
      "execution_count": null,
      "outputs": [
        {
          "output_type": "stream",
          "name": "stderr",
          "text": [
            "/usr/local/lib/python3.7/dist-packages/pandas/core/frame.py:5047: SettingWithCopyWarning: \n",
            "A value is trying to be set on a copy of a slice from a DataFrame\n",
            "\n",
            "See the caveats in the documentation: https://pandas.pydata.org/pandas-docs/stable/user_guide/indexing.html#returning-a-view-versus-a-copy\n",
            "  errors=errors,\n"
          ]
        }
      ]
    },
    {
      "cell_type": "code",
      "source": [
        "df = df.reset_index()"
      ],
      "metadata": {
        "id": "6iY-RpW1UTiR"
      },
      "execution_count": null,
      "outputs": []
    },
    {
      "cell_type": "code",
      "source": [
        "df = df.drop(['index'], axis = 1)"
      ],
      "metadata": {
        "id": "2-ZpidciVBDE"
      },
      "execution_count": null,
      "outputs": []
    },
    {
      "cell_type": "code",
      "source": [
        "df = df['vector_1'].str.split(',', expand = True)"
      ],
      "metadata": {
        "id": "AJWTaLE8Sp44"
      },
      "execution_count": null,
      "outputs": []
    },
    {
      "cell_type": "code",
      "source": [
        "df.columns = df.columns.astype(str)"
      ],
      "metadata": {
        "id": "PIh6uzwrStRS"
      },
      "execution_count": null,
      "outputs": []
    },
    {
      "cell_type": "code",
      "source": [
        "df = df.add_prefix('temp_')"
      ],
      "metadata": {
        "id": "Uqvja5jqVX62"
      },
      "execution_count": null,
      "outputs": []
    },
    {
      "cell_type": "code",
      "source": [
        "df.fillna('-', inplace = True)"
      ],
      "metadata": {
        "id": "KBTeYpEvVc7s"
      },
      "execution_count": null,
      "outputs": []
    },
    {
      "cell_type": "code",
      "source": [
        "df['rslt'] = df['temp_1'] + df['temp_2'] + df['temp_3'] + df['temp_4'] + df['temp_5']"
      ],
      "metadata": {
        "id": "PfyXjT9VVpdx"
      },
      "execution_count": null,
      "outputs": []
    },
    {
      "cell_type": "code",
      "source": [
        "df = pd.concat([df, df['rslt'].str.split('₩', expand = True).add_prefix('temps_')], axis = 1)"
      ],
      "metadata": {
        "id": "tsnfxxsEV1JK"
      },
      "execution_count": null,
      "outputs": []
    },
    {
      "cell_type": "code",
      "source": [
        "df = df.drop(['temp_1', 'temp_2', 'temp_3', 'temp_4', 'temp_5', 'rslt'], axis = 1)"
      ],
      "metadata": {
        "id": "z0yDVWplXYvm"
      },
      "execution_count": null,
      "outputs": []
    },
    {
      "cell_type": "code",
      "source": [
        "import re\n",
        "\n",
        "def clean_text(inputString):\n",
        "\n",
        "  text_rmv = re.sub('[-=+,#/\\?:^.@*\\\"※~ㆍ!』‘|\\(\\)\\[\\]`\\'…》\\”\\“\\’·]', ' ', inputString)\n",
        "  text_rmv = ' '.join(text_rmv.split())\n",
        "\n",
        "  return text_rmv"
      ],
      "metadata": {
        "id": "gp0MnAE7Xhak"
      },
      "execution_count": null,
      "outputs": []
    },
    {
      "cell_type": "code",
      "source": [
        "df['temps_0'] = df['temps_0'].apply(lambda x: clean_text(x))\n",
        "df['temps_1'] = df['temps_1'].apply(lambda x: clean_text(x))"
      ],
      "metadata": {
        "id": "VkTXjtJcYY6G"
      },
      "execution_count": null,
      "outputs": []
    },
    {
      "cell_type": "code",
      "source": [
        "df['temp_seq'] = df['temp_0'].str.split('>', expand = False)"
      ],
      "metadata": {
        "id": "0d2HOQWbBZAI"
      },
      "execution_count": null,
      "outputs": []
    },
    {
      "cell_type": "code",
      "source": [
        "df['temp_seq'] = df['temp_seq'].apply(lambda x : [i.strip() for i in x])"
      ],
      "metadata": {
        "id": "IrGoyPTVEPFg"
      },
      "execution_count": null,
      "outputs": []
    },
    {
      "cell_type": "code",
      "source": [
        "# df['temp_seq'][1335:5151]"
      ],
      "metadata": {
        "id": "eseOHZptC-8l"
      },
      "execution_count": null,
      "outputs": []
    },
    {
      "cell_type": "code",
      "source": [
        "from itertools import groupby\n",
        "df['temp_seq'] = df['temp_seq'].apply(lambda x : [k for k, _ in groupby(x)])"
      ],
      "metadata": {
        "id": "Dr_R_7jGCn9P"
      },
      "execution_count": null,
      "outputs": []
    },
    {
      "cell_type": "code",
      "source": [
        "df = df[['temp_seq', 'temps_0', 'temps_1']]"
      ],
      "metadata": {
        "id": "WtauxHTjGvqR"
      },
      "execution_count": null,
      "outputs": []
    },
    {
      "cell_type": "code",
      "source": [
        "df"
      ],
      "metadata": {
        "colab": {
          "base_uri": "https://localhost:8080/",
          "height": 423
        },
        "id": "v-x83bMZG8n9",
        "outputId": "f4f38997-dd29-4f98-f8fd-2caa3542b00c"
      },
      "execution_count": null,
      "outputs": [
        {
          "output_type": "execute_result",
          "data": {
            "text/plain": [
              "                                                temp_seq temps_0   temps_1\n",
              "0                                             [(direct)]   28733  55590133\n",
              "1                                   [kakaopay, (direct)]   13174     90300\n",
              "2                          [e-insmarket.or.kr, (direct)]   13073   1964547\n",
              "3                                             [(direct)]   13037  29134711\n",
              "4                                    [pincrux, (direct)]   10987  22388620\n",
              "...                                                  ...     ...       ...\n",
              "45626  [medcost.knia.or.kr, google, e-insmarket.or.kr...       1         0\n",
              "45627  [https://www.lifeplanet.co.kr/bridge/bl/HPBL95...       1         0\n",
              "45628  [https://www.lifeplanet.co.kr/bridge/bl/HPBL95...       1         0\n",
              "45629  [https://www.lifeplanet.co.kr/bridge/bl/HPBL95...       1         0\n",
              "45630  [https://www.lifeplanet.co.kr/bridge/bl/HPBL95...       1         0\n",
              "\n",
              "[45631 rows x 3 columns]"
            ],
            "text/html": [
              "\n",
              "  <div id=\"df-1218aa8a-eae6-4870-b4e8-fe39a8c40431\">\n",
              "    <div class=\"colab-df-container\">\n",
              "      <div>\n",
              "<style scoped>\n",
              "    .dataframe tbody tr th:only-of-type {\n",
              "        vertical-align: middle;\n",
              "    }\n",
              "\n",
              "    .dataframe tbody tr th {\n",
              "        vertical-align: top;\n",
              "    }\n",
              "\n",
              "    .dataframe thead th {\n",
              "        text-align: right;\n",
              "    }\n",
              "</style>\n",
              "<table border=\"1\" class=\"dataframe\">\n",
              "  <thead>\n",
              "    <tr style=\"text-align: right;\">\n",
              "      <th></th>\n",
              "      <th>temp_seq</th>\n",
              "      <th>temps_0</th>\n",
              "      <th>temps_1</th>\n",
              "    </tr>\n",
              "  </thead>\n",
              "  <tbody>\n",
              "    <tr>\n",
              "      <th>0</th>\n",
              "      <td>[(direct)]</td>\n",
              "      <td>28733</td>\n",
              "      <td>55590133</td>\n",
              "    </tr>\n",
              "    <tr>\n",
              "      <th>1</th>\n",
              "      <td>[kakaopay, (direct)]</td>\n",
              "      <td>13174</td>\n",
              "      <td>90300</td>\n",
              "    </tr>\n",
              "    <tr>\n",
              "      <th>2</th>\n",
              "      <td>[e-insmarket.or.kr, (direct)]</td>\n",
              "      <td>13073</td>\n",
              "      <td>1964547</td>\n",
              "    </tr>\n",
              "    <tr>\n",
              "      <th>3</th>\n",
              "      <td>[(direct)]</td>\n",
              "      <td>13037</td>\n",
              "      <td>29134711</td>\n",
              "    </tr>\n",
              "    <tr>\n",
              "      <th>4</th>\n",
              "      <td>[pincrux, (direct)]</td>\n",
              "      <td>10987</td>\n",
              "      <td>22388620</td>\n",
              "    </tr>\n",
              "    <tr>\n",
              "      <th>...</th>\n",
              "      <td>...</td>\n",
              "      <td>...</td>\n",
              "      <td>...</td>\n",
              "    </tr>\n",
              "    <tr>\n",
              "      <th>45626</th>\n",
              "      <td>[medcost.knia.or.kr, google, e-insmarket.or.kr...</td>\n",
              "      <td>1</td>\n",
              "      <td>0</td>\n",
              "    </tr>\n",
              "    <tr>\n",
              "      <th>45627</th>\n",
              "      <td>[https://www.lifeplanet.co.kr/bridge/bl/HPBL95...</td>\n",
              "      <td>1</td>\n",
              "      <td>0</td>\n",
              "    </tr>\n",
              "    <tr>\n",
              "      <th>45628</th>\n",
              "      <td>[https://www.lifeplanet.co.kr/bridge/bl/HPBL95...</td>\n",
              "      <td>1</td>\n",
              "      <td>0</td>\n",
              "    </tr>\n",
              "    <tr>\n",
              "      <th>45629</th>\n",
              "      <td>[https://www.lifeplanet.co.kr/bridge/bl/HPBL95...</td>\n",
              "      <td>1</td>\n",
              "      <td>0</td>\n",
              "    </tr>\n",
              "    <tr>\n",
              "      <th>45630</th>\n",
              "      <td>[https://www.lifeplanet.co.kr/bridge/bl/HPBL95...</td>\n",
              "      <td>1</td>\n",
              "      <td>0</td>\n",
              "    </tr>\n",
              "  </tbody>\n",
              "</table>\n",
              "<p>45631 rows × 3 columns</p>\n",
              "</div>\n",
              "      <button class=\"colab-df-convert\" onclick=\"convertToInteractive('df-1218aa8a-eae6-4870-b4e8-fe39a8c40431')\"\n",
              "              title=\"Convert this dataframe to an interactive table.\"\n",
              "              style=\"display:none;\">\n",
              "        \n",
              "  <svg xmlns=\"http://www.w3.org/2000/svg\" height=\"24px\"viewBox=\"0 0 24 24\"\n",
              "       width=\"24px\">\n",
              "    <path d=\"M0 0h24v24H0V0z\" fill=\"none\"/>\n",
              "    <path d=\"M18.56 5.44l.94 2.06.94-2.06 2.06-.94-2.06-.94-.94-2.06-.94 2.06-2.06.94zm-11 1L8.5 8.5l.94-2.06 2.06-.94-2.06-.94L8.5 2.5l-.94 2.06-2.06.94zm10 10l.94 2.06.94-2.06 2.06-.94-2.06-.94-.94-2.06-.94 2.06-2.06.94z\"/><path d=\"M17.41 7.96l-1.37-1.37c-.4-.4-.92-.59-1.43-.59-.52 0-1.04.2-1.43.59L10.3 9.45l-7.72 7.72c-.78.78-.78 2.05 0 2.83L4 21.41c.39.39.9.59 1.41.59.51 0 1.02-.2 1.41-.59l7.78-7.78 2.81-2.81c.8-.78.8-2.07 0-2.86zM5.41 20L4 18.59l7.72-7.72 1.47 1.35L5.41 20z\"/>\n",
              "  </svg>\n",
              "      </button>\n",
              "      \n",
              "  <style>\n",
              "    .colab-df-container {\n",
              "      display:flex;\n",
              "      flex-wrap:wrap;\n",
              "      gap: 12px;\n",
              "    }\n",
              "\n",
              "    .colab-df-convert {\n",
              "      background-color: #E8F0FE;\n",
              "      border: none;\n",
              "      border-radius: 50%;\n",
              "      cursor: pointer;\n",
              "      display: none;\n",
              "      fill: #1967D2;\n",
              "      height: 32px;\n",
              "      padding: 0 0 0 0;\n",
              "      width: 32px;\n",
              "    }\n",
              "\n",
              "    .colab-df-convert:hover {\n",
              "      background-color: #E2EBFA;\n",
              "      box-shadow: 0px 1px 2px rgba(60, 64, 67, 0.3), 0px 1px 3px 1px rgba(60, 64, 67, 0.15);\n",
              "      fill: #174EA6;\n",
              "    }\n",
              "\n",
              "    [theme=dark] .colab-df-convert {\n",
              "      background-color: #3B4455;\n",
              "      fill: #D2E3FC;\n",
              "    }\n",
              "\n",
              "    [theme=dark] .colab-df-convert:hover {\n",
              "      background-color: #434B5C;\n",
              "      box-shadow: 0px 1px 3px 1px rgba(0, 0, 0, 0.15);\n",
              "      filter: drop-shadow(0px 1px 2px rgba(0, 0, 0, 0.3));\n",
              "      fill: #FFFFFF;\n",
              "    }\n",
              "  </style>\n",
              "\n",
              "      <script>\n",
              "        const buttonEl =\n",
              "          document.querySelector('#df-1218aa8a-eae6-4870-b4e8-fe39a8c40431 button.colab-df-convert');\n",
              "        buttonEl.style.display =\n",
              "          google.colab.kernel.accessAllowed ? 'block' : 'none';\n",
              "\n",
              "        async function convertToInteractive(key) {\n",
              "          const element = document.querySelector('#df-1218aa8a-eae6-4870-b4e8-fe39a8c40431');\n",
              "          const dataTable =\n",
              "            await google.colab.kernel.invokeFunction('convertToInteractive',\n",
              "                                                     [key], {});\n",
              "          if (!dataTable) return;\n",
              "\n",
              "          const docLinkHtml = 'Like what you see? Visit the ' +\n",
              "            '<a target=\"_blank\" href=https://colab.research.google.com/notebooks/data_table.ipynb>data table notebook</a>'\n",
              "            + ' to learn more about interactive tables.';\n",
              "          element.innerHTML = '';\n",
              "          dataTable['output_type'] = 'display_data';\n",
              "          await google.colab.output.renderOutput(dataTable, element);\n",
              "          const docLink = document.createElement('div');\n",
              "          docLink.innerHTML = docLinkHtml;\n",
              "          element.appendChild(docLink);\n",
              "        }\n",
              "      </script>\n",
              "    </div>\n",
              "  </div>\n",
              "  "
            ]
          },
          "metadata": {},
          "execution_count": 24
        }
      ]
    },
    {
      "cell_type": "code",
      "source": [
        "cols = pd.DataFrame([pd.Series(x) for x in df.temp_seq])\n",
        "cols.columns = ['chnn_{}'.format(x+1) for x in cols.columns]"
      ],
      "metadata": {
        "id": "qHCoSZ7YY9Ko"
      },
      "execution_count": null,
      "outputs": []
    },
    {
      "cell_type": "code",
      "source": [
        "df = pd.concat([cols, df[['temps_0','temps_1']] ], axis = 1).fillna('-')"
      ],
      "metadata": {
        "id": "O7N96ZfSHdUs"
      },
      "execution_count": null,
      "outputs": []
    },
    {
      "cell_type": "code",
      "source": [
        "df"
      ],
      "metadata": {
        "colab": {
          "base_uri": "https://localhost:8080/",
          "height": 487
        },
        "id": "Y_cnP48bNopS",
        "outputId": "d62879a8-61f4-4198-de2e-5df865ec4fd4"
      },
      "execution_count": null,
      "outputs": [
        {
          "output_type": "execute_result",
          "data": {
            "text/plain": [
              "                                                  chnn_1       chnn_2  \\\n",
              "0                                               (direct)            -   \n",
              "1                                               kakaopay     (direct)   \n",
              "2                                      e-insmarket.or.kr     (direct)   \n",
              "3                                               (direct)            -   \n",
              "4                                                pincrux     (direct)   \n",
              "...                                                  ...          ...   \n",
              "45626                                 medcost.knia.or.kr       google   \n",
              "45627  https://www.lifeplanet.co.kr/bridge/bl/HPBL950...     (direct)   \n",
              "45628  https://www.lifeplanet.co.kr/bridge/bl/HPBL950...     (direct)   \n",
              "45629  https://www.lifeplanet.co.kr/bridge/bl/HPBL950...     (direct)   \n",
              "45630  https://www.lifeplanet.co.kr/bridge/bl/HPBL950...  kakao_pf_lf   \n",
              "\n",
              "                                                  chnn_3    chnn_4 chnn_5  \\\n",
              "0                                                      -         -      -   \n",
              "1                                                      -         -      -   \n",
              "2                                                      -         -      -   \n",
              "3                                                      -         -      -   \n",
              "4                                                      -         -      -   \n",
              "...                                                  ...       ...    ...   \n",
              "45626                                  e-insmarket.or.kr  (direct)      -   \n",
              "45627                                                  -         -      -   \n",
              "45628  https://www.lifeplanet.co.kr/bridge/bl/HPBL950...         -      -   \n",
              "45629                                                  -         -      -   \n",
              "45630                                                  -         -      -   \n",
              "\n",
              "      chnn_6 chnn_7 chnn_8 chnn_9 chnn_10  ... chnn_60 chnn_61 chnn_62  \\\n",
              "0          -      -      -      -       -  ...       -       -       -   \n",
              "1          -      -      -      -       -  ...       -       -       -   \n",
              "2          -      -      -      -       -  ...       -       -       -   \n",
              "3          -      -      -      -       -  ...       -       -       -   \n",
              "4          -      -      -      -       -  ...       -       -       -   \n",
              "...      ...    ...    ...    ...     ...  ...     ...     ...     ...   \n",
              "45626      -      -      -      -       -  ...       -       -       -   \n",
              "45627      -      -      -      -       -  ...       -       -       -   \n",
              "45628      -      -      -      -       -  ...       -       -       -   \n",
              "45629      -      -      -      -       -  ...       -       -       -   \n",
              "45630      -      -      -      -       -  ...       -       -       -   \n",
              "\n",
              "      chnn_63 chnn_64 chnn_65 chnn_66 chnn_67 temps_0   temps_1  \n",
              "0           -       -       -       -       -   28733  55590133  \n",
              "1           -       -       -       -       -   13174     90300  \n",
              "2           -       -       -       -       -   13073   1964547  \n",
              "3           -       -       -       -       -   13037  29134711  \n",
              "4           -       -       -       -       -   10987  22388620  \n",
              "...       ...     ...     ...     ...     ...     ...       ...  \n",
              "45626       -       -       -       -       -       1         0  \n",
              "45627       -       -       -       -       -       1         0  \n",
              "45628       -       -       -       -       -       1         0  \n",
              "45629       -       -       -       -       -       1         0  \n",
              "45630       -       -       -       -       -       1         0  \n",
              "\n",
              "[45631 rows x 69 columns]"
            ],
            "text/html": [
              "\n",
              "  <div id=\"df-332b031d-91e6-4d86-989a-d6423eac9a7a\">\n",
              "    <div class=\"colab-df-container\">\n",
              "      <div>\n",
              "<style scoped>\n",
              "    .dataframe tbody tr th:only-of-type {\n",
              "        vertical-align: middle;\n",
              "    }\n",
              "\n",
              "    .dataframe tbody tr th {\n",
              "        vertical-align: top;\n",
              "    }\n",
              "\n",
              "    .dataframe thead th {\n",
              "        text-align: right;\n",
              "    }\n",
              "</style>\n",
              "<table border=\"1\" class=\"dataframe\">\n",
              "  <thead>\n",
              "    <tr style=\"text-align: right;\">\n",
              "      <th></th>\n",
              "      <th>chnn_1</th>\n",
              "      <th>chnn_2</th>\n",
              "      <th>chnn_3</th>\n",
              "      <th>chnn_4</th>\n",
              "      <th>chnn_5</th>\n",
              "      <th>chnn_6</th>\n",
              "      <th>chnn_7</th>\n",
              "      <th>chnn_8</th>\n",
              "      <th>chnn_9</th>\n",
              "      <th>chnn_10</th>\n",
              "      <th>...</th>\n",
              "      <th>chnn_60</th>\n",
              "      <th>chnn_61</th>\n",
              "      <th>chnn_62</th>\n",
              "      <th>chnn_63</th>\n",
              "      <th>chnn_64</th>\n",
              "      <th>chnn_65</th>\n",
              "      <th>chnn_66</th>\n",
              "      <th>chnn_67</th>\n",
              "      <th>temps_0</th>\n",
              "      <th>temps_1</th>\n",
              "    </tr>\n",
              "  </thead>\n",
              "  <tbody>\n",
              "    <tr>\n",
              "      <th>0</th>\n",
              "      <td>(direct)</td>\n",
              "      <td>-</td>\n",
              "      <td>-</td>\n",
              "      <td>-</td>\n",
              "      <td>-</td>\n",
              "      <td>-</td>\n",
              "      <td>-</td>\n",
              "      <td>-</td>\n",
              "      <td>-</td>\n",
              "      <td>-</td>\n",
              "      <td>...</td>\n",
              "      <td>-</td>\n",
              "      <td>-</td>\n",
              "      <td>-</td>\n",
              "      <td>-</td>\n",
              "      <td>-</td>\n",
              "      <td>-</td>\n",
              "      <td>-</td>\n",
              "      <td>-</td>\n",
              "      <td>28733</td>\n",
              "      <td>55590133</td>\n",
              "    </tr>\n",
              "    <tr>\n",
              "      <th>1</th>\n",
              "      <td>kakaopay</td>\n",
              "      <td>(direct)</td>\n",
              "      <td>-</td>\n",
              "      <td>-</td>\n",
              "      <td>-</td>\n",
              "      <td>-</td>\n",
              "      <td>-</td>\n",
              "      <td>-</td>\n",
              "      <td>-</td>\n",
              "      <td>-</td>\n",
              "      <td>...</td>\n",
              "      <td>-</td>\n",
              "      <td>-</td>\n",
              "      <td>-</td>\n",
              "      <td>-</td>\n",
              "      <td>-</td>\n",
              "      <td>-</td>\n",
              "      <td>-</td>\n",
              "      <td>-</td>\n",
              "      <td>13174</td>\n",
              "      <td>90300</td>\n",
              "    </tr>\n",
              "    <tr>\n",
              "      <th>2</th>\n",
              "      <td>e-insmarket.or.kr</td>\n",
              "      <td>(direct)</td>\n",
              "      <td>-</td>\n",
              "      <td>-</td>\n",
              "      <td>-</td>\n",
              "      <td>-</td>\n",
              "      <td>-</td>\n",
              "      <td>-</td>\n",
              "      <td>-</td>\n",
              "      <td>-</td>\n",
              "      <td>...</td>\n",
              "      <td>-</td>\n",
              "      <td>-</td>\n",
              "      <td>-</td>\n",
              "      <td>-</td>\n",
              "      <td>-</td>\n",
              "      <td>-</td>\n",
              "      <td>-</td>\n",
              "      <td>-</td>\n",
              "      <td>13073</td>\n",
              "      <td>1964547</td>\n",
              "    </tr>\n",
              "    <tr>\n",
              "      <th>3</th>\n",
              "      <td>(direct)</td>\n",
              "      <td>-</td>\n",
              "      <td>-</td>\n",
              "      <td>-</td>\n",
              "      <td>-</td>\n",
              "      <td>-</td>\n",
              "      <td>-</td>\n",
              "      <td>-</td>\n",
              "      <td>-</td>\n",
              "      <td>-</td>\n",
              "      <td>...</td>\n",
              "      <td>-</td>\n",
              "      <td>-</td>\n",
              "      <td>-</td>\n",
              "      <td>-</td>\n",
              "      <td>-</td>\n",
              "      <td>-</td>\n",
              "      <td>-</td>\n",
              "      <td>-</td>\n",
              "      <td>13037</td>\n",
              "      <td>29134711</td>\n",
              "    </tr>\n",
              "    <tr>\n",
              "      <th>4</th>\n",
              "      <td>pincrux</td>\n",
              "      <td>(direct)</td>\n",
              "      <td>-</td>\n",
              "      <td>-</td>\n",
              "      <td>-</td>\n",
              "      <td>-</td>\n",
              "      <td>-</td>\n",
              "      <td>-</td>\n",
              "      <td>-</td>\n",
              "      <td>-</td>\n",
              "      <td>...</td>\n",
              "      <td>-</td>\n",
              "      <td>-</td>\n",
              "      <td>-</td>\n",
              "      <td>-</td>\n",
              "      <td>-</td>\n",
              "      <td>-</td>\n",
              "      <td>-</td>\n",
              "      <td>-</td>\n",
              "      <td>10987</td>\n",
              "      <td>22388620</td>\n",
              "    </tr>\n",
              "    <tr>\n",
              "      <th>...</th>\n",
              "      <td>...</td>\n",
              "      <td>...</td>\n",
              "      <td>...</td>\n",
              "      <td>...</td>\n",
              "      <td>...</td>\n",
              "      <td>...</td>\n",
              "      <td>...</td>\n",
              "      <td>...</td>\n",
              "      <td>...</td>\n",
              "      <td>...</td>\n",
              "      <td>...</td>\n",
              "      <td>...</td>\n",
              "      <td>...</td>\n",
              "      <td>...</td>\n",
              "      <td>...</td>\n",
              "      <td>...</td>\n",
              "      <td>...</td>\n",
              "      <td>...</td>\n",
              "      <td>...</td>\n",
              "      <td>...</td>\n",
              "      <td>...</td>\n",
              "    </tr>\n",
              "    <tr>\n",
              "      <th>45626</th>\n",
              "      <td>medcost.knia.or.kr</td>\n",
              "      <td>google</td>\n",
              "      <td>e-insmarket.or.kr</td>\n",
              "      <td>(direct)</td>\n",
              "      <td>-</td>\n",
              "      <td>-</td>\n",
              "      <td>-</td>\n",
              "      <td>-</td>\n",
              "      <td>-</td>\n",
              "      <td>-</td>\n",
              "      <td>...</td>\n",
              "      <td>-</td>\n",
              "      <td>-</td>\n",
              "      <td>-</td>\n",
              "      <td>-</td>\n",
              "      <td>-</td>\n",
              "      <td>-</td>\n",
              "      <td>-</td>\n",
              "      <td>-</td>\n",
              "      <td>1</td>\n",
              "      <td>0</td>\n",
              "    </tr>\n",
              "    <tr>\n",
              "      <th>45627</th>\n",
              "      <td>https://www.lifeplanet.co.kr/bridge/bl/HPBL950...</td>\n",
              "      <td>(direct)</td>\n",
              "      <td>-</td>\n",
              "      <td>-</td>\n",
              "      <td>-</td>\n",
              "      <td>-</td>\n",
              "      <td>-</td>\n",
              "      <td>-</td>\n",
              "      <td>-</td>\n",
              "      <td>-</td>\n",
              "      <td>...</td>\n",
              "      <td>-</td>\n",
              "      <td>-</td>\n",
              "      <td>-</td>\n",
              "      <td>-</td>\n",
              "      <td>-</td>\n",
              "      <td>-</td>\n",
              "      <td>-</td>\n",
              "      <td>-</td>\n",
              "      <td>1</td>\n",
              "      <td>0</td>\n",
              "    </tr>\n",
              "    <tr>\n",
              "      <th>45628</th>\n",
              "      <td>https://www.lifeplanet.co.kr/bridge/bl/HPBL950...</td>\n",
              "      <td>(direct)</td>\n",
              "      <td>https://www.lifeplanet.co.kr/bridge/bl/HPBL950...</td>\n",
              "      <td>-</td>\n",
              "      <td>-</td>\n",
              "      <td>-</td>\n",
              "      <td>-</td>\n",
              "      <td>-</td>\n",
              "      <td>-</td>\n",
              "      <td>-</td>\n",
              "      <td>...</td>\n",
              "      <td>-</td>\n",
              "      <td>-</td>\n",
              "      <td>-</td>\n",
              "      <td>-</td>\n",
              "      <td>-</td>\n",
              "      <td>-</td>\n",
              "      <td>-</td>\n",
              "      <td>-</td>\n",
              "      <td>1</td>\n",
              "      <td>0</td>\n",
              "    </tr>\n",
              "    <tr>\n",
              "      <th>45629</th>\n",
              "      <td>https://www.lifeplanet.co.kr/bridge/bl/HPBL950...</td>\n",
              "      <td>(direct)</td>\n",
              "      <td>-</td>\n",
              "      <td>-</td>\n",
              "      <td>-</td>\n",
              "      <td>-</td>\n",
              "      <td>-</td>\n",
              "      <td>-</td>\n",
              "      <td>-</td>\n",
              "      <td>-</td>\n",
              "      <td>...</td>\n",
              "      <td>-</td>\n",
              "      <td>-</td>\n",
              "      <td>-</td>\n",
              "      <td>-</td>\n",
              "      <td>-</td>\n",
              "      <td>-</td>\n",
              "      <td>-</td>\n",
              "      <td>-</td>\n",
              "      <td>1</td>\n",
              "      <td>0</td>\n",
              "    </tr>\n",
              "    <tr>\n",
              "      <th>45630</th>\n",
              "      <td>https://www.lifeplanet.co.kr/bridge/bl/HPBL950...</td>\n",
              "      <td>kakao_pf_lf</td>\n",
              "      <td>-</td>\n",
              "      <td>-</td>\n",
              "      <td>-</td>\n",
              "      <td>-</td>\n",
              "      <td>-</td>\n",
              "      <td>-</td>\n",
              "      <td>-</td>\n",
              "      <td>-</td>\n",
              "      <td>...</td>\n",
              "      <td>-</td>\n",
              "      <td>-</td>\n",
              "      <td>-</td>\n",
              "      <td>-</td>\n",
              "      <td>-</td>\n",
              "      <td>-</td>\n",
              "      <td>-</td>\n",
              "      <td>-</td>\n",
              "      <td>1</td>\n",
              "      <td>0</td>\n",
              "    </tr>\n",
              "  </tbody>\n",
              "</table>\n",
              "<p>45631 rows × 69 columns</p>\n",
              "</div>\n",
              "      <button class=\"colab-df-convert\" onclick=\"convertToInteractive('df-332b031d-91e6-4d86-989a-d6423eac9a7a')\"\n",
              "              title=\"Convert this dataframe to an interactive table.\"\n",
              "              style=\"display:none;\">\n",
              "        \n",
              "  <svg xmlns=\"http://www.w3.org/2000/svg\" height=\"24px\"viewBox=\"0 0 24 24\"\n",
              "       width=\"24px\">\n",
              "    <path d=\"M0 0h24v24H0V0z\" fill=\"none\"/>\n",
              "    <path d=\"M18.56 5.44l.94 2.06.94-2.06 2.06-.94-2.06-.94-.94-2.06-.94 2.06-2.06.94zm-11 1L8.5 8.5l.94-2.06 2.06-.94-2.06-.94L8.5 2.5l-.94 2.06-2.06.94zm10 10l.94 2.06.94-2.06 2.06-.94-2.06-.94-.94-2.06-.94 2.06-2.06.94z\"/><path d=\"M17.41 7.96l-1.37-1.37c-.4-.4-.92-.59-1.43-.59-.52 0-1.04.2-1.43.59L10.3 9.45l-7.72 7.72c-.78.78-.78 2.05 0 2.83L4 21.41c.39.39.9.59 1.41.59.51 0 1.02-.2 1.41-.59l7.78-7.78 2.81-2.81c.8-.78.8-2.07 0-2.86zM5.41 20L4 18.59l7.72-7.72 1.47 1.35L5.41 20z\"/>\n",
              "  </svg>\n",
              "      </button>\n",
              "      \n",
              "  <style>\n",
              "    .colab-df-container {\n",
              "      display:flex;\n",
              "      flex-wrap:wrap;\n",
              "      gap: 12px;\n",
              "    }\n",
              "\n",
              "    .colab-df-convert {\n",
              "      background-color: #E8F0FE;\n",
              "      border: none;\n",
              "      border-radius: 50%;\n",
              "      cursor: pointer;\n",
              "      display: none;\n",
              "      fill: #1967D2;\n",
              "      height: 32px;\n",
              "      padding: 0 0 0 0;\n",
              "      width: 32px;\n",
              "    }\n",
              "\n",
              "    .colab-df-convert:hover {\n",
              "      background-color: #E2EBFA;\n",
              "      box-shadow: 0px 1px 2px rgba(60, 64, 67, 0.3), 0px 1px 3px 1px rgba(60, 64, 67, 0.15);\n",
              "      fill: #174EA6;\n",
              "    }\n",
              "\n",
              "    [theme=dark] .colab-df-convert {\n",
              "      background-color: #3B4455;\n",
              "      fill: #D2E3FC;\n",
              "    }\n",
              "\n",
              "    [theme=dark] .colab-df-convert:hover {\n",
              "      background-color: #434B5C;\n",
              "      box-shadow: 0px 1px 3px 1px rgba(0, 0, 0, 0.15);\n",
              "      filter: drop-shadow(0px 1px 2px rgba(0, 0, 0, 0.3));\n",
              "      fill: #FFFFFF;\n",
              "    }\n",
              "  </style>\n",
              "\n",
              "      <script>\n",
              "        const buttonEl =\n",
              "          document.querySelector('#df-332b031d-91e6-4d86-989a-d6423eac9a7a button.colab-df-convert');\n",
              "        buttonEl.style.display =\n",
              "          google.colab.kernel.accessAllowed ? 'block' : 'none';\n",
              "\n",
              "        async function convertToInteractive(key) {\n",
              "          const element = document.querySelector('#df-332b031d-91e6-4d86-989a-d6423eac9a7a');\n",
              "          const dataTable =\n",
              "            await google.colab.kernel.invokeFunction('convertToInteractive',\n",
              "                                                     [key], {});\n",
              "          if (!dataTable) return;\n",
              "\n",
              "          const docLinkHtml = 'Like what you see? Visit the ' +\n",
              "            '<a target=\"_blank\" href=https://colab.research.google.com/notebooks/data_table.ipynb>data table notebook</a>'\n",
              "            + ' to learn more about interactive tables.';\n",
              "          element.innerHTML = '';\n",
              "          dataTable['output_type'] = 'display_data';\n",
              "          await google.colab.output.renderOutput(dataTable, element);\n",
              "          const docLink = document.createElement('div');\n",
              "          docLink.innerHTML = docLinkHtml;\n",
              "          element.appendChild(docLink);\n",
              "        }\n",
              "      </script>\n",
              "    </div>\n",
              "  </div>\n",
              "  "
            ]
          },
          "metadata": {},
          "execution_count": 27
        }
      ]
    },
    {
      "cell_type": "code",
      "source": [
        "df['chnn_1'].value_counts # 242 unique_values"
      ],
      "metadata": {
        "colab": {
          "base_uri": "https://localhost:8080/"
        },
        "id": "o5soXIy2OU8s",
        "outputId": "e6d3660f-6c0d-4642-bf3d-b142a7fa1c7a"
      },
      "execution_count": null,
      "outputs": [
        {
          "output_type": "execute_result",
          "data": {
            "text/plain": [
              "<bound method IndexOpsMixin.value_counts of 0                 (direct)\n",
              "1                 kakaopay\n",
              "2        e-insmarket.or.kr\n",
              "3                 (direct)\n",
              "4                  pincrux\n",
              "               ...        \n",
              "24995               google\n",
              "24996               google\n",
              "24997               google\n",
              "24998               google\n",
              "24999               google\n",
              "Name: chnn_1, Length: 25000, dtype: object>"
            ]
          },
          "metadata": {},
          "execution_count": 29
        }
      ]
    },
    {
      "cell_type": "code",
      "source": [
        "df['acc_prc'] = round( df['temps_0'].astype(int) / df['temps_0'].astype(int).sum(), 5)"
      ],
      "metadata": {
        "id": "MQBn1s0Wc4Vp"
      },
      "execution_count": null,
      "outputs": []
    },
    {
      "cell_type": "code",
      "source": [
        "df = df[df.chnn_2 != '-']"
      ],
      "metadata": {
        "id": "nYAatt1KdkWQ"
      },
      "execution_count": null,
      "outputs": []
    },
    {
      "cell_type": "code",
      "source": [
        ""
      ],
      "metadata": {
        "id": "bm3x-jq9MJPu"
      },
      "execution_count": null,
      "outputs": []
    },
    {
      "cell_type": "code",
      "source": [
        "df.to_csv(\"rslt.csv\")"
      ],
      "metadata": {
        "id": "UI37wmdlMJZU"
      },
      "execution_count": null,
      "outputs": []
    }
  ]
}