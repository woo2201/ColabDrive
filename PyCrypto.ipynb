{
  "nbformat": 4,
  "nbformat_minor": 0,
  "metadata": {
    "colab": {
      "name": "Untitled",
      "provenance": [],
      "authorship_tag": "ABX9TyMxZvLDpRSno5FY94PkArDL",
      "include_colab_link": true
    },
    "kernelspec": {
      "name": "python3",
      "display_name": "Python 3"
    },
    "language_info": {
      "name": "python"
    }
  },
  "cells": [
    {
      "cell_type": "markdown",
      "metadata": {
        "id": "view-in-github",
        "colab_type": "text"
      },
      "source": [
        "<a href=\"https://colab.research.google.com/github/woo2201/ColabDrive/blob/reservior/PyCrypto.ipynb\" target=\"_parent\"><img src=\"https://colab.research.google.com/assets/colab-badge.svg\" alt=\"Open In Colab\"/></a>"
      ]
    },
    {
      "cell_type": "code",
      "execution_count": 1,
      "metadata": {
        "colab": {
          "base_uri": "https://localhost:8080/"
        },
        "id": "K0GeBgFA01RE",
        "outputId": "0a393994-3a9a-4483-e0b8-7ef4cdcd62dd"
      },
      "outputs": [
        {
          "output_type": "stream",
          "name": "stdout",
          "text": [
            "Collecting pyupbit\n",
            "  Downloading pyupbit-0.2.23-py3-none-any.whl (21 kB)\n",
            "Requirement already satisfied: pandas in /usr/local/lib/python3.7/dist-packages (from pyupbit) (1.3.5)\n",
            "Collecting websockets==9.1\n",
            "  Downloading websockets-9.1-cp37-cp37m-manylinux2010_x86_64.whl (103 kB)\n",
            "\u001b[K     |████████████████████████████████| 103 kB 40.2 MB/s \n",
            "\u001b[?25hCollecting pyjwt>=2.0.0\n",
            "  Downloading PyJWT-2.3.0-py3-none-any.whl (16 kB)\n",
            "Requirement already satisfied: requests in /usr/local/lib/python3.7/dist-packages (from pyupbit) (2.23.0)\n",
            "Requirement already satisfied: pytz>=2017.3 in /usr/local/lib/python3.7/dist-packages (from pandas->pyupbit) (2018.9)\n",
            "Requirement already satisfied: python-dateutil>=2.7.3 in /usr/local/lib/python3.7/dist-packages (from pandas->pyupbit) (2.8.2)\n",
            "Requirement already satisfied: numpy>=1.17.3 in /usr/local/lib/python3.7/dist-packages (from pandas->pyupbit) (1.19.5)\n",
            "Requirement already satisfied: six>=1.5 in /usr/local/lib/python3.7/dist-packages (from python-dateutil>=2.7.3->pandas->pyupbit) (1.15.0)\n",
            "Requirement already satisfied: urllib3!=1.25.0,!=1.25.1,<1.26,>=1.21.1 in /usr/local/lib/python3.7/dist-packages (from requests->pyupbit) (1.24.3)\n",
            "Requirement already satisfied: certifi>=2017.4.17 in /usr/local/lib/python3.7/dist-packages (from requests->pyupbit) (2021.10.8)\n",
            "Requirement already satisfied: chardet<4,>=3.0.2 in /usr/local/lib/python3.7/dist-packages (from requests->pyupbit) (3.0.4)\n",
            "Requirement already satisfied: idna<3,>=2.5 in /usr/local/lib/python3.7/dist-packages (from requests->pyupbit) (2.10)\n",
            "Installing collected packages: websockets, pyjwt, pyupbit\n",
            "Successfully installed pyjwt-2.3.0 pyupbit-0.2.23 websockets-9.1\n"
          ]
        }
      ],
      "source": [
        "pip install pyupbit"
      ]
    },
    {
      "cell_type": "code",
      "source": [
        "import pyupbit\n",
        "import pandas as pd\n",
        "import numpy as np\n",
        "import scipy as scp\n",
        "import math\n",
        "\n",
        "print(pyupbit.Upbit)"
      ],
      "metadata": {
        "colab": {
          "base_uri": "https://localhost:8080/"
        },
        "id": "isyB52jB06x7",
        "outputId": "843766a7-df5f-4c80-9ef3-5b5336d0abe0"
      },
      "execution_count": 2,
      "outputs": [
        {
          "output_type": "stream",
          "name": "stdout",
          "text": [
            "<class 'pyupbit.exchange_api.Upbit'>\n"
          ]
        }
      ]
    },
    {
      "cell_type": "code",
      "source": [
        "tickers = pyupbit.get_tickers(fiat=\"KRW\")\n",
        "tickers[:5]"
      ],
      "metadata": {
        "colab": {
          "base_uri": "https://localhost:8080/"
        },
        "id": "Gya8jvDO062W",
        "outputId": "c7a6a8cc-8cfe-4ed8-b4fa-ed9780cb8d26"
      },
      "execution_count": 4,
      "outputs": [
        {
          "output_type": "execute_result",
          "data": {
            "text/plain": [
              "['KRW-BTC', 'KRW-ETH', 'KRW-NEO', 'KRW-MTL', 'KRW-LTC']"
            ]
          },
          "metadata": {},
          "execution_count": 4
        }
      ]
    },
    {
      "cell_type": "code",
      "source": [
        "pyupbit.get_current_price(\"KRW-XRP\")"
      ],
      "metadata": {
        "colab": {
          "base_uri": "https://localhost:8080/"
        },
        "id": "HrAbAaXx2pWq",
        "outputId": "185971a5-6bcc-4e3e-9bbc-6ae252b40994"
      },
      "execution_count": 5,
      "outputs": [
        {
          "output_type": "execute_result",
          "data": {
            "text/plain": [
              "941.0"
            ]
          },
          "metadata": {},
          "execution_count": 5
        }
      ]
    },
    {
      "cell_type": "code",
      "source": [
        "pyupbit.get_ohlcv(\"KRW-XRP\", interval=\"minute1\", count = 10)"
      ],
      "metadata": {
        "colab": {
          "base_uri": "https://localhost:8080/",
          "height": 363
        },
        "id": "pZYkDrEh5vLW",
        "outputId": "cfa70e24-4bc7-45d2-b08b-51e7750564cf"
      },
      "execution_count": 6,
      "outputs": [
        {
          "output_type": "execute_result",
          "data": {
            "text/html": [
              "\n",
              "  <div id=\"df-8789dcfb-597e-4122-a7d7-8b181cf951d0\">\n",
              "    <div class=\"colab-df-container\">\n",
              "      <div>\n",
              "<style scoped>\n",
              "    .dataframe tbody tr th:only-of-type {\n",
              "        vertical-align: middle;\n",
              "    }\n",
              "\n",
              "    .dataframe tbody tr th {\n",
              "        vertical-align: top;\n",
              "    }\n",
              "\n",
              "    .dataframe thead th {\n",
              "        text-align: right;\n",
              "    }\n",
              "</style>\n",
              "<table border=\"1\" class=\"dataframe\">\n",
              "  <thead>\n",
              "    <tr style=\"text-align: right;\">\n",
              "      <th></th>\n",
              "      <th>open</th>\n",
              "      <th>high</th>\n",
              "      <th>low</th>\n",
              "      <th>close</th>\n",
              "      <th>volume</th>\n",
              "      <th>value</th>\n",
              "    </tr>\n",
              "  </thead>\n",
              "  <tbody>\n",
              "    <tr>\n",
              "      <th>2022-02-07 23:31:00</th>\n",
              "      <td>938.0</td>\n",
              "      <td>939.0</td>\n",
              "      <td>937.0</td>\n",
              "      <td>937.0</td>\n",
              "      <td>465707.395781</td>\n",
              "      <td>4.366986e+08</td>\n",
              "    </tr>\n",
              "    <tr>\n",
              "      <th>2022-02-07 23:32:00</th>\n",
              "      <td>938.0</td>\n",
              "      <td>942.0</td>\n",
              "      <td>938.0</td>\n",
              "      <td>941.0</td>\n",
              "      <td>650492.046163</td>\n",
              "      <td>6.117199e+08</td>\n",
              "    </tr>\n",
              "    <tr>\n",
              "      <th>2022-02-07 23:33:00</th>\n",
              "      <td>940.0</td>\n",
              "      <td>942.0</td>\n",
              "      <td>938.0</td>\n",
              "      <td>938.0</td>\n",
              "      <td>341340.588598</td>\n",
              "      <td>3.209765e+08</td>\n",
              "    </tr>\n",
              "    <tr>\n",
              "      <th>2022-02-07 23:34:00</th>\n",
              "      <td>938.0</td>\n",
              "      <td>939.0</td>\n",
              "      <td>936.0</td>\n",
              "      <td>937.0</td>\n",
              "      <td>525632.936743</td>\n",
              "      <td>4.924060e+08</td>\n",
              "    </tr>\n",
              "    <tr>\n",
              "      <th>2022-02-07 23:35:00</th>\n",
              "      <td>937.0</td>\n",
              "      <td>938.0</td>\n",
              "      <td>936.0</td>\n",
              "      <td>938.0</td>\n",
              "      <td>290811.572900</td>\n",
              "      <td>2.724881e+08</td>\n",
              "    </tr>\n",
              "    <tr>\n",
              "      <th>2022-02-07 23:36:00</th>\n",
              "      <td>937.0</td>\n",
              "      <td>940.0</td>\n",
              "      <td>937.0</td>\n",
              "      <td>939.0</td>\n",
              "      <td>230926.412508</td>\n",
              "      <td>2.168398e+08</td>\n",
              "    </tr>\n",
              "    <tr>\n",
              "      <th>2022-02-07 23:37:00</th>\n",
              "      <td>939.0</td>\n",
              "      <td>940.0</td>\n",
              "      <td>938.0</td>\n",
              "      <td>939.0</td>\n",
              "      <td>154236.833642</td>\n",
              "      <td>1.448439e+08</td>\n",
              "    </tr>\n",
              "    <tr>\n",
              "      <th>2022-02-07 23:38:00</th>\n",
              "      <td>939.0</td>\n",
              "      <td>941.0</td>\n",
              "      <td>938.0</td>\n",
              "      <td>940.0</td>\n",
              "      <td>503322.824518</td>\n",
              "      <td>4.727739e+08</td>\n",
              "    </tr>\n",
              "    <tr>\n",
              "      <th>2022-02-07 23:39:00</th>\n",
              "      <td>940.0</td>\n",
              "      <td>942.0</td>\n",
              "      <td>939.0</td>\n",
              "      <td>940.0</td>\n",
              "      <td>625210.568526</td>\n",
              "      <td>5.881952e+08</td>\n",
              "    </tr>\n",
              "    <tr>\n",
              "      <th>2022-02-07 23:40:00</th>\n",
              "      <td>940.0</td>\n",
              "      <td>942.0</td>\n",
              "      <td>940.0</td>\n",
              "      <td>941.0</td>\n",
              "      <td>171532.980258</td>\n",
              "      <td>1.614778e+08</td>\n",
              "    </tr>\n",
              "  </tbody>\n",
              "</table>\n",
              "</div>\n",
              "      <button class=\"colab-df-convert\" onclick=\"convertToInteractive('df-8789dcfb-597e-4122-a7d7-8b181cf951d0')\"\n",
              "              title=\"Convert this dataframe to an interactive table.\"\n",
              "              style=\"display:none;\">\n",
              "        \n",
              "  <svg xmlns=\"http://www.w3.org/2000/svg\" height=\"24px\"viewBox=\"0 0 24 24\"\n",
              "       width=\"24px\">\n",
              "    <path d=\"M0 0h24v24H0V0z\" fill=\"none\"/>\n",
              "    <path d=\"M18.56 5.44l.94 2.06.94-2.06 2.06-.94-2.06-.94-.94-2.06-.94 2.06-2.06.94zm-11 1L8.5 8.5l.94-2.06 2.06-.94-2.06-.94L8.5 2.5l-.94 2.06-2.06.94zm10 10l.94 2.06.94-2.06 2.06-.94-2.06-.94-.94-2.06-.94 2.06-2.06.94z\"/><path d=\"M17.41 7.96l-1.37-1.37c-.4-.4-.92-.59-1.43-.59-.52 0-1.04.2-1.43.59L10.3 9.45l-7.72 7.72c-.78.78-.78 2.05 0 2.83L4 21.41c.39.39.9.59 1.41.59.51 0 1.02-.2 1.41-.59l7.78-7.78 2.81-2.81c.8-.78.8-2.07 0-2.86zM5.41 20L4 18.59l7.72-7.72 1.47 1.35L5.41 20z\"/>\n",
              "  </svg>\n",
              "      </button>\n",
              "      \n",
              "  <style>\n",
              "    .colab-df-container {\n",
              "      display:flex;\n",
              "      flex-wrap:wrap;\n",
              "      gap: 12px;\n",
              "    }\n",
              "\n",
              "    .colab-df-convert {\n",
              "      background-color: #E8F0FE;\n",
              "      border: none;\n",
              "      border-radius: 50%;\n",
              "      cursor: pointer;\n",
              "      display: none;\n",
              "      fill: #1967D2;\n",
              "      height: 32px;\n",
              "      padding: 0 0 0 0;\n",
              "      width: 32px;\n",
              "    }\n",
              "\n",
              "    .colab-df-convert:hover {\n",
              "      background-color: #E2EBFA;\n",
              "      box-shadow: 0px 1px 2px rgba(60, 64, 67, 0.3), 0px 1px 3px 1px rgba(60, 64, 67, 0.15);\n",
              "      fill: #174EA6;\n",
              "    }\n",
              "\n",
              "    [theme=dark] .colab-df-convert {\n",
              "      background-color: #3B4455;\n",
              "      fill: #D2E3FC;\n",
              "    }\n",
              "\n",
              "    [theme=dark] .colab-df-convert:hover {\n",
              "      background-color: #434B5C;\n",
              "      box-shadow: 0px 1px 3px 1px rgba(0, 0, 0, 0.15);\n",
              "      filter: drop-shadow(0px 1px 2px rgba(0, 0, 0, 0.3));\n",
              "      fill: #FFFFFF;\n",
              "    }\n",
              "  </style>\n",
              "\n",
              "      <script>\n",
              "        const buttonEl =\n",
              "          document.querySelector('#df-8789dcfb-597e-4122-a7d7-8b181cf951d0 button.colab-df-convert');\n",
              "        buttonEl.style.display =\n",
              "          google.colab.kernel.accessAllowed ? 'block' : 'none';\n",
              "\n",
              "        async function convertToInteractive(key) {\n",
              "          const element = document.querySelector('#df-8789dcfb-597e-4122-a7d7-8b181cf951d0');\n",
              "          const dataTable =\n",
              "            await google.colab.kernel.invokeFunction('convertToInteractive',\n",
              "                                                     [key], {});\n",
              "          if (!dataTable) return;\n",
              "\n",
              "          const docLinkHtml = 'Like what you see? Visit the ' +\n",
              "            '<a target=\"_blank\" href=https://colab.research.google.com/notebooks/data_table.ipynb>data table notebook</a>'\n",
              "            + ' to learn more about interactive tables.';\n",
              "          element.innerHTML = '';\n",
              "          dataTable['output_type'] = 'display_data';\n",
              "          await google.colab.output.renderOutput(dataTable, element);\n",
              "          const docLink = document.createElement('div');\n",
              "          docLink.innerHTML = docLinkHtml;\n",
              "          element.appendChild(docLink);\n",
              "        }\n",
              "      </script>\n",
              "    </div>\n",
              "  </div>\n",
              "  "
            ],
            "text/plain": [
              "                      open   high    low  close         volume         value\n",
              "2022-02-07 23:31:00  938.0  939.0  937.0  937.0  465707.395781  4.366986e+08\n",
              "2022-02-07 23:32:00  938.0  942.0  938.0  941.0  650492.046163  6.117199e+08\n",
              "2022-02-07 23:33:00  940.0  942.0  938.0  938.0  341340.588598  3.209765e+08\n",
              "2022-02-07 23:34:00  938.0  939.0  936.0  937.0  525632.936743  4.924060e+08\n",
              "2022-02-07 23:35:00  937.0  938.0  936.0  938.0  290811.572900  2.724881e+08\n",
              "2022-02-07 23:36:00  937.0  940.0  937.0  939.0  230926.412508  2.168398e+08\n",
              "2022-02-07 23:37:00  939.0  940.0  938.0  939.0  154236.833642  1.448439e+08\n",
              "2022-02-07 23:38:00  939.0  941.0  938.0  940.0  503322.824518  4.727739e+08\n",
              "2022-02-07 23:39:00  940.0  942.0  939.0  940.0  625210.568526  5.881952e+08\n",
              "2022-02-07 23:40:00  940.0  942.0  940.0  941.0  171532.980258  1.614778e+08"
            ]
          },
          "metadata": {},
          "execution_count": 6
        }
      ]
    },
    {
      "cell_type": "code",
      "source": [
        "askbid = pyupbit.get_orderbook(\"KRW-XRP\")['orderbook_units']\n",
        "for info in askbid:\n",
        "    print(info)"
      ],
      "metadata": {
        "colab": {
          "base_uri": "https://localhost:8080/"
        },
        "id": "6UDi-lve7iSe",
        "outputId": "7754f65c-b98b-4ae9-c50e-f76197d657c4"
      },
      "execution_count": 8,
      "outputs": [
        {
          "output_type": "stream",
          "name": "stdout",
          "text": [
            "{'ask_price': 943.0, 'bid_price': 942.0, 'ask_size': 130595.0077498, 'bid_size': 68332.17203607}\n",
            "{'ask_price': 944.0, 'bid_price': 941.0, 'ask_size': 211975.73051741, 'bid_size': 161408.74853552}\n",
            "{'ask_price': 945.0, 'bid_price': 940.0, 'ask_size': 204695.77678869, 'bid_size': 81772.22768447}\n",
            "{'ask_price': 946.0, 'bid_price': 939.0, 'ask_size': 309580.66824494, 'bid_size': 82206.53905234}\n",
            "{'ask_price': 947.0, 'bid_price': 938.0, 'ask_size': 295959.78305345, 'bid_size': 184933.56604984}\n",
            "{'ask_price': 948.0, 'bid_price': 937.0, 'ask_size': 499823.00544179, 'bid_size': 144512.90787905}\n",
            "{'ask_price': 949.0, 'bid_price': 936.0, 'ask_size': 440294.93412514, 'bid_size': 212458.92096905}\n",
            "{'ask_price': 950.0, 'bid_price': 935.0, 'ask_size': 546139.04585355, 'bid_size': 544403.6796783}\n",
            "{'ask_price': 951.0, 'bid_price': 934.0, 'ask_size': 301090.69130774, 'bid_size': 106958.57480473}\n",
            "{'ask_price': 952.0, 'bid_price': 933.0, 'ask_size': 170396.24479523, 'bid_size': 95471.44192067}\n",
            "{'ask_price': 953.0, 'bid_price': 932.0, 'ask_size': 199518.04250443, 'bid_size': 170856.356038}\n",
            "{'ask_price': 954.0, 'bid_price': 931.0, 'ask_size': 130593.4160647, 'bid_size': 205909.32481921}\n",
            "{'ask_price': 955.0, 'bid_price': 930.0, 'ask_size': 486697.60849223, 'bid_size': 460376.83178848}\n",
            "{'ask_price': 956.0, 'bid_price': 929.0, 'ask_size': 130041.95176629, 'bid_size': 79304.67242245}\n",
            "{'ask_price': 957.0, 'bid_price': 928.0, 'ask_size': 190396.96809272, 'bid_size': 125803.75911909}\n"
          ]
        }
      ]
    },
    {
      "cell_type": "code",
      "source": [
        "pd.DataFrame.from_dict(askbid)"
      ],
      "metadata": {
        "colab": {
          "base_uri": "https://localhost:8080/",
          "height": 520
        },
        "id": "S9b4ljIs2pUD",
        "outputId": "66c63efb-6a62-4c32-cb33-67adc3ff80c5"
      },
      "execution_count": 9,
      "outputs": [
        {
          "output_type": "execute_result",
          "data": {
            "text/html": [
              "\n",
              "  <div id=\"df-97225f14-ad88-489f-b601-a906bae3c5fb\">\n",
              "    <div class=\"colab-df-container\">\n",
              "      <div>\n",
              "<style scoped>\n",
              "    .dataframe tbody tr th:only-of-type {\n",
              "        vertical-align: middle;\n",
              "    }\n",
              "\n",
              "    .dataframe tbody tr th {\n",
              "        vertical-align: top;\n",
              "    }\n",
              "\n",
              "    .dataframe thead th {\n",
              "        text-align: right;\n",
              "    }\n",
              "</style>\n",
              "<table border=\"1\" class=\"dataframe\">\n",
              "  <thead>\n",
              "    <tr style=\"text-align: right;\">\n",
              "      <th></th>\n",
              "      <th>ask_price</th>\n",
              "      <th>bid_price</th>\n",
              "      <th>ask_size</th>\n",
              "      <th>bid_size</th>\n",
              "    </tr>\n",
              "  </thead>\n",
              "  <tbody>\n",
              "    <tr>\n",
              "      <th>0</th>\n",
              "      <td>943.0</td>\n",
              "      <td>942.0</td>\n",
              "      <td>130595.007750</td>\n",
              "      <td>68332.172036</td>\n",
              "    </tr>\n",
              "    <tr>\n",
              "      <th>1</th>\n",
              "      <td>944.0</td>\n",
              "      <td>941.0</td>\n",
              "      <td>211975.730517</td>\n",
              "      <td>161408.748536</td>\n",
              "    </tr>\n",
              "    <tr>\n",
              "      <th>2</th>\n",
              "      <td>945.0</td>\n",
              "      <td>940.0</td>\n",
              "      <td>204695.776789</td>\n",
              "      <td>81772.227684</td>\n",
              "    </tr>\n",
              "    <tr>\n",
              "      <th>3</th>\n",
              "      <td>946.0</td>\n",
              "      <td>939.0</td>\n",
              "      <td>309580.668245</td>\n",
              "      <td>82206.539052</td>\n",
              "    </tr>\n",
              "    <tr>\n",
              "      <th>4</th>\n",
              "      <td>947.0</td>\n",
              "      <td>938.0</td>\n",
              "      <td>295959.783053</td>\n",
              "      <td>184933.566050</td>\n",
              "    </tr>\n",
              "    <tr>\n",
              "      <th>5</th>\n",
              "      <td>948.0</td>\n",
              "      <td>937.0</td>\n",
              "      <td>499823.005442</td>\n",
              "      <td>144512.907879</td>\n",
              "    </tr>\n",
              "    <tr>\n",
              "      <th>6</th>\n",
              "      <td>949.0</td>\n",
              "      <td>936.0</td>\n",
              "      <td>440294.934125</td>\n",
              "      <td>212458.920969</td>\n",
              "    </tr>\n",
              "    <tr>\n",
              "      <th>7</th>\n",
              "      <td>950.0</td>\n",
              "      <td>935.0</td>\n",
              "      <td>546139.045854</td>\n",
              "      <td>544403.679678</td>\n",
              "    </tr>\n",
              "    <tr>\n",
              "      <th>8</th>\n",
              "      <td>951.0</td>\n",
              "      <td>934.0</td>\n",
              "      <td>301090.691308</td>\n",
              "      <td>106958.574805</td>\n",
              "    </tr>\n",
              "    <tr>\n",
              "      <th>9</th>\n",
              "      <td>952.0</td>\n",
              "      <td>933.0</td>\n",
              "      <td>170396.244795</td>\n",
              "      <td>95471.441921</td>\n",
              "    </tr>\n",
              "    <tr>\n",
              "      <th>10</th>\n",
              "      <td>953.0</td>\n",
              "      <td>932.0</td>\n",
              "      <td>199518.042504</td>\n",
              "      <td>170856.356038</td>\n",
              "    </tr>\n",
              "    <tr>\n",
              "      <th>11</th>\n",
              "      <td>954.0</td>\n",
              "      <td>931.0</td>\n",
              "      <td>130593.416065</td>\n",
              "      <td>205909.324819</td>\n",
              "    </tr>\n",
              "    <tr>\n",
              "      <th>12</th>\n",
              "      <td>955.0</td>\n",
              "      <td>930.0</td>\n",
              "      <td>486697.608492</td>\n",
              "      <td>460376.831788</td>\n",
              "    </tr>\n",
              "    <tr>\n",
              "      <th>13</th>\n",
              "      <td>956.0</td>\n",
              "      <td>929.0</td>\n",
              "      <td>130041.951766</td>\n",
              "      <td>79304.672422</td>\n",
              "    </tr>\n",
              "    <tr>\n",
              "      <th>14</th>\n",
              "      <td>957.0</td>\n",
              "      <td>928.0</td>\n",
              "      <td>190396.968093</td>\n",
              "      <td>125803.759119</td>\n",
              "    </tr>\n",
              "  </tbody>\n",
              "</table>\n",
              "</div>\n",
              "      <button class=\"colab-df-convert\" onclick=\"convertToInteractive('df-97225f14-ad88-489f-b601-a906bae3c5fb')\"\n",
              "              title=\"Convert this dataframe to an interactive table.\"\n",
              "              style=\"display:none;\">\n",
              "        \n",
              "  <svg xmlns=\"http://www.w3.org/2000/svg\" height=\"24px\"viewBox=\"0 0 24 24\"\n",
              "       width=\"24px\">\n",
              "    <path d=\"M0 0h24v24H0V0z\" fill=\"none\"/>\n",
              "    <path d=\"M18.56 5.44l.94 2.06.94-2.06 2.06-.94-2.06-.94-.94-2.06-.94 2.06-2.06.94zm-11 1L8.5 8.5l.94-2.06 2.06-.94-2.06-.94L8.5 2.5l-.94 2.06-2.06.94zm10 10l.94 2.06.94-2.06 2.06-.94-2.06-.94-.94-2.06-.94 2.06-2.06.94z\"/><path d=\"M17.41 7.96l-1.37-1.37c-.4-.4-.92-.59-1.43-.59-.52 0-1.04.2-1.43.59L10.3 9.45l-7.72 7.72c-.78.78-.78 2.05 0 2.83L4 21.41c.39.39.9.59 1.41.59.51 0 1.02-.2 1.41-.59l7.78-7.78 2.81-2.81c.8-.78.8-2.07 0-2.86zM5.41 20L4 18.59l7.72-7.72 1.47 1.35L5.41 20z\"/>\n",
              "  </svg>\n",
              "      </button>\n",
              "      \n",
              "  <style>\n",
              "    .colab-df-container {\n",
              "      display:flex;\n",
              "      flex-wrap:wrap;\n",
              "      gap: 12px;\n",
              "    }\n",
              "\n",
              "    .colab-df-convert {\n",
              "      background-color: #E8F0FE;\n",
              "      border: none;\n",
              "      border-radius: 50%;\n",
              "      cursor: pointer;\n",
              "      display: none;\n",
              "      fill: #1967D2;\n",
              "      height: 32px;\n",
              "      padding: 0 0 0 0;\n",
              "      width: 32px;\n",
              "    }\n",
              "\n",
              "    .colab-df-convert:hover {\n",
              "      background-color: #E2EBFA;\n",
              "      box-shadow: 0px 1px 2px rgba(60, 64, 67, 0.3), 0px 1px 3px 1px rgba(60, 64, 67, 0.15);\n",
              "      fill: #174EA6;\n",
              "    }\n",
              "\n",
              "    [theme=dark] .colab-df-convert {\n",
              "      background-color: #3B4455;\n",
              "      fill: #D2E3FC;\n",
              "    }\n",
              "\n",
              "    [theme=dark] .colab-df-convert:hover {\n",
              "      background-color: #434B5C;\n",
              "      box-shadow: 0px 1px 3px 1px rgba(0, 0, 0, 0.15);\n",
              "      filter: drop-shadow(0px 1px 2px rgba(0, 0, 0, 0.3));\n",
              "      fill: #FFFFFF;\n",
              "    }\n",
              "  </style>\n",
              "\n",
              "      <script>\n",
              "        const buttonEl =\n",
              "          document.querySelector('#df-97225f14-ad88-489f-b601-a906bae3c5fb button.colab-df-convert');\n",
              "        buttonEl.style.display =\n",
              "          google.colab.kernel.accessAllowed ? 'block' : 'none';\n",
              "\n",
              "        async function convertToInteractive(key) {\n",
              "          const element = document.querySelector('#df-97225f14-ad88-489f-b601-a906bae3c5fb');\n",
              "          const dataTable =\n",
              "            await google.colab.kernel.invokeFunction('convertToInteractive',\n",
              "                                                     [key], {});\n",
              "          if (!dataTable) return;\n",
              "\n",
              "          const docLinkHtml = 'Like what you see? Visit the ' +\n",
              "            '<a target=\"_blank\" href=https://colab.research.google.com/notebooks/data_table.ipynb>data table notebook</a>'\n",
              "            + ' to learn more about interactive tables.';\n",
              "          element.innerHTML = '';\n",
              "          dataTable['output_type'] = 'display_data';\n",
              "          await google.colab.output.renderOutput(dataTable, element);\n",
              "          const docLink = document.createElement('div');\n",
              "          docLink.innerHTML = docLinkHtml;\n",
              "          element.appendChild(docLink);\n",
              "        }\n",
              "      </script>\n",
              "    </div>\n",
              "  </div>\n",
              "  "
            ],
            "text/plain": [
              "    ask_price  bid_price       ask_size       bid_size\n",
              "0       943.0      942.0  130595.007750   68332.172036\n",
              "1       944.0      941.0  211975.730517  161408.748536\n",
              "2       945.0      940.0  204695.776789   81772.227684\n",
              "3       946.0      939.0  309580.668245   82206.539052\n",
              "4       947.0      938.0  295959.783053  184933.566050\n",
              "5       948.0      937.0  499823.005442  144512.907879\n",
              "6       949.0      936.0  440294.934125  212458.920969\n",
              "7       950.0      935.0  546139.045854  544403.679678\n",
              "8       951.0      934.0  301090.691308  106958.574805\n",
              "9       952.0      933.0  170396.244795   95471.441921\n",
              "10      953.0      932.0  199518.042504  170856.356038\n",
              "11      954.0      931.0  130593.416065  205909.324819\n",
              "12      955.0      930.0  486697.608492  460376.831788\n",
              "13      956.0      929.0  130041.951766   79304.672422\n",
              "14      957.0      928.0  190396.968093  125803.759119"
            ]
          },
          "metadata": {},
          "execution_count": 9
        }
      ]
    },
    {
      "cell_type": "code",
      "source": [
        "# 전략에 대해서 생각해보자.\n",
        "# 체결강도 주식 매수체결량을 주식 매도체결량으로 나눈 값에 숫자 100을 곱하여 계산하고 표현합니다. 따라서, 체결강도가 100이라는 의미는 매수체결량과 매도체결량이 같다는 의미라고 할 수 있습니다\n",
        "# 체결강도가 \n",
        "\n",
        "\n",
        "# "
      ],
      "metadata": {
        "id": "zGEGndV22pRe"
      },
      "execution_count": null,
      "outputs": []
    },
    {
      "cell_type": "code",
      "source": [
        "def get_movingAverage(ticker, rtn = 10):  \n",
        "\n",
        "    df = pyupbit.get_ohlcv(ticker, interval='day')\n",
        "\n",
        "    ma3.extend(df['close'])  # ma3변수에 종가 삽입.  \n",
        "    ma5.extend(df['close'])    \n",
        "    ma10.extend(df['close'])    \n",
        "\n",
        "    curr_ma3 = sum(ma3) / len(ma3) # 3일 이평선  \n",
        "    curr_ma5 = sum(ma5) / len(ma5)   \n",
        "    curr_ma10 = sum(ma10) / len(ma10)   \n",
        "\n",
        "    print(f'Ticker: {ticker} MA(3): {round(curr_ma3,2)}, MA(5): {round(curr_ma5,2)}, MA(10): {round(curr_ma10,2)}') \n",
        "\n",
        "    if rtn == 10:\n",
        "        return curr_ma10\n",
        "    elif rtn == 5:\n",
        "        return curr_ma5\n",
        "    else: return curr_ma3"
      ],
      "metadata": {
        "id": "AQviXPv-2pO6"
      },
      "execution_count": 10,
      "outputs": []
    },
    {
      "cell_type": "code",
      "source": [
        "if pyupbit.get_current_price(\"KRW-XRP\") >= get_movingAverage('KRW-XRP', rtn = 5):\n",
        "    print(0)"
      ],
      "metadata": {
        "colab": {
          "base_uri": "https://localhost:8080/"
        },
        "id": "Ch2JGd6W5noY",
        "outputId": "4778b0dc-b955-424c-eb50-bfbbba919406"
      },
      "execution_count": null,
      "outputs": [
        {
          "output_type": "stream",
          "name": "stdout",
          "text": [
            "Ticker: KRW-XRP MA(3): 848.67, MA(5): 818.8, MA(10): 788.7\n",
            "0\n"
          ]
        }
      ]
    },
    {
      "cell_type": "code",
      "source": [
        "from collections import deque\n",
        "\n",
        "ma3 = deque(maxlen=3)\n",
        "ma5 = deque(maxlen=5)\n",
        "ma10 = deque(maxlen=10)\n",
        "\n",
        "tickers = pyupbit.get_tickers(fiat = 'KRW')[:10]\n",
        "\n",
        "for ticker in tickers:\n",
        "    get_movingAverage(ticker)"
      ],
      "metadata": {
        "colab": {
          "base_uri": "https://localhost:8080/"
        },
        "id": "HwDKipRg2pIT",
        "outputId": "572cc739-d716-40e8-86f8-0d654f4e7391"
      },
      "execution_count": null,
      "outputs": [
        {
          "output_type": "stream",
          "name": "stdout",
          "text": [
            "Ticker: KRW-BTC MA(3): 50816666.67, MA(5): 48760400.0, MA(10): 47977000.0\n",
            "Ticker: KRW-ETH MA(3): 3673333.33, MA(5): 3526200.0, MA(10): 3397100.0\n",
            "Ticker: KRW-NEO MA(3): 27173.33, MA(5): 26224.0, MA(10): 25183.0\n",
            "Ticker: KRW-MTL MA(3): 2123.33, MA(5): 2066.0, MA(10): 1960.0\n",
            "Ticker: KRW-LTC MA(3): 149333.33, MA(5): 143580.0, MA(10): 140215.0\n",
            "Ticker: KRW-XRP MA(3): 812.33, MA(5): 785.4, MA(10): 773.6\n",
            "Ticker: KRW-ETC MA(3): 36206.67, MA(5): 35048.0, MA(10): 33342.0\n",
            "Ticker: KRW-OMG MA(3): 6195.0, MA(5): 6020.0, MA(10): 6000.0\n",
            "Ticker: KRW-SNT MA(3): 67.5, MA(5): 65.16, MA(10): 63.26\n",
            "Ticker: KRW-WAVES MA(3): 12180.0, MA(5): 11596.0, MA(10): 11668.0\n"
          ]
        }
      ]
    }
  ]
}