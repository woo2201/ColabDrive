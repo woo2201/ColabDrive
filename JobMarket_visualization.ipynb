{
  "nbformat": 4,
  "nbformat_minor": 0,
  "metadata": {
    "colab": {
      "name": "JobMarket_visualization.ipynb",
      "provenance": [],
      "collapsed_sections": [],
      "authorship_tag": "ABX9TyNqXqdE02Yagp3Mi3QIwZym",
      "include_colab_link": true
    },
    "kernelspec": {
      "name": "python3",
      "display_name": "Python 3"
    },
    "language_info": {
      "name": "python"
    }
  },
  "cells": [
    {
      "cell_type": "markdown",
      "metadata": {
        "id": "view-in-github",
        "colab_type": "text"
      },
      "source": [
        "<a href=\"https://colab.research.google.com/github/woo2201/ColabDrive/blob/reservior/JobMarket_visualization.ipynb\" target=\"_parent\"><img src=\"https://colab.research.google.com/assets/colab-badge.svg\" alt=\"Open In Colab\"/></a>"
      ]
    },
    {
      "cell_type": "code",
      "execution_count": 1,
      "metadata": {
        "colab": {
          "base_uri": "https://localhost:8080/"
        },
        "id": "lp29hRBeOzqB",
        "outputId": "5b948b36-7a6d-48db-c435-7d0fac39479c"
      },
      "outputs": [
        {
          "output_type": "stream",
          "name": "stdout",
          "text": [
            "Drive already mounted at /content/gdrive; to attempt to forcibly remount, call drive.mount(\"/content/gdrive\", force_remount=True).\n"
          ]
        }
      ],
      "source": [
        "from google.colab import drive \n",
        "drive.mount('/content/gdrive')"
      ]
    },
    {
      "cell_type": "code",
      "source": [
        "cd /content/gdrive/MyDrive/dataset/JobMarket/"
      ],
      "metadata": {
        "colab": {
          "base_uri": "https://localhost:8080/"
        },
        "id": "fth6zQcQQXNC",
        "outputId": "0b1763c9-9889-4296-c791-8d10339143de"
      },
      "execution_count": 2,
      "outputs": [
        {
          "output_type": "stream",
          "name": "stdout",
          "text": [
            "/content/gdrive/MyDrive/dataset/JobMarket\n"
          ]
        }
      ]
    },
    {
      "cell_type": "code",
      "source": [
        "import pandas as pd\n",
        "import numpy as np\n",
        "import matplotlib.pyplot as plt\n",
        "from urllib.request import urlopen\n",
        "from bs4 import BeautifulSoup\n",
        "import requests\n",
        "import lxml\n",
        "import re\n",
        "import html\n",
        "import urllib"
      ],
      "metadata": {
        "id": "UZWuGTVreVYU"
      },
      "execution_count": 3,
      "outputs": []
    },
    {
      "cell_type": "code",
      "source": [
        "pip install konlpy"
      ],
      "metadata": {
        "colab": {
          "base_uri": "https://localhost:8080/"
        },
        "id": "cGpXBR1Qf0qF",
        "outputId": "190dc24a-77f1-4712-cbf3-e53dd78bc57c"
      },
      "execution_count": 4,
      "outputs": [
        {
          "output_type": "stream",
          "name": "stdout",
          "text": [
            "Requirement already satisfied: konlpy in /usr/local/lib/python3.7/dist-packages (0.6.0)\n",
            "Requirement already satisfied: numpy>=1.6 in /usr/local/lib/python3.7/dist-packages (from konlpy) (1.19.5)\n",
            "Requirement already satisfied: lxml>=4.1.0 in /usr/local/lib/python3.7/dist-packages (from konlpy) (4.2.6)\n",
            "Requirement already satisfied: JPype1>=0.7.0 in /usr/local/lib/python3.7/dist-packages (from konlpy) (1.3.0)\n",
            "Requirement already satisfied: typing-extensions in /usr/local/lib/python3.7/dist-packages (from JPype1>=0.7.0->konlpy) (3.10.0.2)\n"
          ]
        }
      ]
    },
    {
      "cell_type": "code",
      "source": [
        "from konlpy.tag import Okt\n",
        "okt = Okt()"
      ],
      "metadata": {
        "id": "YWiwa_t9f0Kj"
      },
      "execution_count": 5,
      "outputs": []
    },
    {
      "cell_type": "markdown",
      "source": [
        "링크 : http://comp.fnguide.com/SVO2/ASP/SVD_UJRank.asp\n",
        "\n",
        "해당 링크에는 500대 한국 기업의 전반적인 재무재표성 데이터가 있습니다.\n",
        "상위 500개 기업을 나열해서, 매출액 및 자산규모/매출액과 채용 규모 및 만족도에 어떠한 관계가 있는지 살펴보려 합니다."
      ],
      "metadata": {
        "id": "i43CbZ5IRlPx"
      }
    },
    {
      "cell_type": "markdown",
      "source": [
        "1. 우리의 고용자가 될 수 있는 500대 기업의 정보에 대해 긁어옵니다.\n",
        "물론 더욱 다양한 기업들이 있습니다만, 많은 구직자들이 "
      ],
      "metadata": {
        "id": "EMIQsMKAuoCU"
      }
    },
    {
      "cell_type": "code",
      "source": [
        "companies = pd.read_csv('companyInfo.csv')"
      ],
      "metadata": {
        "id": "-KfbofsqeVa3"
      },
      "execution_count": 8,
      "outputs": []
    },
    {
      "cell_type": "code",
      "source": [
        "companies.loc[2, '종목명'] = '한국전력공사'"
      ],
      "metadata": {
        "id": "65ScHPsmrZlj"
      },
      "execution_count": 11,
      "outputs": []
    },
    {
      "cell_type": "code",
      "source": [
        "class infoParser:\n",
        "    def __init__(self, company):\n",
        "        self.company = company\n",
        "        try:\n",
        "            self.html = urlopen(\"https://www.teamblind.com/kr/company/\" + urllib.parse.quote(str(self.company)))  \n",
        "            self.bsObject = BeautifulSoup(self.html, \"html.parser\", from_encoding='utf-8')\n",
        "        except urllib.error.HTTPError as err:\n",
        "            pass     \n",
        "\n",
        "    def description(self):\n",
        "        try:\n",
        "            val = self.bsObject.find('div', {\"class\":\"desc all\"}).text\n",
        "        except AttributeError as e:\n",
        "            return None\n",
        "        return val\n",
        "\n",
        "    def overallRating(self):\n",
        "        try:\n",
        "            val = self.bsObject.find('span', {\"class\" : \"star\"}).text\n",
        "        except AttributeError as e:\n",
        "            return None\n",
        "        return val\n",
        "\n",
        "    def individualStar(self):\n",
        "        try:\n",
        "            val = [float(i.text) for i in self.bsObject.find_all('strong',{'class' : \"star\"})]\n",
        "        except AttributeError as e:\n",
        "            return None\n",
        "        return val\n",
        "    \n",
        "    def reviewCount(self):\n",
        "        try:\n",
        "            val = self.bsObject.find('em',{'class' : \"count\"}).text\n",
        "        except AttributeError as e:\n",
        "            return None\n",
        "        return val\n",
        "\n",
        "    def industryCategory(self):\n",
        "        try:\n",
        "            val = self.bsObject.select_one('#wrap > section > div > div > div.cpctw.cpovw > div > div > div > section.overview > ul > li:nth-of-type(2)').text\n",
        "        except AttributeError as e:\n",
        "            return None\n",
        "        return val \n"
      ],
      "metadata": {
        "id": "vkT5glPFEuEG"
      },
      "execution_count": 15,
      "outputs": []
    },
    {
      "cell_type": "code",
      "source": [
        "df = pd.DataFrame({'company' : [],\n",
        "                   'description': [],\n",
        "                   'overallRating': [],\n",
        "                   'individualStar' : [],\n",
        "                   'reviewCount': [],\n",
        "                   'industryCat': []})  # starName = [str(i.text) for i in bsObject.find_all('span', {'class' : 'desc'})][0:5]; starName\n",
        "\n",
        "for cpny in companies['종목명']:\n",
        "    test = infoParser(company = cpny)\n",
        "    adix = {'company' : test.company,\n",
        "            'description': test.description(),\n",
        "            'overallRating': test.overallRating(),\n",
        "            'individualStar' : test.individualStar(),\n",
        "            'reviewCount': test.reviewCount(),\n",
        "            'industryCat': test.industryCategory()}\n",
        "    \n",
        "    df = df.append(adix, ignore_index = True)\n"
      ],
      "metadata": {
        "id": "6Yr5b05-Yngj"
      },
      "execution_count": 16,
      "outputs": []
    },
    {
      "cell_type": "code",
      "source": [
        "df.sample(5)"
      ],
      "metadata": {
        "colab": {
          "base_uri": "https://localhost:8080/",
          "height": 206
        },
        "id": "myyeN0pJq7Cw",
        "outputId": "bf9ea81b-a5da-4c0b-ca1a-c64758773925"
      },
      "execution_count": 17,
      "outputs": [
        {
          "output_type": "execute_result",
          "data": {
            "text/html": [
              "\n",
              "  <div id=\"df-c84ca358-116e-4263-9d97-18d79a430f65\">\n",
              "    <div class=\"colab-df-container\">\n",
              "      <div>\n",
              "<style scoped>\n",
              "    .dataframe tbody tr th:only-of-type {\n",
              "        vertical-align: middle;\n",
              "    }\n",
              "\n",
              "    .dataframe tbody tr th {\n",
              "        vertical-align: top;\n",
              "    }\n",
              "\n",
              "    .dataframe thead th {\n",
              "        text-align: right;\n",
              "    }\n",
              "</style>\n",
              "<table border=\"1\" class=\"dataframe\">\n",
              "  <thead>\n",
              "    <tr style=\"text-align: right;\">\n",
              "      <th></th>\n",
              "      <th>company</th>\n",
              "      <th>description</th>\n",
              "      <th>overallRating</th>\n",
              "      <th>individualStar</th>\n",
              "      <th>reviewCount</th>\n",
              "      <th>industryCat</th>\n",
              "    </tr>\n",
              "  </thead>\n",
              "  <tbody>\n",
              "    <tr>\n",
              "      <th>205</th>\n",
              "      <td>피아이첨단소재</td>\n",
              "      <td>피아이첨단소재는 PI Film 전문기업입니다. 디스플레이, 반도체, 전기자동차 등에...</td>\n",
              "      <td>Rating Score3.5</td>\n",
              "      <td>[3.5, 3.4, 4.3, 2.8, 2.5]</td>\n",
              "      <td>49개 리뷰</td>\n",
              "      <td>업계\\n      기타 제조/수리업\\n</td>\n",
              "    </tr>\n",
              "    <tr>\n",
              "      <th>479</th>\n",
              "      <td>두산중공업</td>\n",
              "      <td>두산중공업은 두산그룹 계열사로 기관, 터빈, 선박용엔진 등의 생산 및 공급을 주요 ...</td>\n",
              "      <td>Rating Score2.9</td>\n",
              "      <td>[2.8, 4.2, 2.5, 3.1, 2.0]</td>\n",
              "      <td>454개 리뷰</td>\n",
              "      <td>업계\\n      건설/부동산업\\n</td>\n",
              "    </tr>\n",
              "    <tr>\n",
              "      <th>26</th>\n",
              "      <td>미래에셋대우</td>\n",
              "      <td>미래에셋대우는 글로벌 비즈니스 투자 플랫폼 구축, 금융 관련 종합 솔루션 제시, 다...</td>\n",
              "      <td>Rating Score3.4</td>\n",
              "      <td>[3.4, 3.4, 3.2, 2.7, 2.5]</td>\n",
              "      <td>279개 리뷰</td>\n",
              "      <td>업계\\n      금융업\\n</td>\n",
              "    </tr>\n",
              "    <tr>\n",
              "      <th>433</th>\n",
              "      <td>에스엠</td>\n",
              "      <td>접기</td>\n",
              "      <td>Rating Score0.0</td>\n",
              "      <td>[]</td>\n",
              "      <td>None</td>\n",
              "      <td>업계\\n      기타 제조/수리업\\n</td>\n",
              "    </tr>\n",
              "    <tr>\n",
              "      <th>294</th>\n",
              "      <td>네패스</td>\n",
              "      <td>네패스는 봉사하는 생활, 도전하는 자세, 감사하는 마음이라는 경영이념 아래 미래 사...</td>\n",
              "      <td>Rating Score2.9</td>\n",
              "      <td>[2.9, 3.0, 2.2, 2.9, 2.3]</td>\n",
              "      <td>261개 리뷰</td>\n",
              "      <td>업계\\n      반도체/전자기기 제조업 \\n</td>\n",
              "    </tr>\n",
              "  </tbody>\n",
              "</table>\n",
              "</div>\n",
              "      <button class=\"colab-df-convert\" onclick=\"convertToInteractive('df-c84ca358-116e-4263-9d97-18d79a430f65')\"\n",
              "              title=\"Convert this dataframe to an interactive table.\"\n",
              "              style=\"display:none;\">\n",
              "        \n",
              "  <svg xmlns=\"http://www.w3.org/2000/svg\" height=\"24px\"viewBox=\"0 0 24 24\"\n",
              "       width=\"24px\">\n",
              "    <path d=\"M0 0h24v24H0V0z\" fill=\"none\"/>\n",
              "    <path d=\"M18.56 5.44l.94 2.06.94-2.06 2.06-.94-2.06-.94-.94-2.06-.94 2.06-2.06.94zm-11 1L8.5 8.5l.94-2.06 2.06-.94-2.06-.94L8.5 2.5l-.94 2.06-2.06.94zm10 10l.94 2.06.94-2.06 2.06-.94-2.06-.94-.94-2.06-.94 2.06-2.06.94z\"/><path d=\"M17.41 7.96l-1.37-1.37c-.4-.4-.92-.59-1.43-.59-.52 0-1.04.2-1.43.59L10.3 9.45l-7.72 7.72c-.78.78-.78 2.05 0 2.83L4 21.41c.39.39.9.59 1.41.59.51 0 1.02-.2 1.41-.59l7.78-7.78 2.81-2.81c.8-.78.8-2.07 0-2.86zM5.41 20L4 18.59l7.72-7.72 1.47 1.35L5.41 20z\"/>\n",
              "  </svg>\n",
              "      </button>\n",
              "      \n",
              "  <style>\n",
              "    .colab-df-container {\n",
              "      display:flex;\n",
              "      flex-wrap:wrap;\n",
              "      gap: 12px;\n",
              "    }\n",
              "\n",
              "    .colab-df-convert {\n",
              "      background-color: #E8F0FE;\n",
              "      border: none;\n",
              "      border-radius: 50%;\n",
              "      cursor: pointer;\n",
              "      display: none;\n",
              "      fill: #1967D2;\n",
              "      height: 32px;\n",
              "      padding: 0 0 0 0;\n",
              "      width: 32px;\n",
              "    }\n",
              "\n",
              "    .colab-df-convert:hover {\n",
              "      background-color: #E2EBFA;\n",
              "      box-shadow: 0px 1px 2px rgba(60, 64, 67, 0.3), 0px 1px 3px 1px rgba(60, 64, 67, 0.15);\n",
              "      fill: #174EA6;\n",
              "    }\n",
              "\n",
              "    [theme=dark] .colab-df-convert {\n",
              "      background-color: #3B4455;\n",
              "      fill: #D2E3FC;\n",
              "    }\n",
              "\n",
              "    [theme=dark] .colab-df-convert:hover {\n",
              "      background-color: #434B5C;\n",
              "      box-shadow: 0px 1px 3px 1px rgba(0, 0, 0, 0.15);\n",
              "      filter: drop-shadow(0px 1px 2px rgba(0, 0, 0, 0.3));\n",
              "      fill: #FFFFFF;\n",
              "    }\n",
              "  </style>\n",
              "\n",
              "      <script>\n",
              "        const buttonEl =\n",
              "          document.querySelector('#df-c84ca358-116e-4263-9d97-18d79a430f65 button.colab-df-convert');\n",
              "        buttonEl.style.display =\n",
              "          google.colab.kernel.accessAllowed ? 'block' : 'none';\n",
              "\n",
              "        async function convertToInteractive(key) {\n",
              "          const element = document.querySelector('#df-c84ca358-116e-4263-9d97-18d79a430f65');\n",
              "          const dataTable =\n",
              "            await google.colab.kernel.invokeFunction('convertToInteractive',\n",
              "                                                     [key], {});\n",
              "          if (!dataTable) return;\n",
              "\n",
              "          const docLinkHtml = 'Like what you see? Visit the ' +\n",
              "            '<a target=\"_blank\" href=https://colab.research.google.com/notebooks/data_table.ipynb>data table notebook</a>'\n",
              "            + ' to learn more about interactive tables.';\n",
              "          element.innerHTML = '';\n",
              "          dataTable['output_type'] = 'display_data';\n",
              "          await google.colab.output.renderOutput(dataTable, element);\n",
              "          const docLink = document.createElement('div');\n",
              "          docLink.innerHTML = docLinkHtml;\n",
              "          element.appendChild(docLink);\n",
              "        }\n",
              "      </script>\n",
              "    </div>\n",
              "  </div>\n",
              "  "
            ],
            "text/plain": [
              "     company  ...                    industryCat\n",
              "205  피아이첨단소재  ...      업계\\n      기타 제조/수리업\\n    \n",
              "479    두산중공업  ...        업계\\n      건설/부동산업\\n    \n",
              "26    미래에셋대우  ...            업계\\n      금융업\\n    \n",
              "433      에스엠  ...      업계\\n      기타 제조/수리업\\n    \n",
              "294      네패스  ...  업계\\n      반도체/전자기기 제조업 \\n    \n",
              "\n",
              "[5 rows x 6 columns]"
            ]
          },
          "metadata": {},
          "execution_count": 17
        }
      ]
    },
    {
      "cell_type": "code",
      "source": [
        "df = df[~df.description.isnull()]"
      ],
      "metadata": {
        "id": "yJGa-ZEHVzAs"
      },
      "execution_count": 18,
      "outputs": []
    },
    {
      "cell_type": "code",
      "source": [
        "df['overallRating'] = df.overallRating.apply(lambda x : re.sub('[a-zA-z]','',x))"
      ],
      "metadata": {
        "id": "wBAToZaQViXE"
      },
      "execution_count": 19,
      "outputs": []
    },
    {
      "cell_type": "code",
      "source": [
        "df['careerImprovement'] = df.individualStar.apply(lambda x: x[0] if x else '')\n",
        "df['workLifeBalance'] = df.individualStar.apply(lambda x: x[1] if x else '')\n",
        "df['salaryWelfare'] = df.individualStar.apply(lambda x: x[2] if x else '')\n",
        "df['workplaceCulture'] = df.individualStar.apply(lambda x: x[3] if x else '')\n",
        "df['boardMembers'] = df.individualStar.apply(lambda x: x[4] if x else '')"
      ],
      "metadata": {
        "id": "xbLuxbKIV-3y"
      },
      "execution_count": 20,
      "outputs": []
    },
    {
      "cell_type": "code",
      "source": [
        ""
      ],
      "metadata": {
        "colab": {
          "base_uri": "https://localhost:8080/",
          "height": 745
        },
        "id": "HF8J8WhDw1ha",
        "outputId": "549e9925-b017-49ec-bbfe-fd33f9df112c"
      },
      "execution_count": 24,
      "outputs": [
        {
          "output_type": "execute_result",
          "data": {
            "text/html": [
              "\n",
              "  <div id=\"df-3392f31d-7a98-4fc5-a404-a64eb02afb9f\">\n",
              "    <div class=\"colab-df-container\">\n",
              "      <div>\n",
              "<style scoped>\n",
              "    .dataframe tbody tr th:only-of-type {\n",
              "        vertical-align: middle;\n",
              "    }\n",
              "\n",
              "    .dataframe tbody tr th {\n",
              "        vertical-align: top;\n",
              "    }\n",
              "\n",
              "    .dataframe thead th {\n",
              "        text-align: right;\n",
              "    }\n",
              "</style>\n",
              "<table border=\"1\" class=\"dataframe\">\n",
              "  <thead>\n",
              "    <tr style=\"text-align: right;\">\n",
              "      <th></th>\n",
              "      <th>company</th>\n",
              "      <th>description</th>\n",
              "      <th>overallRating</th>\n",
              "      <th>individualStar</th>\n",
              "      <th>reviewCount</th>\n",
              "      <th>industryCat</th>\n",
              "      <th>careerImprovement</th>\n",
              "      <th>workLifeBalance</th>\n",
              "      <th>salaryWelfare</th>\n",
              "      <th>workplaceCulture</th>\n",
              "      <th>boardMembers</th>\n",
              "    </tr>\n",
              "  </thead>\n",
              "  <tbody>\n",
              "    <tr>\n",
              "      <th>0</th>\n",
              "      <td>삼성전자</td>\n",
              "      <td>삼성전자는 삼성그룹 계열사로 휴대폰, 컴퓨터, 네트워크시스템, 반도체부품, 디스플레...</td>\n",
              "      <td>3.5</td>\n",
              "      <td>[3.2, 3.1, 3.7, 3.2, 2.6]</td>\n",
              "      <td>7097</td>\n",
              "      <td>업계\\n      반도체/전자기기 제조업 \\n</td>\n",
              "      <td>3.2</td>\n",
              "      <td>3.1</td>\n",
              "      <td>3.7</td>\n",
              "      <td>3.2</td>\n",
              "      <td>2.6</td>\n",
              "    </tr>\n",
              "    <tr>\n",
              "      <th>1</th>\n",
              "      <td>SK하이닉스</td>\n",
              "      <td>SK하이닉스는 반도체 전문기업으로 반도체, 컴퓨터, 통신기기 제조 등의 사업을 영위...</td>\n",
              "      <td>2.3</td>\n",
              "      <td>[2.2, 2.3, 2.5, 2.2, 1.8]</td>\n",
              "      <td>3277</td>\n",
              "      <td>업계\\n      반도체/전자기기 제조업 \\n</td>\n",
              "      <td>2.2</td>\n",
              "      <td>2.3</td>\n",
              "      <td>2.5</td>\n",
              "      <td>2.2</td>\n",
              "      <td>1.8</td>\n",
              "    </tr>\n",
              "    <tr>\n",
              "      <th>2</th>\n",
              "      <td>한국전력공사</td>\n",
              "      <td>한국전력공사는 국민경제 발전 기여를 목적으로 설립된 법인으로 시장형 공기업에 해당합...</td>\n",
              "      <td>4.0</td>\n",
              "      <td>[3.4, 4.2, 3.9, 3.1, 3.0]</td>\n",
              "      <td>1668</td>\n",
              "      <td>업계\\n      국가/공공기관\\n</td>\n",
              "      <td>3.4</td>\n",
              "      <td>4.2</td>\n",
              "      <td>3.9</td>\n",
              "      <td>3.1</td>\n",
              "      <td>3</td>\n",
              "    </tr>\n",
              "    <tr>\n",
              "      <th>3</th>\n",
              "      <td>SK</td>\n",
              "      <td>SK는 에너지, 화학, 정보통신, 반도체, 마케팅, 바이오, 물류 부문에서 사업을 ...</td>\n",
              "      <td>3.5</td>\n",
              "      <td>[3.1, 4.6, 3.2, 3.7, 2.8]</td>\n",
              "      <td>14</td>\n",
              "      <td>업계\\n      금융업\\n</td>\n",
              "      <td>3.1</td>\n",
              "      <td>4.6</td>\n",
              "      <td>3.2</td>\n",
              "      <td>3.7</td>\n",
              "      <td>2.8</td>\n",
              "    </tr>\n",
              "    <tr>\n",
              "      <th>4</th>\n",
              "      <td>SK이노베이션</td>\n",
              "      <td>SK이노베이션은 에너지, 화학 분야를 선도하는 기업으로 석유개발, 정유, 화학, 윤...</td>\n",
              "      <td>3.9</td>\n",
              "      <td>[3.6, 3.9, 3.8, 3.9, 3.3]</td>\n",
              "      <td>729</td>\n",
              "      <td>업계\\n      석유정제품 제조업\\n</td>\n",
              "      <td>3.6</td>\n",
              "      <td>3.9</td>\n",
              "      <td>3.8</td>\n",
              "      <td>3.9</td>\n",
              "      <td>3.3</td>\n",
              "    </tr>\n",
              "    <tr>\n",
              "      <th>...</th>\n",
              "      <td>...</td>\n",
              "      <td>...</td>\n",
              "      <td>...</td>\n",
              "      <td>...</td>\n",
              "      <td>...</td>\n",
              "      <td>...</td>\n",
              "      <td>...</td>\n",
              "      <td>...</td>\n",
              "      <td>...</td>\n",
              "      <td>...</td>\n",
              "      <td>...</td>\n",
              "    </tr>\n",
              "    <tr>\n",
              "      <th>475</th>\n",
              "      <td>LG디스플레이</td>\n",
              "      <td>LG디스플레이는 OLED, Curved OLED 등의 제조 기술력을 보유하고 있는 ...</td>\n",
              "      <td>2.9</td>\n",
              "      <td>[2.8, 2.9, 2.8, 2.7, 2.3]</td>\n",
              "      <td>1659</td>\n",
              "      <td>업계\\n      반도체/전자기기 제조업 \\n</td>\n",
              "      <td>2.8</td>\n",
              "      <td>2.9</td>\n",
              "      <td>2.8</td>\n",
              "      <td>2.7</td>\n",
              "      <td>2.3</td>\n",
              "    </tr>\n",
              "    <tr>\n",
              "      <th>476</th>\n",
              "      <td>S-Oil</td>\n",
              "      <td>S-OIL은 수익성 있는 지속성장을 미션으로 하는 정유/석유화학 업계의 대표회사입니...</td>\n",
              "      <td>3.4</td>\n",
              "      <td>[2.7, 3.7, 3.8, 2.7, 2.1]</td>\n",
              "      <td>212</td>\n",
              "      <td>업계\\n      석유정제품 제조업\\n</td>\n",
              "      <td>2.7</td>\n",
              "      <td>3.7</td>\n",
              "      <td>3.8</td>\n",
              "      <td>2.7</td>\n",
              "      <td>2.1</td>\n",
              "    </tr>\n",
              "    <tr>\n",
              "      <th>477</th>\n",
              "      <td>롯데쇼핑</td>\n",
              "      <td>롯데쇼핑은 롯데그룹의 계열사로 백화점, 할인점, 전자제품전문점, 슈퍼, TV홈쇼핑 ...</td>\n",
              "      <td>2.6</td>\n",
              "      <td>[2.4, 2.9, 2.4, 2.2, 1.8]</td>\n",
              "      <td>807</td>\n",
              "      <td>업계\\n      종합 소매업\\n</td>\n",
              "      <td>2.4</td>\n",
              "      <td>2.9</td>\n",
              "      <td>2.4</td>\n",
              "      <td>2.2</td>\n",
              "      <td>1.8</td>\n",
              "    </tr>\n",
              "    <tr>\n",
              "      <th>478</th>\n",
              "      <td>삼성중공업</td>\n",
              "      <td>삼성중공업은 강선 건조업을 주 업으로 하는 삼성그룹의 계열사입니다. 다양한 종류의 ...</td>\n",
              "      <td>2.1</td>\n",
              "      <td>[2.2, 3.3, 1.8, 2.1, 1.4]</td>\n",
              "      <td>746</td>\n",
              "      <td>업계\\n      조선업\\n</td>\n",
              "      <td>2.2</td>\n",
              "      <td>3.3</td>\n",
              "      <td>1.8</td>\n",
              "      <td>2.1</td>\n",
              "      <td>1.4</td>\n",
              "    </tr>\n",
              "    <tr>\n",
              "      <th>479</th>\n",
              "      <td>두산중공업</td>\n",
              "      <td>두산중공업은 두산그룹 계열사로 기관, 터빈, 선박용엔진 등의 생산 및 공급을 주요 ...</td>\n",
              "      <td>2.9</td>\n",
              "      <td>[2.8, 4.2, 2.5, 3.1, 2.0]</td>\n",
              "      <td>454</td>\n",
              "      <td>업계\\n      건설/부동산업\\n</td>\n",
              "      <td>2.8</td>\n",
              "      <td>4.2</td>\n",
              "      <td>2.5</td>\n",
              "      <td>3.1</td>\n",
              "      <td>2</td>\n",
              "    </tr>\n",
              "  </tbody>\n",
              "</table>\n",
              "<p>476 rows × 11 columns</p>\n",
              "</div>\n",
              "      <button class=\"colab-df-convert\" onclick=\"convertToInteractive('df-3392f31d-7a98-4fc5-a404-a64eb02afb9f')\"\n",
              "              title=\"Convert this dataframe to an interactive table.\"\n",
              "              style=\"display:none;\">\n",
              "        \n",
              "  <svg xmlns=\"http://www.w3.org/2000/svg\" height=\"24px\"viewBox=\"0 0 24 24\"\n",
              "       width=\"24px\">\n",
              "    <path d=\"M0 0h24v24H0V0z\" fill=\"none\"/>\n",
              "    <path d=\"M18.56 5.44l.94 2.06.94-2.06 2.06-.94-2.06-.94-.94-2.06-.94 2.06-2.06.94zm-11 1L8.5 8.5l.94-2.06 2.06-.94-2.06-.94L8.5 2.5l-.94 2.06-2.06.94zm10 10l.94 2.06.94-2.06 2.06-.94-2.06-.94-.94-2.06-.94 2.06-2.06.94z\"/><path d=\"M17.41 7.96l-1.37-1.37c-.4-.4-.92-.59-1.43-.59-.52 0-1.04.2-1.43.59L10.3 9.45l-7.72 7.72c-.78.78-.78 2.05 0 2.83L4 21.41c.39.39.9.59 1.41.59.51 0 1.02-.2 1.41-.59l7.78-7.78 2.81-2.81c.8-.78.8-2.07 0-2.86zM5.41 20L4 18.59l7.72-7.72 1.47 1.35L5.41 20z\"/>\n",
              "  </svg>\n",
              "      </button>\n",
              "      \n",
              "  <style>\n",
              "    .colab-df-container {\n",
              "      display:flex;\n",
              "      flex-wrap:wrap;\n",
              "      gap: 12px;\n",
              "    }\n",
              "\n",
              "    .colab-df-convert {\n",
              "      background-color: #E8F0FE;\n",
              "      border: none;\n",
              "      border-radius: 50%;\n",
              "      cursor: pointer;\n",
              "      display: none;\n",
              "      fill: #1967D2;\n",
              "      height: 32px;\n",
              "      padding: 0 0 0 0;\n",
              "      width: 32px;\n",
              "    }\n",
              "\n",
              "    .colab-df-convert:hover {\n",
              "      background-color: #E2EBFA;\n",
              "      box-shadow: 0px 1px 2px rgba(60, 64, 67, 0.3), 0px 1px 3px 1px rgba(60, 64, 67, 0.15);\n",
              "      fill: #174EA6;\n",
              "    }\n",
              "\n",
              "    [theme=dark] .colab-df-convert {\n",
              "      background-color: #3B4455;\n",
              "      fill: #D2E3FC;\n",
              "    }\n",
              "\n",
              "    [theme=dark] .colab-df-convert:hover {\n",
              "      background-color: #434B5C;\n",
              "      box-shadow: 0px 1px 3px 1px rgba(0, 0, 0, 0.15);\n",
              "      filter: drop-shadow(0px 1px 2px rgba(0, 0, 0, 0.3));\n",
              "      fill: #FFFFFF;\n",
              "    }\n",
              "  </style>\n",
              "\n",
              "      <script>\n",
              "        const buttonEl =\n",
              "          document.querySelector('#df-3392f31d-7a98-4fc5-a404-a64eb02afb9f button.colab-df-convert');\n",
              "        buttonEl.style.display =\n",
              "          google.colab.kernel.accessAllowed ? 'block' : 'none';\n",
              "\n",
              "        async function convertToInteractive(key) {\n",
              "          const element = document.querySelector('#df-3392f31d-7a98-4fc5-a404-a64eb02afb9f');\n",
              "          const dataTable =\n",
              "            await google.colab.kernel.invokeFunction('convertToInteractive',\n",
              "                                                     [key], {});\n",
              "          if (!dataTable) return;\n",
              "\n",
              "          const docLinkHtml = 'Like what you see? Visit the ' +\n",
              "            '<a target=\"_blank\" href=https://colab.research.google.com/notebooks/data_table.ipynb>data table notebook</a>'\n",
              "            + ' to learn more about interactive tables.';\n",
              "          element.innerHTML = '';\n",
              "          dataTable['output_type'] = 'display_data';\n",
              "          await google.colab.output.renderOutput(dataTable, element);\n",
              "          const docLink = document.createElement('div');\n",
              "          docLink.innerHTML = docLinkHtml;\n",
              "          element.appendChild(docLink);\n",
              "        }\n",
              "      </script>\n",
              "    </div>\n",
              "  </div>\n",
              "  "
            ],
            "text/plain": [
              "     company  ... boardMembers\n",
              "0       삼성전자  ...          2.6\n",
              "1     SK하이닉스  ...          1.8\n",
              "2     한국전력공사  ...            3\n",
              "3         SK  ...          2.8\n",
              "4    SK이노베이션  ...          3.3\n",
              "..       ...  ...          ...\n",
              "475  LG디스플레이  ...          2.3\n",
              "476    S-Oil  ...          2.1\n",
              "477     롯데쇼핑  ...          1.8\n",
              "478    삼성중공업  ...          1.4\n",
              "479    두산중공업  ...            2\n",
              "\n",
              "[476 rows x 11 columns]"
            ]
          },
          "metadata": {},
          "execution_count": 24
        }
      ]
    },
    {
      "cell_type": "code",
      "source": [
        "df['reviewCount'] = df['reviewCount'].apply(lambda x: re.sub('[a-zA-z가-힣]','',x) if x else '')\n",
        "df['reviewCount'] = df['reviewCount'].apply(lambda x: x.replace(',','')).apply(lambda x: int(x) if x else 0)"
      ],
      "metadata": {
        "colab": {
          "base_uri": "https://localhost:8080/",
          "height": 346
        },
        "id": "EvGhqBLXbbkp",
        "outputId": "2482eb15-cfa5-40b9-c0d0-921947006dd3"
      },
      "execution_count": 23,
      "outputs": [
        {
          "output_type": "error",
          "ename": "TypeError",
          "evalue": "ignored",
          "traceback": [
            "\u001b[0;31m---------------------------------------------------------------------------\u001b[0m",
            "\u001b[0;31mTypeError\u001b[0m                                 Traceback (most recent call last)",
            "\u001b[0;32m<ipython-input-23-dcbddefb7a94>\u001b[0m in \u001b[0;36m<module>\u001b[0;34m()\u001b[0m\n\u001b[0;32m----> 1\u001b[0;31m \u001b[0mdf\u001b[0m\u001b[0;34m[\u001b[0m\u001b[0;34m'reviewCount'\u001b[0m\u001b[0;34m]\u001b[0m \u001b[0;34m=\u001b[0m \u001b[0mdf\u001b[0m\u001b[0;34m[\u001b[0m\u001b[0;34m'reviewCount'\u001b[0m\u001b[0;34m]\u001b[0m\u001b[0;34m.\u001b[0m\u001b[0mapply\u001b[0m\u001b[0;34m(\u001b[0m\u001b[0;32mlambda\u001b[0m \u001b[0mx\u001b[0m\u001b[0;34m:\u001b[0m \u001b[0mre\u001b[0m\u001b[0;34m.\u001b[0m\u001b[0msub\u001b[0m\u001b[0;34m(\u001b[0m\u001b[0;34m'[a-zA-z가-힣]'\u001b[0m\u001b[0;34m,\u001b[0m\u001b[0;34m''\u001b[0m\u001b[0;34m,\u001b[0m\u001b[0mx\u001b[0m\u001b[0;34m)\u001b[0m \u001b[0;32mif\u001b[0m \u001b[0mx\u001b[0m \u001b[0;32melse\u001b[0m \u001b[0;34m''\u001b[0m\u001b[0;34m)\u001b[0m\u001b[0;34m\u001b[0m\u001b[0;34m\u001b[0m\u001b[0m\n\u001b[0m",
            "\u001b[0;32m/usr/local/lib/python3.7/dist-packages/pandas/core/series.py\u001b[0m in \u001b[0;36mapply\u001b[0;34m(self, func, convert_dtype, args, **kwds)\u001b[0m\n\u001b[1;32m   4211\u001b[0m             \u001b[0;32melse\u001b[0m\u001b[0;34m:\u001b[0m\u001b[0;34m\u001b[0m\u001b[0;34m\u001b[0m\u001b[0m\n\u001b[1;32m   4212\u001b[0m                 \u001b[0mvalues\u001b[0m \u001b[0;34m=\u001b[0m \u001b[0mself\u001b[0m\u001b[0;34m.\u001b[0m\u001b[0mastype\u001b[0m\u001b[0;34m(\u001b[0m\u001b[0mobject\u001b[0m\u001b[0;34m)\u001b[0m\u001b[0;34m.\u001b[0m\u001b[0m_values\u001b[0m\u001b[0;34m\u001b[0m\u001b[0;34m\u001b[0m\u001b[0m\n\u001b[0;32m-> 4213\u001b[0;31m                 \u001b[0mmapped\u001b[0m \u001b[0;34m=\u001b[0m \u001b[0mlib\u001b[0m\u001b[0;34m.\u001b[0m\u001b[0mmap_infer\u001b[0m\u001b[0;34m(\u001b[0m\u001b[0mvalues\u001b[0m\u001b[0;34m,\u001b[0m \u001b[0mf\u001b[0m\u001b[0;34m,\u001b[0m \u001b[0mconvert\u001b[0m\u001b[0;34m=\u001b[0m\u001b[0mconvert_dtype\u001b[0m\u001b[0;34m)\u001b[0m\u001b[0;34m\u001b[0m\u001b[0;34m\u001b[0m\u001b[0m\n\u001b[0m\u001b[1;32m   4214\u001b[0m \u001b[0;34m\u001b[0m\u001b[0m\n\u001b[1;32m   4215\u001b[0m         \u001b[0;32mif\u001b[0m \u001b[0mlen\u001b[0m\u001b[0;34m(\u001b[0m\u001b[0mmapped\u001b[0m\u001b[0;34m)\u001b[0m \u001b[0;32mand\u001b[0m \u001b[0misinstance\u001b[0m\u001b[0;34m(\u001b[0m\u001b[0mmapped\u001b[0m\u001b[0;34m[\u001b[0m\u001b[0;36m0\u001b[0m\u001b[0;34m]\u001b[0m\u001b[0;34m,\u001b[0m \u001b[0mSeries\u001b[0m\u001b[0;34m)\u001b[0m\u001b[0;34m:\u001b[0m\u001b[0;34m\u001b[0m\u001b[0;34m\u001b[0m\u001b[0m\n",
            "\u001b[0;32mpandas/_libs/lib.pyx\u001b[0m in \u001b[0;36mpandas._libs.lib.map_infer\u001b[0;34m()\u001b[0m\n",
            "\u001b[0;32m<ipython-input-23-dcbddefb7a94>\u001b[0m in \u001b[0;36m<lambda>\u001b[0;34m(x)\u001b[0m\n\u001b[0;32m----> 1\u001b[0;31m \u001b[0mdf\u001b[0m\u001b[0;34m[\u001b[0m\u001b[0;34m'reviewCount'\u001b[0m\u001b[0;34m]\u001b[0m \u001b[0;34m=\u001b[0m \u001b[0mdf\u001b[0m\u001b[0;34m[\u001b[0m\u001b[0;34m'reviewCount'\u001b[0m\u001b[0;34m]\u001b[0m\u001b[0;34m.\u001b[0m\u001b[0mapply\u001b[0m\u001b[0;34m(\u001b[0m\u001b[0;32mlambda\u001b[0m \u001b[0mx\u001b[0m\u001b[0;34m:\u001b[0m \u001b[0mre\u001b[0m\u001b[0;34m.\u001b[0m\u001b[0msub\u001b[0m\u001b[0;34m(\u001b[0m\u001b[0;34m'[a-zA-z가-힣]'\u001b[0m\u001b[0;34m,\u001b[0m\u001b[0;34m''\u001b[0m\u001b[0;34m,\u001b[0m\u001b[0mx\u001b[0m\u001b[0;34m)\u001b[0m \u001b[0;32mif\u001b[0m \u001b[0mx\u001b[0m \u001b[0;32melse\u001b[0m \u001b[0;34m''\u001b[0m\u001b[0;34m)\u001b[0m\u001b[0;34m\u001b[0m\u001b[0;34m\u001b[0m\u001b[0m\n\u001b[0m",
            "\u001b[0;32m/usr/lib/python3.7/re.py\u001b[0m in \u001b[0;36msub\u001b[0;34m(pattern, repl, string, count, flags)\u001b[0m\n\u001b[1;32m    192\u001b[0m     \u001b[0ma\u001b[0m \u001b[0mcallable\u001b[0m\u001b[0;34m,\u001b[0m \u001b[0mit\u001b[0m\u001b[0;31m'\u001b[0m\u001b[0ms\u001b[0m \u001b[0mpassed\u001b[0m \u001b[0mthe\u001b[0m \u001b[0mMatch\u001b[0m \u001b[0mobject\u001b[0m \u001b[0;32mand\u001b[0m \u001b[0mmust\u001b[0m \u001b[0;32mreturn\u001b[0m\u001b[0;34m\u001b[0m\u001b[0;34m\u001b[0m\u001b[0m\n\u001b[1;32m    193\u001b[0m     a replacement string to be used.\"\"\"\n\u001b[0;32m--> 194\u001b[0;31m     \u001b[0;32mreturn\u001b[0m \u001b[0m_compile\u001b[0m\u001b[0;34m(\u001b[0m\u001b[0mpattern\u001b[0m\u001b[0;34m,\u001b[0m \u001b[0mflags\u001b[0m\u001b[0;34m)\u001b[0m\u001b[0;34m.\u001b[0m\u001b[0msub\u001b[0m\u001b[0;34m(\u001b[0m\u001b[0mrepl\u001b[0m\u001b[0;34m,\u001b[0m \u001b[0mstring\u001b[0m\u001b[0;34m,\u001b[0m \u001b[0mcount\u001b[0m\u001b[0;34m)\u001b[0m\u001b[0;34m\u001b[0m\u001b[0;34m\u001b[0m\u001b[0m\n\u001b[0m\u001b[1;32m    195\u001b[0m \u001b[0;34m\u001b[0m\u001b[0m\n\u001b[1;32m    196\u001b[0m \u001b[0;32mdef\u001b[0m \u001b[0msubn\u001b[0m\u001b[0;34m(\u001b[0m\u001b[0mpattern\u001b[0m\u001b[0;34m,\u001b[0m \u001b[0mrepl\u001b[0m\u001b[0;34m,\u001b[0m \u001b[0mstring\u001b[0m\u001b[0;34m,\u001b[0m \u001b[0mcount\u001b[0m\u001b[0;34m=\u001b[0m\u001b[0;36m0\u001b[0m\u001b[0;34m,\u001b[0m \u001b[0mflags\u001b[0m\u001b[0;34m=\u001b[0m\u001b[0;36m0\u001b[0m\u001b[0;34m)\u001b[0m\u001b[0;34m:\u001b[0m\u001b[0;34m\u001b[0m\u001b[0;34m\u001b[0m\u001b[0m\n",
            "\u001b[0;31mTypeError\u001b[0m: expected string or bytes-like object"
          ]
        }
      ]
    },
    {
      "cell_type": "code",
      "source": [
        "df['repNouns'] = df.description.apply(lambda x: okt.nouns(x))"
      ],
      "metadata": {
        "id": "Xc2u-6gHxjhR"
      },
      "execution_count": null,
      "outputs": []
    },
    {
      "cell_type": "code",
      "source": [
        "df['industry'] = df.industryCat.apply(lambda x: x.replace('업계','').replace('\\n', ''))"
      ],
      "metadata": {
        "id": "ud5UmwAQxAbB"
      },
      "execution_count": 29,
      "outputs": []
    },
    {
      "cell_type": "code",
      "source": [
        "df = df.drop(['description','individualStar','industryCat'], axis = 1)"
      ],
      "metadata": {
        "id": "BIT5gQFZxDTI"
      },
      "execution_count": 31,
      "outputs": []
    },
    {
      "cell_type": "code",
      "source": [
        "secondary = df[['company','overallRating','repNouns']].explode('repNouns')"
      ],
      "metadata": {
        "id": "87zFItt0x43q"
      },
      "execution_count": 35,
      "outputs": []
    },
    {
      "cell_type": "code",
      "source": [
        "df.to_csv('/content/gdrive/MyDrive/dataset/JobMarket/completeList.csv')"
      ],
      "metadata": {
        "id": "L2d4sf-wyqMB"
      },
      "execution_count": 36,
      "outputs": []
    },
    {
      "cell_type": "code",
      "source": [
        "secondary.to_csv('/content/gdrive/MyDrive/dataset/JobMarket/completeList_second.csv')"
      ],
      "metadata": {
        "id": "y04CPxb5yvqR"
      },
      "execution_count": 37,
      "outputs": []
    },
    {
      "cell_type": "code",
      "source": [
        "#chk.bsObject.find_all(attrs = {'class' : 'sctit'})\n",
        "# [child for child in chk.bsObject.ul.children]\n",
        "# tip : error 해결. https://mjdeeplearning.tistory.com/46"
      ],
      "metadata": {
        "colab": {
          "base_uri": "https://localhost:8080/"
        },
        "id": "LVI3h5WZgDrQ",
        "outputId": "23ad6c2f-03ca-4114-a95e-1312e576df87"
      },
      "execution_count": 108,
      "outputs": [
        {
          "output_type": "execute_result",
          "data": {
            "text/plain": [
              "[<h1 class=\"sctit\">삼성전자 회사소개</h1>,\n",
              " <h2 class=\"sctit\">삼성전자 리뷰</h2>,\n",
              " <h2 class=\"sctit\">삼성전자 게시글</h2>,\n",
              " <h2 class=\"sctit\">삼성전자 뉴스</h2>,\n",
              " <h2 class=\"sctit\">삼성전자 연봉 정보</h2>,\n",
              " <h2 class=\"sctit\">삼성전자 채용 공고</h2>]"
            ]
          },
          "metadata": {},
          "execution_count": 108
        }
      ]
    },
    {
      "cell_type": "code",
      "source": [
        ""
      ],
      "metadata": {
        "id": "Qz9PNarURYM7"
      },
      "execution_count": 181,
      "outputs": []
    },
    {
      "cell_type": "code",
      "source": [
        ""
      ],
      "metadata": {
        "id": "f6aPTLX8rPZg"
      },
      "execution_count": null,
      "outputs": []
    },
    {
      "cell_type": "code",
      "source": [
        ""
      ],
      "metadata": {
        "id": "ufWfhEg1rPcW"
      },
      "execution_count": null,
      "outputs": []
    },
    {
      "cell_type": "code",
      "source": [
        ""
      ],
      "metadata": {
        "id": "QGcIWVDxrPfP"
      },
      "execution_count": null,
      "outputs": []
    },
    {
      "cell_type": "code",
      "source": [
        ""
      ],
      "metadata": {
        "id": "qLU06qRprPhz"
      },
      "execution_count": null,
      "outputs": []
    },
    {
      "cell_type": "code",
      "source": [
        ""
      ],
      "metadata": {
        "id": "Us0XbHVbrPkb"
      },
      "execution_count": null,
      "outputs": []
    }
  ]
}