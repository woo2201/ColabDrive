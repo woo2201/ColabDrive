{
  "nbformat": 4,
  "nbformat_minor": 0,
  "metadata": {
    "colab": {
      "name": "Project Euler.ipynb",
      "provenance": [],
      "collapsed_sections": [],
      "machine_shape": "hm",
      "authorship_tag": "ABX9TyMR6MfDbZiuJtz3WJaDqnJe",
      "include_colab_link": true
    },
    "kernelspec": {
      "name": "python3",
      "display_name": "Python 3"
    },
    "language_info": {
      "name": "python"
    },
    "accelerator": "GPU"
  },
  "cells": [
    {
      "cell_type": "markdown",
      "metadata": {
        "id": "view-in-github",
        "colab_type": "text"
      },
      "source": [
        "<a href=\"https://colab.research.google.com/github/woo2201/sampleCases/blob/reservior/Project_Euler.ipynb\" target=\"_parent\"><img src=\"https://colab.research.google.com/assets/colab-badge.svg\" alt=\"Open In Colab\"/></a>"
      ]
    },
    {
      "cell_type": "markdown",
      "source": [
        "# 프로젝트 오일러"
      ],
      "metadata": {
        "id": "lSJwljMV91nh"
      }
    },
    {
      "cell_type": "markdown",
      "source": [
        "- 피보나치의 합"
      ],
      "metadata": {
        "id": "69WuSdk898WS"
      }
    },
    {
      "cell_type": "code",
      "execution_count": null,
      "metadata": {
        "id": "Pmczk9OB905F"
      },
      "outputs": [],
      "source": [
        "lst = [1,2]\n",
        "for i in range(2, 100000):\n",
        "    val = (lst[i-2] + lst[i-1])\n",
        "    if val >= 4000000:\n",
        "        break    \n",
        "    lst.append(val)\n",
        "\n",
        "sum([i for i in lst if i % 2 == 0])"
      ]
    },
    {
      "cell_type": "markdown",
      "source": [
        "- 가장 큰 소인수 구하기"
      ],
      "metadata": {
        "id": "nmWXC9va-A4I"
      }
    },
    {
      "cell_type": "code",
      "source": [
        "lst = []\n",
        "d = 2\n",
        "x = 600851475143\n",
        "while x >= d:\n",
        "    if x % d == 0: # d로 딱 나뉘면...\n",
        "        lst.append(d)\n",
        "        x = x / d\n",
        "    else:\n",
        "        d = d + 1\n",
        "\n",
        "max(lst)"
      ],
      "metadata": {
        "colab": {
          "base_uri": "https://localhost:8080/"
        },
        "id": "b_AExvlC97LT",
        "outputId": "4a5c6acf-7c28-4803-ff4b-7d6ee1252aa7"
      },
      "execution_count": null,
      "outputs": [
        {
          "output_type": "execute_result",
          "data": {
            "text/plain": [
              "6857"
            ]
          },
          "metadata": {},
          "execution_count": 7
        }
      ]
    },
    {
      "cell_type": "markdown",
      "source": [
        "- 세자리를 곱해 만들 수 있는 가장 큰 대칭수"
      ],
      "metadata": {
        "id": "fGu911Yz_pd1"
      }
    },
    {
      "cell_type": "code",
      "source": [
        "for i in range(1000, 100, -1):\n",
        "    for j in range(1000, 100, -1):\n",
        "        val = i * j\n",
        "        if str(val) == str(val)[::-1]:\n",
        "            print(i, j)\n",
        "            break;\n",
        "\n"
      ],
      "metadata": {
        "id": "0hyoMJTZ97Rj"
      },
      "execution_count": null,
      "outputs": []
    },
    {
      "cell_type": "markdown",
      "source": [
        "- 1 ~ 20 사이의 어떤 수로도 나누어 떨어지는 가장 작은 수\n",
        "    - 예시 : 1 ~ 10 사이의 어떤 수로도 나누어 떨어지는 가장 작은 수는 2520입니다."
      ],
      "metadata": {
        "id": "RLNUfux2WSyW"
      }
    },
    {
      "cell_type": "code",
      "source": [
        "elem=[2]\n",
        "for i in range(3,20):   \n",
        "    for j in range(2,i):   \n",
        "        if i%j==0:\n",
        "            break\n",
        "        elif j==i-1:\n",
        "            elem.append(i)"
      ],
      "metadata": {
        "id": "iZSt2hXGWSI_"
      },
      "execution_count": null,
      "outputs": []
    },
    {
      "cell_type": "code",
      "source": [
        "print(2*3*5*7 * 4* 3)"
      ],
      "metadata": {
        "colab": {
          "base_uri": "https://localhost:8080/"
        },
        "id": "5dMFI7isPQ24",
        "outputId": "e2dc0c07-a26c-4608-84ec-5b93b0913a1a"
      },
      "execution_count": null,
      "outputs": [
        {
          "output_type": "stream",
          "name": "stdout",
          "text": [
            "2520\n"
          ]
        }
      ]
    },
    {
      "cell_type": "code",
      "source": [
        ""
      ],
      "metadata": {
        "id": "MJUkgeLfXSdm"
      },
      "execution_count": null,
      "outputs": []
    },
    {
      "cell_type": "markdown",
      "source": [
        "# 얼른 마스크'씨 회사 전기자동차의 행복한 일련번호"
      ],
      "metadata": {
        "id": "yWJct8yLdQhm"
      }
    },
    {
      "cell_type": "markdown",
      "source": [
        "행복 수는 각 자릿수의 제곱의 합으로 변환하는 과정을 반복할 때 언젠가는 1에 도달하는 수입니다.\n",
        "예로, 13 → 1x1 + 3x3 = 10 → 1x1 + 0x0 = 1이므로 13은 행복 수입니다.\n",
        "\n",
        "행복 수가 아닌 것은 슬픈(sad) 수 또는 불행(unhappy) 수라고 불립니다.\n",
        "예로, 4 → 4x4 = 16 → 1x1 + 6x6 = 37 → 3x3 + 7x7 = 58 → ... → 4 로 순환하여 결코 1에 도달할 수 없으니 4는 슬픈 수입니다.\n",
        "\n",
        "문제\n",
        "'얼른 마스크'씨 회사 전기자동차의 일련번호가 될 수 있는 1 ~ 9999 범위의 행복 수는 모두 몇 개이고\n",
        "그 총합은 얼마인지 구하는 프로그램을 작성해서 보내주세요 작성하세요.\n",
        "\n",
        "입력\n",
        "각 범위의 최댓값을 한 줄에 하나씩 입력으로 받습니다. 최종적으로 구하고자 하는 범위의 최댓값은 9999이므로 소스코드 안에 하드코딩 해도 됩니다."
      ],
      "metadata": {
        "id": "-6KCAdjbdKiT"
      }
    },
    {
      "cell_type": "code",
      "execution_count": null,
      "metadata": {
        "id": "ZUe1bysqdJPC"
      },
      "outputs": [],
      "source": [
        "def func(test):\n",
        "    return sum([int(i)**2 for i in str(test)])\n",
        "    \n",
        "successList = [] # val 이 행복수가 맞다면 여기에 들어갈거.\n",
        "for val in range(1, 10000): # 10000 개 테스트 할거.\n",
        "    temp = val\n",
        "    while True:\n",
        "        temp = func(temp)\n",
        "        if temp == 1:\n",
        "            successList.append(val)\n",
        "            break\n",
        "        elif temp == 4:\n",
        "            break\n",
        "        else:\n",
        "            pass"
      ]
    },
    {
      "cell_type": "code",
      "source": [
        "len(successList) * sum(successList)"
      ],
      "metadata": {
        "colab": {
          "base_uri": "https://localhost:8080/"
        },
        "id": "4rkBZMJ_vIIU",
        "outputId": "98c8058e-0e1a-497c-e23f-9390af79b36f"
      },
      "execution_count": null,
      "outputs": [
        {
          "output_type": "execute_result",
          "data": {
            "text/plain": [
              "10212466429"
            ]
          },
          "metadata": {},
          "execution_count": 127
        }
      ]
    },
    {
      "cell_type": "markdown",
      "source": [
        "# 입력\n",
        "\n",
        "암아존 배조스님의 은행 이체한도는 100조원으로 설정돼 있으므로 입력 금액의 범위는 1원에서 100조원까지입니다.\n",
        "모든 금액은 천단위 구분자인 콤마가 표시돼있고 금액단위인 원으로 끝납니다.\n",
        "예로 아래와 같은 입력이 가능하고 입력은 별도 파일에서 읽어와도 되고, 소스코드안에 포함시켜도 됩니다.\n",
        "물론 UI를 만들어 사용자로부터 직접 입력 받아도 좋습니다.\n",
        "\n",
        "1원\n",
        "80,270원\n",
        "111,111원\n",
        "1,234,567,890원\n",
        "100,000,000,000,000원\n",
        "\n",
        "# 출력\n",
        "\n",
        "각각의 입력에 대하여 만단위로 띄어쓰기 구분된 자연스러운 한글읽기를 출력합니다.\n",
        "위 예의 출력은 다음과 같습니다.\n",
        "일원\n",
        "팔만 이백칠십원\n",
        "십일만 천백십일원\n",
        "십이억 삼천사백오십육만 칠천팔백구십원\n",
        "백조원"
      ],
      "metadata": {
        "id": "t3eVdLVOvyco"
      }
    },
    {
      "cell_type": "code",
      "source": [
        "x = 80270\n",
        "# 팔만 이백 칠십 원\n"
      ],
      "metadata": {
        "id": "wp5MLSjPvyq8"
      },
      "execution_count": null,
      "outputs": []
    },
    {
      "cell_type": "code",
      "source": [
        "# 자리수 표현\n",
        "10 ** (len(str(x)) - 1)"
      ],
      "metadata": {
        "colab": {
          "base_uri": "https://localhost:8080/"
        },
        "id": "_JIwxu93vzGR",
        "outputId": "baa6bfbf-0aad-4c03-e94d-4e036edc5bc1"
      },
      "execution_count": null,
      "outputs": [
        {
          "output_type": "execute_result",
          "data": {
            "text/plain": [
              "10000"
            ]
          },
          "metadata": {},
          "execution_count": 136
        }
      ]
    },
    {
      "cell_type": "code",
      "source": [
        "[int(v) * (10 ** (len(str(x)) - (i + 1))) for i,v in enumerate(list(str(x)))]"
      ],
      "metadata": {
        "colab": {
          "base_uri": "https://localhost:8080/"
        },
        "id": "kRXs-JUivzIq",
        "outputId": "65e59244-3bde-48d1-ce1e-108f5bcf12a2"
      },
      "execution_count": null,
      "outputs": [
        {
          "output_type": "execute_result",
          "data": {
            "text/plain": [
              "[80000, 0, 200, 70, 0]"
            ]
          },
          "metadata": {},
          "execution_count": 146
        }
      ]
    },
    {
      "cell_type": "code",
      "source": [
        "def num2kor(number, mode):\n",
        "\n",
        "    if mode == 'headnumber':    \n",
        "        number = str(number)\n",
        "        if number == '0':\n",
        "            return ''\n",
        "        temp = [i for i in zip([str(i) for i in range(1, 10)],[\"일\",\"이\",\"삼\",\"사\",\"오\",\"육\",\"칠\",\"팔\",\"구\"])]\n",
        "        d = dict(temp)\n",
        "        return d[number]\n",
        "\n",
        "    if mode == 'digitnumber':    \n",
        "        number = str(number)\n",
        "        if number == '0':\n",
        "            return ''\n",
        "        if number == '1':\n",
        "            return ''\n",
        "        temp = [i for i in zip([str(10**i) for i in range(1, 15)],[\"십\",\"백\",\"천\",\"만\",\"십만\",\"백만\",\"천만\",\"억\", \"십억\", \"백억\",\"천억\",\"조\",\"십조\",\"백조\"])]    \n",
        "        d = dict(temp)\n",
        "        return d[number]\n"
      ],
      "metadata": {
        "id": "dqrnMZrtXAOy"
      },
      "execution_count": null,
      "outputs": []
    },
    {
      "cell_type": "code",
      "source": [
        "# if (10**14)\n",
        "\n",
        "def solution(number):\n",
        "\n",
        "    if ((number >= (10**14)) | (number <= (10**0))):\n",
        "        return print(\"out of boundary\")\n",
        "\n",
        "    headnumber = [int(v) for i,v in enumerate(list(str(number)))]\n",
        "    digitnumber = [(10 ** (len(str(number)) - (i + 1))) for i,v in enumerate(list(str(number)))]\n",
        "\n",
        "\n",
        "    korHead = [num2kor(number = i, mode = 'headnumber') for i in headnumber]\n",
        "    kordigit = [num2kor(number = i, mode = 'digitnumber') for i in digitnumber]\n",
        "    answer = [i[0]+i[1] for i in zip(korHead, kordigit) if i[0] != '']\n",
        "\n",
        "    rslt = []\n",
        "    for ans in answer:\n",
        "        if ans.startswith('일') and len(ans) >= 2:\n",
        "            ans = ans.replace('일', '')\n",
        "            rslt.append(ans)\n",
        "        else:\n",
        "            rslt.append(ans)\n",
        "    \n",
        "    rslt.append('원')\n",
        "\n",
        "    return ''.join(rslt)"
      ],
      "metadata": {
        "id": "LPt1FlqKvzLN"
      },
      "execution_count": null,
      "outputs": []
    },
    {
      "cell_type": "code",
      "source": [
        "solution(95000000404918)"
      ],
      "metadata": {
        "colab": {
          "base_uri": "https://localhost:8080/",
          "height": 35
        },
        "id": "XYH5-qs_GCfa",
        "outputId": "017c93ea-d508-4f75-e9c1-2c73851c55e4"
      },
      "execution_count": null,
      "outputs": [
        {
          "output_type": "execute_result",
          "data": {
            "application/vnd.google.colaboratory.intrinsic+json": {
              "type": "string"
            },
            "text/plain": [
              "'구십조오조사십만사천구백십팔원'"
            ]
          },
          "metadata": {},
          "execution_count": 32
        }
      ]
    },
    {
      "cell_type": "code",
      "source": [
        "def num2kor(number, mode):\n",
        "\n",
        "    if mode == 'headnumber':    \n",
        "        number = str(number)\n",
        "        if number == '0':\n",
        "            return ''\n",
        "        temp = [i for i in zip([str(i) for i in range(1, 10)],[\"일\",\"이\",\"삼\",\"사\",\"오\",\"육\",\"칠\",\"팔\",\"구\"])]\n",
        "        d = dict(temp)\n",
        "        return d[number]\n",
        "\n",
        "    if mode == 'digitnumber':    \n",
        "        number = str(number)\n",
        "        if number == '0':\n",
        "            return ''\n",
        "        if number == '1':\n",
        "            return ''\n",
        "        temp = [i for i in zip([str(10**i) for i in range(1, 15)],[\"십\",\"백\",\"천\",\"만\",\"십만\",\"백만\",\"천만\",\"억\", \"십억\", \"백억\",\"천억\",\"조\",\"십조\",\"백조\"])]    \n",
        "        d = dict(temp)\n",
        "        return d[number]\n"
      ],
      "metadata": {
        "id": "SZKM4ayYIU_o"
      },
      "execution_count": null,
      "outputs": []
    },
    {
      "cell_type": "code",
      "source": [
        ""
      ],
      "metadata": {
        "id": "FlLGM0HIYQun"
      },
      "execution_count": null,
      "outputs": []
    },
    {
      "cell_type": "code",
      "source": [
        ""
      ],
      "metadata": {
        "id": "QKq7AdHEYk1U"
      },
      "execution_count": null,
      "outputs": []
    },
    {
      "cell_type": "markdown",
      "source": [
        "# 10,001 번째 소수\n",
        "\n",
        "소수를 크기 순으로 나열하면 2, 3, 5, 7, 11, 13, ... 과 같이 됩니다.\n",
        "이 때 10,001번째의 소수를 구하세요."
      ],
      "metadata": {
        "id": "E-zZmOV-0E4N"
      }
    },
    {
      "cell_type": "code",
      "source": [
        "def nthPrime(n):\n",
        "    # To-do\n",
        "    # 충분히 큰 크기(1000000 정도)를 가진 리스트를 생성하고\n",
        "    # 에라토스테네스의 체를 사용해 n번째의 소수를 찾아 반환하세요.\n",
        "    a = [False, False] + [True] * 999998\n",
        "    Primes = []\n",
        "    \n",
        "    for i in range(2, 999998):\n",
        "        if a[i]:\n",
        "            Primes.append(i)\n",
        "            for j in range(i+i, 999998, i):\n",
        "                a[j] = False\n",
        "    \n",
        "    return Primes[n-1]"
      ],
      "metadata": {
        "id": "7TP1mq68cGeo"
      },
      "execution_count": null,
      "outputs": []
    },
    {
      "cell_type": "code",
      "source": [
        "nthPrime(10001)"
      ],
      "metadata": {
        "id": "DbXLHIz7X60e",
        "outputId": "5c302f74-bf93-438d-f018-46a197a94af2",
        "colab": {
          "base_uri": "https://localhost:8080/"
        }
      },
      "execution_count": null,
      "outputs": [
        {
          "output_type": "execute_result",
          "data": {
            "text/plain": [
              "104743"
            ]
          },
          "metadata": {},
          "execution_count": 2
        }
      ]
    },
    {
      "cell_type": "markdown",
      "source": [
        "# 가장 긴 팰린드럼\n",
        "\n",
        " - 아무리 팰린드럼이 길어봤자, 문자열 최대 길이보다 짧다. 문자열 s의 길이 : 2,500 이하의 자연수이기 때문에 경우의수가 너무 많을 듯함. 그렇기 때문에 \n"
      ],
      "metadata": {
        "id": "SgOy0AowXdnC"
      }
    },
    {
      "cell_type": "code",
      "source": [
        "# 효율성 미패스 ㅠㅠ\n",
        "def palindrome(s):\n",
        "    return True if s == s[::-1] else False\n",
        "\n",
        "def solution(s):\n",
        "    \n",
        "    maxLength = len(s) \n",
        "        \n",
        "    if palindrome(s):\n",
        "        answer = maxLength\n",
        "    \n",
        "    else:\n",
        "        for i in range(maxLength, 0, -1): # 10, 9, 8, 7,... 1\n",
        "            for j in range(0, 10-i+1):\n",
        "                if palindrome(s[j:i+j]) and len(s[j:i+j]) > 1:\n",
        "                    answer = len(s[j:i+j])\n",
        "                    break\n",
        "\n",
        "    return answer"
      ],
      "metadata": {
        "id": "m-1qHp21cGhR",
        "colab": {
          "base_uri": "https://localhost:8080/"
        },
        "outputId": "588f5882-223d-410b-d46a-f453cd8adf74"
      },
      "execution_count": null,
      "outputs": [
        {
          "output_type": "execute_result",
          "data": {
            "text/plain": [
              "[0, 0, 1, 1, 1]"
            ]
          },
          "metadata": {},
          "execution_count": 2
        }
      ]
    },
    {
      "cell_type": "code",
      "source": [
        ""
      ],
      "metadata": {
        "id": "R38oM0fmXcs-"
      },
      "execution_count": null,
      "outputs": []
    },
    {
      "cell_type": "code",
      "source": [
        ""
      ],
      "metadata": {
        "id": "PCFVj5Ex5hna"
      },
      "execution_count": null,
      "outputs": []
    },
    {
      "cell_type": "markdown",
      "source": [
        "# LEETCODE"
      ],
      "metadata": {
        "id": "sGa_WdKH5hvs"
      }
    },
    {
      "cell_type": "code",
      "source": [
        "nums = [2,7,11,15]\n",
        "target = 9"
      ],
      "metadata": {
        "id": "Xy_APRFa5kY-"
      },
      "execution_count": null,
      "outputs": []
    },
    {
      "cell_type": "code",
      "source": [
        "class Solution:\n",
        "    def twoSum(self, nums: List[int], target: int) -> List[int]:\n",
        "        \n",
        "        for i in range(0, len(nums)):\n",
        "            for j in range(i+1, len(nums)):\n",
        "                if (nums[i] + nums[j]) == target:\n",
        "                    answer = [i, j]\n",
        "                    break\n",
        "        \n",
        "        return answer"
      ],
      "metadata": {
        "id": "Uvt_N_UV5mW_"
      },
      "execution_count": null,
      "outputs": []
    },
    {
      "cell_type": "code",
      "source": [
        "answer"
      ],
      "metadata": {
        "colab": {
          "base_uri": "https://localhost:8080/"
        },
        "id": "2ABhvP1r7589",
        "outputId": "a7772cfb-7dfa-4934-f6da-60e9d21b9f3d"
      },
      "execution_count": null,
      "outputs": [
        {
          "output_type": "execute_result",
          "data": {
            "text/plain": [
              "[0, 1]"
            ]
          },
          "metadata": {},
          "execution_count": 16
        }
      ]
    },
    {
      "cell_type": "code",
      "source": [
        "from functools import reduce\n",
        "reduce(lambda x, y: x*y, [1,2,3,4,5,6])"
      ],
      "metadata": {
        "colab": {
          "base_uri": "https://localhost:8080/"
        },
        "id": "MnUK35JAyoHl",
        "outputId": "ae863df0-ec7f-471e-a72c-2fc8c5d07980"
      },
      "execution_count": null,
      "outputs": [
        {
          "output_type": "execute_result",
          "data": {
            "text/plain": [
              "55"
            ]
          },
          "metadata": {},
          "execution_count": 10
        }
      ]
    },
    {
      "cell_type": "markdown",
      "source": [
        "# \t1000자리 수 안에서 연속된 13개 숫자 곱의 최댓값"
      ],
      "metadata": {
        "id": "4fWRVAax6vYN"
      }
    },
    {
      "cell_type": "code",
      "source": [
        "val = \"7316717653133062491922511967442657474235534919493496983520312774506326239578318016984801869478851843858615607891129494954595017379583319528532088055111254069874715852386305071569329096329522744304355766896648950445244523161731856403098711121722383113622298934233803081353362766142828064444866452387493035890729629049156044077239071381051585930796086670172427121883998797908792274921901699720888093776657273330010533678812202354218097512545405947522435258490771167055601360483958644670632441572215539753697817977846174064955149290862569321978468622482839722413756570560574902614079729686524145351004748216637048440319989000889524345065854122758866688116427171479924442928230863465674813919123162824586178664583591245665294765456828489128831426076900422421902267105562632111110937054421750694165896040807198403850962455444362981230987879927244284909188845801561660979191338754992005240636899125607176060588611646710940507754100225698315520005593572972571636269561882670428252483600823257530420752963450\""
      ],
      "metadata": {
        "id": "xQ8hy682yoQJ"
      },
      "execution_count": null,
      "outputs": []
    },
    {
      "cell_type": "code",
      "source": [
        "from functools import reduce\n",
        "answer = []\n",
        "for i in range(0, len(val)-13-1):\n",
        "    rslt = reduce(lambda x, y : x*y, [int(ele) for ele in val[i:i+13]])\n",
        "    answer.append(rslt)"
      ],
      "metadata": {
        "id": "qerK8zXvy27P"
      },
      "execution_count": null,
      "outputs": []
    },
    {
      "cell_type": "markdown",
      "source": [
        "#\ta + b + c = 1000 이 되는 피타고라스 수\n",
        "\n",
        "\n",
        "세 자연수 a, b, c 가 피타고라스 정리 sqrt(a,2) + sqrt(b,2) = sqrt(c,2) 를 만족하면 피타고라스 수라고 부릅니다 (여기서 a < b < c ).\n",
        "예를 들면 32 + 42 = 9 + 16 = 25 = 52이므로 3, 4, 5는 피타고라스 수입니다.\n",
        "\n",
        "a + b + c = 1000 인 피타고라스 수 a, b, c는 한 가지 뿐입니다. 이 때, a × b × c 는 얼마입니까?"
      ],
      "metadata": {
        "id": "ZiYL8A2n6zaF"
      }
    },
    {
      "cell_type": "code",
      "source": [
        "# a+b+c = 1000\n",
        "# 1000 a + 1000 b - ab = 500000\n",
        "\n",
        "maxNumber = 1000\n",
        "\n",
        "for i in range(1, maxNumber + 1):\n",
        "    for j in range(1, maxNumber + 1):\n",
        "        if (maxNumber*i) + (maxNumber*j) - (i*j) == 500000:\n",
        "            print(i, j)"
      ],
      "metadata": {
        "colab": {
          "base_uri": "https://localhost:8080/"
        },
        "id": "Bv5xDotY3eJU",
        "outputId": "1ac66cba-a95e-44e2-f8c5-245ca42a7397"
      },
      "execution_count": 1,
      "outputs": [
        {
          "output_type": "stream",
          "name": "stdout",
          "text": [
            "200 375\n",
            "375 200\n"
          ]
        }
      ]
    },
    {
      "cell_type": "code",
      "source": [
        "200*375*425"
      ],
      "metadata": {
        "colab": {
          "base_uri": "https://localhost:8080/"
        },
        "id": "KnU_w33vOVMx",
        "outputId": "36d8a32f-0c05-4d5a-ad85-189571edfc49"
      },
      "execution_count": 4,
      "outputs": [
        {
          "output_type": "execute_result",
          "data": {
            "text/plain": [
              "31875000"
            ]
          },
          "metadata": {},
          "execution_count": 4
        }
      ]
    },
    {
      "cell_type": "markdown",
      "source": [
        "# 이백만 이하 소수의 합\n",
        "\n",
        "10 이하의 소수를 모두 더하면 2 + 3 + 5 + 7 = 17 이 됩니다.\n",
        "이백만(2,000,000) 이하 소수의 합은 얼마입니까?"
      ],
      "metadata": {
        "id": "1oVUR8JhFqMr"
      }
    },
    {
      "cell_type": "code",
      "source": [
        "def primeNumbers(n):\n",
        "\n",
        "    sieve = [True] * n\n",
        "\n",
        "    maxNumber = int(n ** 0.5)\n",
        "    for i in range(2, maxNumber + 1):\n",
        "        if sieve[i] == True:\n",
        "            for j in range(i+i, n, i):\n",
        "                sieve[j] = False\n",
        "    \n",
        "    return [i for i in range(2, n) if sieve[i] == True]"
      ],
      "metadata": {
        "id": "0tYWOPsEFsnG"
      },
      "execution_count": 4,
      "outputs": []
    },
    {
      "cell_type": "code",
      "source": [
        "sum(primeNumbers(2000000))"
      ],
      "metadata": {
        "colab": {
          "base_uri": "https://localhost:8080/"
        },
        "id": "OxOkJLkBOPNs",
        "outputId": "3bfa0f68-9b20-4b41-d731-08eb5f659d97"
      },
      "execution_count": 7,
      "outputs": [
        {
          "output_type": "execute_result",
          "data": {
            "text/plain": [
              "142913828922"
            ]
          },
          "metadata": {},
          "execution_count": 7
        }
      ]
    },
    {
      "cell_type": "markdown",
      "source": [
        "# 20×20 격자에서 연속된 네 수의 곱 중 최댓값"
      ],
      "metadata": {
        "id": "GhynEHlsWO-G"
      }
    },
    {
      "cell_type": "code",
      "source": [
        "arry = [['08','02','22','97','38','15','00','40','00','75','04','05','07','78','52','12','50','77','91','08'],\n",
        "        ['49','49','99','40','17','81','18','57','60','87','17','40','98','43','69','48','04','56','62','00'],\n",
        "        ['81','49','31','73','55','79','14','29','93','71','40','67','53','88','30','03','49','13','36','65'],\n",
        "        ['52','70','95','23','04','60','11','42','69','24','68','56','01','32','56','71','37','02','36','91'],\n",
        "        ['22','31','16','71','51','67','63','89','41','92','36','54','22','40','40','28','66','33','13','80'],\n",
        "        ['24','47','32','60','99','03','45','02','44','75','33','53','78','36','84','20','35','17','12','50'],\n",
        "        ['32','98','81','28','64','23','67','10','26','38','40','67','59','54','70','66','18','38','64','70'],\n",
        "        ['67','26','20','68','02','62','12','20','95','63','94','39','63','08','40','91','66','49','94','21'],\n",
        "        ['24','55','58','05','66','73','99','26','97','17','78','78','96','83','14','88','34','89','63','72'],\n",
        "        ['21','36','23','09','75','00','76','44','20','45','35','14','00','61','33','97','34','31','33','95'],\n",
        "        ['78','17','53','28','22','75','31','67','15','94','03','80','04','62','16','14','09','53','56','92'],\n",
        "        ['16','39','05','42','96','35','31','47','55','58','88','24','00','17','54','24','36','29','85','57'],\n",
        "        ['86','56','00','48','35','71','89','07','05','44','44','37','44','60','21','58','51','54','17','58'],\n",
        "        ['19','80','81','68','05','94','47','69','28','73','92','13','86','52','17','77','04','89','55','40'],\n",
        "        ['04','52','08','83','97','35','99','16','07','97','57','32','16','26','26','79','33','27','98','66'],\n",
        "        ['88','36','68','87','57','62','20','72','03','46','33','67','46','55','12','32','63','93','53','69'],\n",
        "        ['04','42','16','73','38','25','39','11','24','94','72','18','08','46','29','32','40','62','76','36'],\n",
        "        ['20','69','36','41','72','30','23','88','34','62','99','69','82','67','59','85','74','04','36','16'],\n",
        "        ['20','73','35','29','78','31','90','01','74','31','49','71','48','86','81','16','23','57','05','54'],\n",
        "        ['01','70','54','71','83','51','54','69','16','92','33','48','61','43','52','01','89','19','67','48']]"
      ],
      "metadata": {
        "id": "d6DZHXJwPp2T"
      },
      "execution_count": 11,
      "outputs": []
    },
    {
      "cell_type": "code",
      "source": [
        "cnt = 0\n",
        "answer = []\n",
        "\n",
        "for i in range(cnt, cnt + 4):\n",
        "    if cnt != 17:\n",
        "        answer = answer.append(np.sum([int(arry[i][i]),\n",
        "                                       int(arry[i+1][i]),\n",
        "                                       int(arry[i+2][i]), \n",
        "                                       int(arry[i+3][i])]))\n",
        "        print({i : np.sum( [int(arry[i][i]),\n",
        "                        int(arry[i+1][i]),\n",
        "                        int(arry[i+2][i]),\n",
        "                        int(arry[i+3][i]) ])})\n",
        "        cnt = cnt + 1\n",
        "    else:\n",
        "        break;"
      ],
      "metadata": {
        "colab": {
          "base_uri": "https://localhost:8080/",
          "height": 258
        },
        "id": "GQ1CnT1ccltc",
        "outputId": "16296f9a-2df4-468d-ba72-d7b92cc9d3bc"
      },
      "execution_count": 37,
      "outputs": [
        {
          "output_type": "stream",
          "name": "stdout",
          "text": [
            "{0: 190}\n"
          ]
        },
        {
          "output_type": "error",
          "ename": "AttributeError",
          "evalue": "ignored",
          "traceback": [
            "\u001b[0;31m---------------------------------------------------------------------------\u001b[0m",
            "\u001b[0;31mAttributeError\u001b[0m                            Traceback (most recent call last)",
            "\u001b[0;32m<ipython-input-37-3a05a8134154>\u001b[0m in \u001b[0;36m<module>\u001b[0;34m()\u001b[0m\n\u001b[1;32m      4\u001b[0m \u001b[0;32mfor\u001b[0m \u001b[0mi\u001b[0m \u001b[0;32min\u001b[0m \u001b[0mrange\u001b[0m\u001b[0;34m(\u001b[0m\u001b[0mcnt\u001b[0m\u001b[0;34m,\u001b[0m \u001b[0mcnt\u001b[0m \u001b[0;34m+\u001b[0m \u001b[0;36m4\u001b[0m\u001b[0;34m)\u001b[0m\u001b[0;34m:\u001b[0m\u001b[0;34m\u001b[0m\u001b[0;34m\u001b[0m\u001b[0m\n\u001b[1;32m      5\u001b[0m     \u001b[0;32mif\u001b[0m \u001b[0mcnt\u001b[0m \u001b[0;34m!=\u001b[0m \u001b[0;36m17\u001b[0m\u001b[0;34m:\u001b[0m\u001b[0;34m\u001b[0m\u001b[0;34m\u001b[0m\u001b[0m\n\u001b[0;32m----> 6\u001b[0;31m         answer = answer.append(np.sum([int(arry[i][i]),\n\u001b[0m\u001b[1;32m      7\u001b[0m                                        \u001b[0mint\u001b[0m\u001b[0;34m(\u001b[0m\u001b[0marry\u001b[0m\u001b[0;34m[\u001b[0m\u001b[0mi\u001b[0m\u001b[0;34m+\u001b[0m\u001b[0;36m1\u001b[0m\u001b[0;34m]\u001b[0m\u001b[0;34m[\u001b[0m\u001b[0mi\u001b[0m\u001b[0;34m]\u001b[0m\u001b[0;34m)\u001b[0m\u001b[0;34m,\u001b[0m\u001b[0;34m\u001b[0m\u001b[0;34m\u001b[0m\u001b[0m\n\u001b[1;32m      8\u001b[0m                                        \u001b[0mint\u001b[0m\u001b[0;34m(\u001b[0m\u001b[0marry\u001b[0m\u001b[0;34m[\u001b[0m\u001b[0mi\u001b[0m\u001b[0;34m+\u001b[0m\u001b[0;36m2\u001b[0m\u001b[0;34m]\u001b[0m\u001b[0;34m[\u001b[0m\u001b[0mi\u001b[0m\u001b[0;34m]\u001b[0m\u001b[0;34m)\u001b[0m\u001b[0;34m,\u001b[0m\u001b[0;34m\u001b[0m\u001b[0;34m\u001b[0m\u001b[0m\n",
            "\u001b[0;31mAttributeError\u001b[0m: 'NoneType' object has no attribute 'append'"
          ]
        }
      ]
    },
    {
      "cell_type": "code",
      "source": [
        "int(arry[0][0])"
      ],
      "metadata": {
        "colab": {
          "base_uri": "https://localhost:8080/"
        },
        "id": "5t3LuQPowInn",
        "outputId": "d1d82fb9-6f1c-40e8-a9bb-8dc0042832a5"
      },
      "execution_count": 34,
      "outputs": [
        {
          "output_type": "execute_result",
          "data": {
            "text/plain": [
              "8"
            ]
          },
          "metadata": {},
          "execution_count": 34
        }
      ]
    }
  ]
}