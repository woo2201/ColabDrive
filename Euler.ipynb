{
  "nbformat": 4,
  "nbformat_minor": 0,
  "metadata": {
    "colab": {
      "name": "Untitled1.ipynb",
      "provenance": [],
      "collapsed_sections": [],
      "machine_shape": "hm",
      "authorship_tag": "ABX9TyNarlNowNCtBzk62cPkQarZ",
      "include_colab_link": true
    },
    "kernelspec": {
      "name": "python3",
      "display_name": "Python 3"
    },
    "language_info": {
      "name": "python"
    },
    "accelerator": "GPU"
  },
  "cells": [
    {
      "cell_type": "markdown",
      "metadata": {
        "id": "view-in-github",
        "colab_type": "text"
      },
      "source": [
        "<a href=\"https://colab.research.google.com/github/woo2201/ColabDrive/blob/reservior/Euler.ipynb\" target=\"_parent\"><img src=\"https://colab.research.google.com/assets/colab-badge.svg\" alt=\"Open In Colab\"/></a>"
      ]
    },
    {
      "cell_type": "markdown",
      "source": [
        "# 프로젝트 오일러"
      ],
      "metadata": {
        "id": "lSJwljMV91nh"
      }
    },
    {
      "cell_type": "markdown",
      "source": [
        "- 피보나치의 합"
      ],
      "metadata": {
        "id": "69WuSdk898WS"
      }
    },
    {
      "cell_type": "code",
      "execution_count": null,
      "metadata": {
        "id": "Pmczk9OB905F"
      },
      "outputs": [],
      "source": [
        "lst = [1,2]\n",
        "for i in range(2, 100000):\n",
        "    val = (lst[i-2] + lst[i-1])\n",
        "    if val >= 4000000:\n",
        "        break    \n",
        "    lst.append(val)\n",
        "\n",
        "sum([i for i in lst if i % 2 == 0])"
      ]
    },
    {
      "cell_type": "markdown",
      "source": [
        "- 가장 큰 소인수 구하기"
      ],
      "metadata": {
        "id": "nmWXC9va-A4I"
      }
    },
    {
      "cell_type": "code",
      "source": [
        "lst = []\n",
        "d = 2\n",
        "x = 600851475143\n",
        "while x >= d:\n",
        "    if x % d == 0: # d로 딱 나뉘면...\n",
        "        lst.append(d)\n",
        "        x = x / d\n",
        "    else:\n",
        "        d = d + 1\n",
        "\n",
        "max(lst)"
      ],
      "metadata": {
        "colab": {
          "base_uri": "https://localhost:8080/"
        },
        "id": "b_AExvlC97LT",
        "outputId": "4a5c6acf-7c28-4803-ff4b-7d6ee1252aa7"
      },
      "execution_count": 7,
      "outputs": [
        {
          "output_type": "execute_result",
          "data": {
            "text/plain": [
              "6857"
            ]
          },
          "metadata": {},
          "execution_count": 7
        }
      ]
    },
    {
      "cell_type": "markdown",
      "source": [
        "- 세자리를 곱해 만들 수 있는 가장 큰 대칭수"
      ],
      "metadata": {
        "id": "fGu911Yz_pd1"
      }
    },
    {
      "cell_type": "code",
      "source": [
        "for i in range(1000, 100, -1):\n",
        "    for j in range(1000, 100, -1):\n",
        "        val = i * j\n",
        "        if str(val) == str(val)[::-1]:\n",
        "            print(i, j)\n",
        "            break;\n",
        "\n"
      ],
      "metadata": {
        "id": "0hyoMJTZ97Rj"
      },
      "execution_count": null,
      "outputs": []
    },
    {
      "cell_type": "markdown",
      "source": [
        "- 1 ~ 20 사이의 어떤 수로도 나누어 떨어지는 가장 작은 수\n",
        "    - 예시 : 1 ~ 10 사이의 어떤 수로도 나누어 떨어지는 가장 작은 수는 2520입니다."
      ],
      "metadata": {
        "id": "RLNUfux2WSyW"
      }
    },
    {
      "cell_type": "code",
      "source": [
        "elem=[2]\n",
        "for i in range(3,20):   \n",
        "    for j in range(2,i):   \n",
        "        if i%j==0:\n",
        "            break\n",
        "        elif j==i-1:\n",
        "            elem.append(i)"
      ],
      "metadata": {
        "id": "iZSt2hXGWSI_"
      },
      "execution_count": 14,
      "outputs": []
    },
    {
      "cell_type": "code",
      "source": [
        "print(2*3*5*7 * 4* 3)"
      ],
      "metadata": {
        "colab": {
          "base_uri": "https://localhost:8080/"
        },
        "id": "5dMFI7isPQ24",
        "outputId": "e2dc0c07-a26c-4608-84ec-5b93b0913a1a"
      },
      "execution_count": 18,
      "outputs": [
        {
          "output_type": "stream",
          "name": "stdout",
          "text": [
            "2520\n"
          ]
        }
      ]
    }
  ]
}