{
  "nbformat": 4,
  "nbformat_minor": 0,
  "metadata": {
    "colab": {
      "name": "PS_practice.ipynb",
      "provenance": [],
      "collapsed_sections": [],
      "authorship_tag": "ABX9TyPPkI+RtOFmXzsMwo6p3S2+",
      "include_colab_link": true
    },
    "kernelspec": {
      "name": "python3",
      "display_name": "Python 3"
    },
    "language_info": {
      "name": "python"
    }
  },
  "cells": [
    {
      "cell_type": "markdown",
      "metadata": {
        "id": "view-in-github",
        "colab_type": "text"
      },
      "source": [
        "<a href=\"https://colab.research.google.com/github/woo2201/sampleCases/blob/reservior/PS_practice_v2.0.ipynb\" target=\"_parent\"><img src=\"https://colab.research.google.com/assets/colab-badge.svg\" alt=\"Open In Colab\"/></a>"
      ]
    },
    {
      "cell_type": "markdown",
      "source": [
        "# PS 정리 파일\n",
        "\n",
        "- ** 이 붙은 리스트는 재검토가 필요한 파일임."
      ],
      "metadata": {
        "id": "Vx8Bh1pW0scI"
      }
    },
    {
      "cell_type": "markdown",
      "source": [
        "# LV.1 : 콜라츠 추측\n",
        "\n",
        "1937년 Collatz란 사람에 의해 제기된 이 추측은, 주어진 수가 1이 될때까지 다음 작업을 반복하면, 모든 수를 1로 만들 수 있다는 추측입니다. 작업은 다음과 같습니다.\n",
        "\n",
        "    1-1. 입력된 수가 짝수라면 2로 나눕니다. \n",
        "    1-2. 입력된 수가 홀수라면 3을 곱하고 1을 더합니다.\n",
        "    2. 결과로 나온 수에 같은 작업을 1이 될 때까지 반복합니다.\n",
        "\n",
        "예를 들어, 입력된 수가 6이라면 6→3→10→5→16→8→4→2→1 이 되어 총 8번 만에 1이 됩니다. 위 작업을 몇 번이나 반복해야하는지 반환하는 함수, solution을 완성해 주세요. 단, 작업을 500번을 반복해도 1이 되지 않는다면 –1을 반환해 주세요."
      ],
      "metadata": {
        "id": "MSGJTCMttRGz"
      }
    },
    {
      "cell_type": "code",
      "execution_count": null,
      "metadata": {
        "id": "mlGpfu9utMsj"
      },
      "outputs": [],
      "source": [
        "def solution(num):\n",
        "    totalCount = 0\n",
        "    while num > 1:\n",
        "    \n",
        "        if totalCount >= 500:\n",
        "            return -1\n",
        "\n",
        "        if num % 2 == 0:\n",
        "            num = num / 2\n",
        "            totalCount += 1\n",
        "        else:\n",
        "            num = num * 3 + 1\n",
        "            totalCount += 1\n",
        "    \n",
        "\n",
        "    return totalCount"
      ]
    },
    {
      "cell_type": "markdown",
      "source": [
        "#LV.2 : 피보나치 수열\n",
        "\n",
        "피보나치 수는 F(0) = 0, F(1) = 1일 때, 1 이상의 n에 대하여 F(n) = F(n-1) + F(n-2) 가 적용되는 수 입니다."
      ],
      "metadata": {
        "id": "jVXHigp6tTDg"
      }
    },
    {
      "cell_type": "code",
      "source": [
        "def fibonacci(n):\n",
        "    if n in {0, 1}:  # Base case\n",
        "        return n\n",
        "    return fibonacci(n - 1) + fibonacci(n - 2)  # Recursive case"
      ],
      "metadata": {
        "id": "8ddbbbCYtTKy"
      },
      "execution_count": null,
      "outputs": []
    },
    {
      "cell_type": "markdown",
      "source": [
        "## 해시 관련\n",
        "\n",
        "해시는 그냥 Dictionary 로 생각하면 된다."
      ],
      "metadata": {
        "id": "yMuBC05UHOlJ"
      }
    },
    {
      "cell_type": "markdown",
      "source": [
        "# LV.1 : 완주하지 못한 녀석들"
      ],
      "metadata": {
        "id": "fiqfVLExtTZp"
      }
    },
    {
      "cell_type": "code",
      "source": [
        "participant = [\"leo\", \"kiki\", \"eden\"]\n",
        "completion = [\"eden\", \"kiki\"]\n",
        "answer =\"leo\""
      ],
      "metadata": {
        "id": "Ui7P1iobtTg9"
      },
      "execution_count": null,
      "outputs": []
    },
    {
      "cell_type": "code",
      "source": [
        "def solution(participant, completion):\n",
        "    dict = {}\n",
        "    for i in participant:\n",
        "        dict[i] = dict.get(i, 0) + 1\n",
        "\n",
        "    for j in completion:\n",
        "        dict[j] = (dict[j] - 1)\n",
        "\n",
        "    return [i for i in dict if dict[i] >= 1][0]"
      ],
      "metadata": {
        "id": "aVDrgeRZtTkl"
      },
      "execution_count": null,
      "outputs": []
    },
    {
      "cell_type": "markdown",
      "source": [
        "# LV.2 : 전화번호 목록\n",
        "\n",
        "전화번호부에 적힌 전화번호 중, 한 번호가 다른 번호의 접두어인 경우가 있는지 확인하려 합니다.\n",
        "전화번호가 다음과 같을 경우, 구조대 전화번호는 영석이의 전화번호의 접두사입니다.\n",
        "\n",
        "    구조대 : 119\n",
        "    박준영 : 97 674 223\n",
        "    지영석 : 11 9552 4421\n",
        "\n",
        "전화번호부에 적힌 전화번호를 담은 배열 phone_book 이 solution 함수의 매개변수로 주어질 때, 어떤 번호가 다른 번호의 접두어인 경우가 있으면 false를 그렇지 않으면 true를 return 하도록 solution 함수를 작성해주세요."
      ],
      "metadata": {
        "id": "kzdP49v8tTsr"
      }
    },
    {
      "cell_type": "code",
      "source": [
        "phone_book = [\"119\", \"97674223\", \"1195524421\"]"
      ],
      "metadata": {
        "id": "En-ZggsBHDbZ"
      },
      "execution_count": null,
      "outputs": []
    },
    {
      "cell_type": "code",
      "source": [
        "def solution(phone_book):\n",
        "    dict = {}\n",
        "    for phone in phone_book:\n",
        "        dict[phone] = 1\n",
        "\n",
        "    for phone in phone_book:\n",
        "        temp = \"\"\n",
        "        for alphabet in phone:\n",
        "            temp = temp + alphabet\n",
        "            if temp in dict and temp != phone:\n",
        "                return False\n",
        "        \n",
        "    return True"
      ],
      "metadata": {
        "id": "Kq0H_PrhHk0y"
      },
      "execution_count": null,
      "outputs": []
    },
    {
      "cell_type": "markdown",
      "source": [
        "# LV.2 : 위장\n",
        "\n",
        "스파이가 가진 의상들이 담긴 2차원 배열 clothes가 주어질 때 서로 다른 옷의 조합의 수를 return 하도록 solution 함수를 작성해주세요."
      ],
      "metadata": {
        "id": "YT4GZu4jtT_q"
      }
    },
    {
      "cell_type": "code",
      "source": [
        "clothes = [[\"yellowhat\", \"headgear\"], [\"bluesunglasses\", \"eyewear\"], [\"green_turban\", \"headgear\"]]\n",
        "answer = 5 "
      ],
      "metadata": {
        "id": "kYQUPCTNtUJC"
      },
      "execution_count": null,
      "outputs": []
    },
    {
      "cell_type": "code",
      "source": [
        "from collections import defaultdict\n",
        "\n",
        "def solution(clothes):\n",
        "\n",
        "    dict = defaultdict(list)\n",
        "    for lst in clothes:\n",
        "        type = lst[1]\n",
        "        item = lst[0]\n",
        "        dict[type].append(item)\n",
        "\n",
        "    answer = 1\n",
        "    for i in dict.values():\n",
        "        answer = answer * (len(i) + 1) # 리스트 길이가 2 일땐, [안입는거, 1개 입는거, 2개입는거] 이렇게 가능하니까.\n",
        "\n",
        "    return answer - 1 # 하나는 무조건 입어야하니까. 0 0 0 케이스를 제거해주는 것.\n"
      ],
      "metadata": {
        "id": "S0fjBCJutULX"
      },
      "execution_count": null,
      "outputs": []
    },
    {
      "cell_type": "markdown",
      "source": [
        "#LV.4 : 베스트 앨범\n",
        "\n",
        "스트리밍 사이트에서 장르 별로 가장 많이 재생된 노래를 두 개씩 모아 베스트 앨범을 출시하려 합니다. 노래는 고유 번호로 구분하며, 노래를 수록하는 기준은 다음과 같습니다.\n",
        "\n",
        "속한 노래가 많이 재생된 장르를 먼저 수록합니다.\n",
        "장르 내에서 많이 재생된 노래를 먼저 수록합니다.\n",
        "장르 내에서 재생 횟수가 같은 노래 중에서는 고유 번호가 낮은 노래를 먼저 수록합니다.\n",
        "노래의 장르를 나타내는 문자열 배열 genres와 노래별 재생 횟수를 나타내는 정수 배열 plays가 주어질 때, 베스트 앨범에 들어갈 노래의 고유 번호를 순서대로 return 하도록 solution 함수를 완성하세요.\n",
        "\n",
        "    genres[i]는 고유번호가 i인 노래의 장르입니다.\n",
        "    plays[i]는 고유번호가 i인 노래가 재생된 횟수입니다.\n",
        "    genres와 plays의 길이는 같으며, 이는 1 이상 10,000 이하입니다.\n",
        "    장르 종류는 100개 미만입니다.\n",
        "    장르에 속한 곡이 하나라면, 하나의 곡만 선택합니다.\n",
        "    모든 장르는 재생된 횟수가 다릅니다.\n"
      ],
      "metadata": {
        "id": "Kt-yVh8MAosa"
      }
    },
    {
      "cell_type": "code",
      "source": [
        "genres = [\"classic\", \"pop\", \"classic\", \"classic\", \"pop\"]\n",
        "plays = [500, 600, 150, 800, 2500]\n",
        "answer = [4, 1, 3, 0]"
      ],
      "metadata": {
        "id": "Q9k4JWYrAs7S"
      },
      "execution_count": null,
      "outputs": []
    },
    {
      "cell_type": "code",
      "source": [
        "idx = [i for i in range(0, len(genres))]"
      ],
      "metadata": {
        "id": "HDooT4GHGz9e"
      },
      "execution_count": null,
      "outputs": []
    },
    {
      "cell_type": "code",
      "source": [
        "from collections import defaultdict\n",
        "from operator import itemgetter # sort by second \n",
        "\n",
        "d1 = defaultdict(list)\n",
        "d2 = defaultdict(list)\n",
        "\n",
        "for genre, play, id in zip(genres, plays, idx):\n",
        "    d1[genre].append(play) # 장르 별로 가장 많이 재생된 노래를 두 개씩 모아 베스트 앨범을 출시\n",
        "    d2[genre].append(id)\n"
      ],
      "metadata": {
        "id": "A_wDeeVpAyo-"
      },
      "execution_count": null,
      "outputs": []
    },
    {
      "cell_type": "code",
      "source": [
        "[sorted((play,id), key = itemgetter(0), reverse = True) for play, id in zip(d1.values(), d2.values())]"
      ],
      "metadata": {
        "colab": {
          "base_uri": "https://localhost:8080/"
        },
        "id": "eOCo7pKeJtIw",
        "outputId": "46e053de-7481-4a87-9e03-0094e10c023a"
      },
      "execution_count": null,
      "outputs": [
        {
          "output_type": "execute_result",
          "data": {
            "text/plain": [
              "[[[500, 150, 800], [0, 2, 3]], [[600, 2500], [1, 4]]]"
            ]
          },
          "metadata": {},
          "execution_count": 46
        }
      ]
    },
    {
      "cell_type": "code",
      "source": [
        "sum_d = {}\n",
        "for item, value in d.items():\n",
        "    sum_d[item] = sum(value)\n",
        "\n",
        "music_order = sorted(sum_d, key = itemgetter(1), reverse = True)"
      ],
      "metadata": {
        "id": "OUM_yDbbC9O5"
      },
      "execution_count": null,
      "outputs": []
    },
    {
      "cell_type": "code",
      "source": [
        ""
      ],
      "metadata": {
        "colab": {
          "base_uri": "https://localhost:8080/"
        },
        "id": "UzYM0eVpFk1_",
        "outputId": "7de8a233-004b-48c1-8fc3-7f3d940b09f2"
      },
      "execution_count": null,
      "outputs": [
        {
          "output_type": "stream",
          "name": "stdout",
          "text": [
            "classic 500 0\n",
            "pop 600 1\n",
            "classic 150 2\n",
            "classic 800 3\n",
            "pop 2500 4\n"
          ]
        }
      ]
    },
    {
      "cell_type": "markdown",
      "source": [
        "# LV.2 : 순간이동\n",
        "\n",
        "OO 연구소는 한 번에 K 칸을 앞으로 점프하거나, (현재까지 온 거리) x 2 에 해당하는 위치로 순간이동을 할 수 있는 특수한 기능을 가진 아이언 슈트를 개발하여 판매하고 있습니다. 이 아이언 슈트는 건전지로 작동되는데, 순간이동을 하면 건전지 사용량이 줄지 않지만, 앞으로 K 칸을 점프하면 K 만큼의 건전지 사용량이 듭니다. 그러므로 아이언 슈트를 착용하고 이동할 때는 순간 이동을 하는 것이 더 효율적입니다. 아이언 슈트 구매자는 아이언 슈트를 착용하고 거리가 N 만큼 떨어져 있는 장소로 가려고 합니다. 단, 건전지 사용량을 줄이기 위해 점프로 이동하는 것은 최소로 하려고 합니다. 아이언 슈트 구매자가 이동하려는 거리 N이 주어졌을 때, 사용해야 하는 건전지 사용량의 최솟값을 return하는 solution 함수를 만들어 주세요."
      ],
      "metadata": {
        "id": "Wdg-t4B_tUbT"
      }
    },
    {
      "cell_type": "code",
      "source": [
        "def solution(n):\n",
        "    return format(5, \"b\").count('1') # 2, 4, 8, 16 등... 현재 온거리의 2를 곱할 수 있음. 그리고 남는 1의"
      ],
      "metadata": {
        "id": "m13cd-TMtUlr"
      },
      "execution_count": null,
      "outputs": []
    },
    {
      "cell_type": "markdown",
      "source": [
        "# LEETCODE : Contains Duplicates ?"
      ],
      "metadata": {
        "id": "mYQVkYwxtUx-"
      }
    },
    {
      "cell_type": "code",
      "source": [
        "class Solution:\n",
        "    def containsDuplicate(self, nums: List[int]) -> bool:\n",
        "        return False if len(set(nums)) == len(nums) else True # 너무쉽고"
      ],
      "metadata": {
        "id": "tnThOMEltU-t"
      },
      "execution_count": null,
      "outputs": []
    },
    {
      "cell_type": "markdown",
      "source": [
        "# LEETCODE : Is Anagram ?"
      ],
      "metadata": {
        "id": "hsOBFU01tVI2"
      }
    },
    {
      "cell_type": "code",
      "source": [
        "class Solution:\n",
        "    def isAnagram(self, s: str, t: str) -> bool:\n",
        "        answer = sorted([i for i in s]) == sorted([j for j in t])\n",
        "\n",
        "        return answer\n",
        "\n",
        "#        return Counter(s) == Counter(t) much faster."
      ],
      "metadata": {
        "id": "eSpfy0XztVSR"
      },
      "execution_count": null,
      "outputs": []
    },
    {
      "cell_type": "markdown",
      "source": [
        "# LEETCODE : TWO SUM"
      ],
      "metadata": {
        "id": "SekCFhVytVgR"
      }
    },
    {
      "cell_type": "code",
      "source": [
        "nums = [2,7,11,15]\n",
        "target = 9\n",
        "answer = [0, 1]"
      ],
      "metadata": {
        "id": "efAXyCIitVwK"
      },
      "execution_count": null,
      "outputs": []
    },
    {
      "cell_type": "code",
      "source": [
        "dict = {val: idx for idx, val in enumerate(nums)}\n",
        "answer = []\n",
        "for idx, val in enumerate(nums):\n",
        "    diff = target - val\n",
        "    if diff in nums:\n",
        "        print([dict[diff], idx])"
      ],
      "metadata": {
        "id": "vz02UJkMtVzB",
        "colab": {
          "base_uri": "https://localhost:8080/"
        },
        "outputId": "126b5242-80c4-43fb-b985-d03e71145498"
      },
      "execution_count": null,
      "outputs": [
        {
          "output_type": "stream",
          "name": "stdout",
          "text": [
            "[1, 0]\n",
            "[0, 1]\n"
          ]
        }
      ]
    },
    {
      "cell_type": "code",
      "source": [
        "answer"
      ],
      "metadata": {
        "colab": {
          "base_uri": "https://localhost:8080/"
        },
        "id": "-ElgOp8tdNMy",
        "outputId": "c6792920-c59c-41cf-a9bf-85039ce43f39"
      },
      "execution_count": null,
      "outputs": [
        {
          "output_type": "execute_result",
          "data": {
            "text/plain": [
              "[0, 1]"
            ]
          },
          "metadata": {},
          "execution_count": 17
        }
      ]
    },
    {
      "cell_type": "markdown",
      "source": [
        "# LEETCODE : Product of Array Except Self ** "
      ],
      "metadata": {
        "id": "DHHa2O1EtV9f"
      }
    },
    {
      "cell_type": "code",
      "source": [
        "nums = [1,2,3,4]\n",
        "answer = [24,12,8,6]\n",
        "\n",
        "# nums = [-1,1,0,-3,3]\n",
        "# answer = [0,0,9,0,0]"
      ],
      "metadata": {
        "id": "Y3lntp8RtWH3"
      },
      "execution_count": 5,
      "outputs": []
    },
    {
      "cell_type": "code",
      "source": [
        "# Takes more than 0(n). So new solution required.\n",
        "\n",
        "import numpy as np\n",
        "[np.prod([j for j in nums if j != i]) for i in nums] "
      ],
      "metadata": {
        "id": "CkvKBMMntWKu",
        "colab": {
          "base_uri": "https://localhost:8080/"
        },
        "outputId": "c7b6ad06-ad95-4c4a-d350-7cbd1951aa40"
      },
      "execution_count": 6,
      "outputs": [
        {
          "output_type": "execute_result",
          "data": {
            "text/plain": [
              "[24, 12, 8, 6]"
            ]
          },
          "metadata": {},
          "execution_count": 6
        }
      ]
    },
    {
      "cell_type": "code",
      "source": [
        "nums = [1,2,3,4]\n",
        "N = len(nums) # nums 길이\n",
        "out = [1] * N # [1,1,1,1,1] # We don't really need the scalar 'right', but I think it will save us on array dereferences\n",
        "\n",
        "right = 1\n",
        "for n in reversed(range(N)):\n",
        "    out[n] = right\n",
        "    right = right * nums[n] #  [24, 12, 4, 1]\n",
        "\n",
        "left = 1\n",
        "for n in range(N):\n",
        "    out[n] = out[n] * left\n",
        "    left = left * nums[n] # [24, 12, 8, 6], [1, 1, 2, 6]"
      ],
      "metadata": {
        "id": "KMyJ8N88yycE"
      },
      "execution_count": 19,
      "outputs": []
    },
    {
      "cell_type": "markdown",
      "source": [
        "# LEETCODE : \bValid Palindrome - TWO POINTERS\n"
      ],
      "metadata": {
        "id": "duOhCXYBb2Up"
      }
    },
    {
      "cell_type": "code",
      "source": [
        "class Solution:\n",
        "    def isPalindrome(self, s: str) -> bool:\n",
        "        if isinstance(s, str):\n",
        "\n",
        "            s = ''.join([letter for letter in s if letter.isalnum()]).lower()\n",
        "            return True if s[::-1] == s else False"
      ],
      "metadata": {
        "id": "Qzx0eF4Eb9NB"
      },
      "execution_count": 28,
      "outputs": []
    },
    {
      "cell_type": "markdown",
      "source": [
        "# LEETCODE : Best Time To Buy and Sell Stocks"
      ],
      "metadata": {
        "id": "nCiY33ex66xy"
      }
    },
    {
      "cell_type": "code",
      "source": [
        "prices = [7,1,5,3,6,4]\n",
        "\n",
        "# 1에서 사서 6에 파는게 베스트.\n",
        "# 1에 사서 7에 파는건 안됨. 시간 순서"
      ],
      "metadata": {
        "id": "jE7EnehP664y"
      },
      "execution_count": 38,
      "outputs": []
    },
    {
      "cell_type": "code",
      "source": [
        "empty = []\n",
        "for p in range(len(prices)-1):\n",
        "    if prices[p] <= prices[p+1]:\n",
        "        empty.append(prices[p])\n",
        "        empty.append(prices[p+1])\n",
        "\n",
        "max_stock = max(empty)\n",
        "min_stock = min(empty)\n",
        "\n",
        "max_stock - min_stock\n",
        "#prices.index(max_stock) - prices.index(min_stock)"
      ],
      "metadata": {
        "id": "vcBjYEOv6_0W"
      },
      "execution_count": 58,
      "outputs": []
    },
    {
      "cell_type": "code",
      "source": [
        "max_stock = max(empty)\n",
        "min_stock = min(empty)\n",
        "\n",
        "max_stock - min_stock\n",
        "#prices.index(max_stock) - prices.index(min_stock)"
      ],
      "metadata": {
        "colab": {
          "base_uri": "https://localhost:8080/"
        },
        "id": "Ggf9OnET-C8o",
        "outputId": "db78de7d-3e0b-401c-99dd-3ab9cb3c08a0"
      },
      "execution_count": 64,
      "outputs": [
        {
          "output_type": "execute_result",
          "data": {
            "text/plain": [
              "5"
            ]
          },
          "metadata": {},
          "execution_count": 64
        }
      ]
    },
    {
      "cell_type": "markdown",
      "source": [
        "# 오일러 프로젝트"
      ],
      "metadata": {
        "id": "HOwmS2anLmbn"
      }
    },
    {
      "cell_type": "code",
      "source": [
        "s = \"A man, a plan, a canal: Panama\"\n",
        "\n",
        "''.join([letter for letter in s if letter.isalnum()])"
      ],
      "metadata": {
        "id": "BvRGomjyLlqm",
        "colab": {
          "base_uri": "https://localhost:8080/",
          "height": 204
        },
        "outputId": "da069af2-fff4-4c9b-e622-8455af4d4c04"
      },
      "execution_count": 36,
      "outputs": [
        {
          "output_type": "error",
          "ename": "AttributeError",
          "evalue": "ignored",
          "traceback": [
            "\u001b[0;31m---------------------------------------------------------------------------\u001b[0m",
            "\u001b[0;31mAttributeError\u001b[0m                            Traceback (most recent call last)",
            "\u001b[0;32m<ipython-input-36-856a881633ed>\u001b[0m in \u001b[0;36m<module>\u001b[0;34m()\u001b[0m\n\u001b[1;32m      1\u001b[0m \u001b[0ms\u001b[0m \u001b[0;34m=\u001b[0m \u001b[0;34m\"A man, a plan, a canal: Panama\"\u001b[0m\u001b[0;34m\u001b[0m\u001b[0;34m\u001b[0m\u001b[0m\n\u001b[1;32m      2\u001b[0m \u001b[0;34m\u001b[0m\u001b[0m\n\u001b[0;32m----> 3\u001b[0;31m \u001b[0;34m''\u001b[0m\u001b[0;34m.\u001b[0m\u001b[0mjoin\u001b[0m\u001b[0;34m(\u001b[0m\u001b[0;34m[\u001b[0m\u001b[0mletter\u001b[0m \u001b[0;32mfor\u001b[0m \u001b[0mletter\u001b[0m \u001b[0;32min\u001b[0m \u001b[0ms\u001b[0m \u001b[0;32mif\u001b[0m \u001b[0mletter\u001b[0m\u001b[0;34m.\u001b[0m\u001b[0misalnum\u001b[0m\u001b[0;34m(\u001b[0m\u001b[0;34m)\u001b[0m\u001b[0;34m]\u001b[0m\u001b[0;34m)\u001b[0m\u001b[0;34m.\u001b[0m\u001b[0mto_lower\u001b[0m\u001b[0;34m(\u001b[0m\u001b[0;34m)\u001b[0m\u001b[0;34m\u001b[0m\u001b[0;34m\u001b[0m\u001b[0m\n\u001b[0m",
            "\u001b[0;31mAttributeError\u001b[0m: 'str' object has no attribute 'to_lower'"
          ]
        }
      ]
    },
    {
      "cell_type": "code",
      "source": [
        "test = []\n",
        "\n",
        "if not test:\n",
        "    print('hi')"
      ],
      "metadata": {
        "colab": {
          "base_uri": "https://localhost:8080/"
        },
        "id": "97dh2yPL5sdp",
        "outputId": "c32e759e-b318-446a-d5ca-397281e0239c"
      },
      "execution_count": 72,
      "outputs": [
        {
          "output_type": "stream",
          "name": "stdout",
          "text": [
            "hi\n"
          ]
        }
      ]
    }
  ]
}