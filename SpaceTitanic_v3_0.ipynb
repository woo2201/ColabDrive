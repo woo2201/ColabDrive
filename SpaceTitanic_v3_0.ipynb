{
  "nbformat": 4,
  "nbformat_minor": 0,
  "metadata": {
    "colab": {
      "name": "SpaceTitanic_v3.0.ipynb",
      "provenance": [],
      "collapsed_sections": [],
      "authorship_tag": "ABX9TyPxMdENZgdXOV7Mk9g/11YE",
      "include_colab_link": true
    },
    "kernelspec": {
      "name": "python3",
      "display_name": "Python 3"
    },
    "language_info": {
      "name": "python"
    }
  },
  "cells": [
    {
      "cell_type": "markdown",
      "metadata": {
        "id": "view-in-github",
        "colab_type": "text"
      },
      "source": [
        "<a href=\"https://colab.research.google.com/github/woo2201/sampleCases/blob/reservior/SpaceTitanic_v3_0.ipynb\" target=\"_parent\"><img src=\"https://colab.research.google.com/assets/colab-badge.svg\" alt=\"Open In Colab\"/></a>"
      ]
    },
    {
      "cell_type": "code",
      "execution_count": 1,
      "metadata": {
        "id": "oB7x56xiQHz0",
        "colab": {
          "base_uri": "https://localhost:8080/"
        },
        "outputId": "7c61fac8-f944-47f7-b921-891234b44b9c"
      },
      "outputs": [
        {
          "output_type": "stream",
          "name": "stdout",
          "text": [
            "Mounted at /content/drive\n"
          ]
        }
      ],
      "source": [
        "from google.colab import drive\n",
        "drive.mount('/content/drive')"
      ]
    },
    {
      "cell_type": "code",
      "source": [
        "cd /content/drive/MyDrive/dataset/SpaceTitanic/"
      ],
      "metadata": {
        "colab": {
          "base_uri": "https://localhost:8080/"
        },
        "id": "1ITkkBFiPFXZ",
        "outputId": "66ca93b0-da3e-40f3-cd06-a657febfdc33"
      },
      "execution_count": 2,
      "outputs": [
        {
          "output_type": "stream",
          "name": "stdout",
          "text": [
            "/content/drive/MyDrive/dataset/SpaceTitanic\n"
          ]
        }
      ]
    },
    {
      "cell_type": "code",
      "source": [
        "import glob\n",
        "import numpy as np\n",
        "import pandas as pd\n",
        "import matplotlib.pyplot as plt\n",
        "import seaborn as sns\n",
        "\n",
        "from xgboost import XGBRegressor\n",
        "from sklearn.metrics import mean_absolute_error"
      ],
      "metadata": {
        "id": "ddyl-gt0QLd1"
      },
      "execution_count": 3,
      "outputs": []
    },
    {
      "cell_type": "code",
      "source": [
        "path = \"/content/drive/MyDrive/dataset/SpaceTitanic/\"\n",
        "filenames = glob.glob(path + \"*.csv\")\n",
        "data = [var.split('.')[0].split('/')[-1] for var in filenames]\n",
        "\n",
        "# dynamically allocate df names.\n",
        "df_list = []\n",
        "for name in zip(filenames, data):\n",
        "    loc = list(name)[0]\n",
        "    val = list(name)[1]\n",
        "    if not val.startswith('HomeCredit'):\n",
        "        df_list.append(val)\n",
        "        globals()[val] = pd.read_csv(loc) # encoding = 'ISO-8859-1'"
      ],
      "metadata": {
        "id": "M1De1HynRfBh"
      },
      "execution_count": 4,
      "outputs": []
    },
    {
      "cell_type": "code",
      "source": [
        "(train.shape[0] == train.PassengerId.nunique(), test.shape[0] == test.PassengerId.nunique())"
      ],
      "metadata": {
        "colab": {
          "base_uri": "https://localhost:8080/"
        },
        "id": "ItJS3Ry0Rr_t",
        "outputId": "798bb913-d378-4fc5-d695-cdee7a0165ed"
      },
      "execution_count": 5,
      "outputs": [
        {
          "output_type": "execute_result",
          "data": {
            "text/plain": [
              "(True, True)"
            ]
          },
          "metadata": {},
          "execution_count": 5
        }
      ]
    },
    {
      "cell_type": "code",
      "source": [
        "def create_adversarial_validation_set(df_train, df_test, drop_cols, target):\n",
        "    \n",
        "    df_train['is_train'] = 1\n",
        "    df_test['is_train'] = 0\n",
        "\n",
        "    df_target = df_train[target]\n",
        "\n",
        "    cols_to_drop = drop_cols\n",
        "    cols = [i for i in train.columns if i not in cols_to_drop]\n",
        "    df_combined = df_train[cols].append(df_test[cols])\n",
        "    \n",
        "    return df_combined, df_target"
      ],
      "metadata": {
        "id": "JAckdEQUDKq3"
      },
      "execution_count": 12,
      "outputs": []
    },
    {
      "cell_type": "code",
      "source": [
        "combined, target = create_adversarial_validation_set(train, test, ['PassengerId', 'Name', 'Transported'], 'Transported')"
      ],
      "metadata": {
        "id": "l3fKF2qjPLYm"
      },
      "execution_count": 14,
      "outputs": []
    },
    {
      "cell_type": "code",
      "source": [
        "def feature_engineering(df, dummyVariables):\n",
        "\n",
        "    if isinstance(df, pd.DataFrame) and isinstance(dummyVariables, list):\n",
        "\n",
        "        df = (\n",
        "                df\n",
        "                .assign(Psng_grp_1 = lambda x : x.PassengerId.str.split(\"_\").apply(lambda x: x[0]))\n",
        "                .assign(Psng_grp_2 = lambda x : x.PassengerId.str.split(\"_\").apply(lambda x: x[1]))\n",
        "        )\n",
        "\n",
        "        CameAlone = [i for i, j in zip(df.Psng_grp_1.value_counts().index, df.Psng_grp_1.value_counts().values) if j == 1]\n",
        "\n",
        "        df = (  df\n",
        "                .assign(totalSpent = lambda x : x.RoomService\t+ x.FoodCourt + x.ShoppingMall + x.Spa\t+ x.VRDeck)\n",
        "                .assign(Accompanied = lambda x : x.Psng_grp_1.apply(lambda x: 'Alone' if x in CameAlone else 'Accompanied'))\n",
        "                .assign(Cabin_Type = lambda x : x.Cabin.str.split('/').apply(lambda x: x[2] if isinstance(x, list) else np.NaN))\n",
        "                .assign(underAge = lambda x: x.Age.apply(lambda x: 1 if x <= 19 else 0))\n",
        "        )\n",
        "    \n",
        "        df = pd.get_dummies(df, columns = dummyVariables)\n",
        "\n",
        "    return df"
      ],
      "metadata": {
        "id": "0OqDjSroiDJc"
      },
      "execution_count": null,
      "outputs": []
    },
    {
      "cell_type": "code",
      "source": [
        "train_df = feature_engineering(train, dummyVariables = ['HomePlanet', 'CryoSleep', 'VIP', 'Destination'])\n",
        "test_df = feature_engineering(test, dummyVariables = ['HomePlanet', 'CryoSleep', 'VIP', 'Destination'])"
      ],
      "metadata": {
        "id": "gw7fjKm7iDKw"
      },
      "execution_count": null,
      "outputs": []
    },
    {
      "cell_type": "code",
      "source": [
        "train_keys = train_df[['PassengerId', 'Psng_grp_1', 'Psng_grp_2']]\n",
        "test_keys = test_df[['PassengerId', 'Psng_grp_1', 'Psng_grp_2']]\n",
        "\n",
        "target = train_df.Transported"
      ],
      "metadata": {
        "id": "5dB5D-RAu89x"
      },
      "execution_count": null,
      "outputs": []
    },
    {
      "cell_type": "code",
      "source": [
        "cols_to_drop = ['Cabin', 'Name', 'PassengerId', 'Psng_grp_1', 'Psng_grp_2']\n",
        "for df in [train_df, test_df]:\n",
        "    df.drop(cols_to_drop, axis = 1, inplace = True)\n",
        "    df['Cabin_Type'] = df.Cabin_Type.apply(lambda x: 1 if x == 'P' else 0)\n",
        "    df['Accompanied'] = df.Accompanied.apply(lambda x: 1 if x == 'Accompanied' else 0)"
      ],
      "metadata": {
        "id": "vKosZUVaiDMF"
      },
      "execution_count": null,
      "outputs": []
    },
    {
      "cell_type": "code",
      "source": [
        "train_df.drop(['Transported'], axis = 1, inplace = True)"
      ],
      "metadata": {
        "id": "_0_4ZRlzwK-f"
      },
      "execution_count": null,
      "outputs": []
    },
    {
      "cell_type": "markdown",
      "source": [
        "XGBOOST only takes numerical values and is not able to measure the distance between any order-based values. "
      ],
      "metadata": {
        "id": "hSWUL1jbSfxw"
      }
    },
    {
      "cell_type": "code",
      "source": [
        "xgb_model = XGBRegressor(objective = \"reg:squarederror\",\n",
        "                         learning_Rate = 0.05,\n",
        "                         max_depth = 3,\n",
        "                         n_estimators = 200)\n",
        "xgb_model.fit(train_df, target, verbose = False)"
      ],
      "metadata": {
        "colab": {
          "base_uri": "https://localhost:8080/"
        },
        "id": "bI_LPtxcsNQ-",
        "outputId": "3e14ed0d-531e-4b2e-e5ad-4dec963d4f62"
      },
      "execution_count": null,
      "outputs": [
        {
          "output_type": "execute_result",
          "data": {
            "text/plain": [
              "XGBRegressor(learning_Rate=0.05, n_estimators=200, objective='reg:squarederror')"
            ]
          },
          "metadata": {},
          "execution_count": 30
        }
      ]
    },
    {
      "cell_type": "code",
      "source": [
        "# make predictions\n",
        "predictions =  xgb_model.predict(test_df)"
      ],
      "metadata": {
        "id": "H1K19Lbevvac"
      },
      "execution_count": null,
      "outputs": []
    },
    {
      "cell_type": "code",
      "source": [
        "predictions_binary = [True if x >= 0.5 else False for x in predictions]"
      ],
      "metadata": {
        "id": "4oUKxVLCwQxD"
      },
      "execution_count": null,
      "outputs": []
    },
    {
      "cell_type": "code",
      "source": [
        "from collections import Counter\n",
        "Counter(predictions_binary)"
      ],
      "metadata": {
        "colab": {
          "base_uri": "https://localhost:8080/"
        },
        "id": "quEasojMr0K_",
        "outputId": "5296ff8e-fef8-427e-f9ae-4380812d1afb"
      },
      "execution_count": null,
      "outputs": [
        {
          "output_type": "execute_result",
          "data": {
            "text/plain": [
              "Counter({False: 1990, True: 2287})"
            ]
          },
          "metadata": {},
          "execution_count": 33
        }
      ]
    },
    {
      "cell_type": "code",
      "source": [
        "sample_submission.Transported = predictions_binary"
      ],
      "metadata": {
        "id": "c0x5dEtRw8uV"
      },
      "execution_count": null,
      "outputs": []
    },
    {
      "cell_type": "code",
      "source": [
        "sample_submission.to_csv(\"rslt_1.csv\", index = False)"
      ],
      "metadata": {
        "id": "khZzdllixGsF"
      },
      "execution_count": null,
      "outputs": []
    },
    {
      "cell_type": "markdown",
      "source": [
        "# Logistic"
      ],
      "metadata": {
        "id": "nkdd8OeuNNPF"
      }
    },
    {
      "cell_type": "code",
      "source": [
        "from sklearn.linear_model import LogisticRegression\n",
        "logisticRegr = LogisticRegression(max_iter = 1000)"
      ],
      "metadata": {
        "id": "36Koi8D-NMhW"
      },
      "execution_count": null,
      "outputs": []
    },
    {
      "cell_type": "code",
      "source": [
        "train_df.isna().mean()"
      ],
      "metadata": {
        "colab": {
          "base_uri": "https://localhost:8080/"
        },
        "id": "JL6hyKPFPAm4",
        "outputId": "3c6e1238-7e8a-4449-9dde-5b4870c53a7c"
      },
      "execution_count": null,
      "outputs": [
        {
          "output_type": "execute_result",
          "data": {
            "text/plain": [
              "Age                          0.020591\n",
              "RoomService                  0.020821\n",
              "FoodCourt                    0.021051\n",
              "ShoppingMall                 0.023927\n",
              "Spa                          0.021051\n",
              "VRDeck                       0.021627\n",
              "totalSpent                   0.104452\n",
              "Accompanied                  0.000000\n",
              "Cabin_Type                   0.000000\n",
              "underAge                     0.000000\n",
              "HomePlanet_Earth             0.000000\n",
              "HomePlanet_Europa            0.000000\n",
              "HomePlanet_Mars              0.000000\n",
              "CryoSleep_False              0.000000\n",
              "CryoSleep_True               0.000000\n",
              "VIP_False                    0.000000\n",
              "VIP_True                     0.000000\n",
              "Destination_55 Cancri e      0.000000\n",
              "Destination_PSO J318.5-22    0.000000\n",
              "Destination_TRAPPIST-1e      0.000000\n",
              "dtype: float64"
            ]
          },
          "metadata": {},
          "execution_count": 42
        }
      ]
    },
    {
      "cell_type": "code",
      "source": [
        "train_df = train_df.fillna(train_df.median())\n",
        "test_df = test_df.fillna(test_df.median())"
      ],
      "metadata": {
        "id": "z3kNOvXVO7wt"
      },
      "execution_count": null,
      "outputs": []
    },
    {
      "cell_type": "code",
      "source": [
        "logisticRegr.fit(train_df, target)"
      ],
      "metadata": {
        "colab": {
          "base_uri": "https://localhost:8080/"
        },
        "id": "TL10LmleM9Ed",
        "outputId": "74cc7517-a0d7-4476-bdbe-e9f1ef34a29d"
      },
      "execution_count": null,
      "outputs": [
        {
          "output_type": "execute_result",
          "data": {
            "text/plain": [
              "LogisticRegression(max_iter=1000)"
            ]
          },
          "metadata": {},
          "execution_count": 47
        }
      ]
    },
    {
      "cell_type": "code",
      "source": [
        "predictions = logisticRegr.predict(test_df)"
      ],
      "metadata": {
        "id": "-XzyUaWoTG1O"
      },
      "execution_count": null,
      "outputs": []
    },
    {
      "cell_type": "code",
      "source": [
        "predictions"
      ],
      "metadata": {
        "colab": {
          "base_uri": "https://localhost:8080/"
        },
        "id": "bjNHAA_STbqK",
        "outputId": "44bd82ff-bb25-47a9-f204-2f7ff7b9c473"
      },
      "execution_count": null,
      "outputs": [
        {
          "output_type": "execute_result",
          "data": {
            "text/plain": [
              "array([ True, False,  True, ...,  True,  True,  True])"
            ]
          },
          "metadata": {},
          "execution_count": 55
        }
      ]
    },
    {
      "cell_type": "code",
      "source": [
        "from collections import Counter\n",
        "Counter(predictions)"
      ],
      "metadata": {
        "colab": {
          "base_uri": "https://localhost:8080/"
        },
        "id": "iccgUlGWUdVh",
        "outputId": "0fd66896-d3d0-4cd9-dcc7-e628e3ed25a0"
      },
      "execution_count": null,
      "outputs": [
        {
          "output_type": "execute_result",
          "data": {
            "text/plain": [
              "Counter({False: 1988, True: 2289})"
            ]
          },
          "metadata": {},
          "execution_count": 56
        }
      ]
    },
    {
      "cell_type": "code",
      "source": [
        "sample_submission['Transported'] = predictions"
      ],
      "metadata": {
        "id": "5-m3p2HvUkW7"
      },
      "execution_count": null,
      "outputs": []
    },
    {
      "cell_type": "code",
      "source": [
        "sample_submission.to_csv(\"./rslt/rslt_2.csv\", index = False)"
      ],
      "metadata": {
        "id": "CculQlMuUi2f"
      },
      "execution_count": null,
      "outputs": []
    }
  ]
}