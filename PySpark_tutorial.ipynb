{
  "nbformat": 4,
  "nbformat_minor": 0,
  "metadata": {
    "colab": {
      "name": "PySpark_tutorial.ipynb",
      "provenance": [],
      "authorship_tag": "ABX9TyPSTG0Cxb0VvwIb2iTh0u9k",
      "include_colab_link": true
    },
    "kernelspec": {
      "name": "python3",
      "display_name": "Python 3"
    },
    "language_info": {
      "name": "python"
    }
  },
  "cells": [
    {
      "cell_type": "markdown",
      "metadata": {
        "id": "view-in-github",
        "colab_type": "text"
      },
      "source": [
        "<a href=\"https://colab.research.google.com/github/woo2201/sampleCases/blob/reservior/PySpark_tutorial.ipynb\" target=\"_parent\"><img src=\"https://colab.research.google.com/assets/colab-badge.svg\" alt=\"Open In Colab\"/></a>"
      ]
    },
    {
      "cell_type": "markdown",
      "source": [
        "# PySpark : First step\n",
        "\n",
        "PySpark : Apache Spark 의 파이썬 용 API 임.\n",
        "\n",
        "스파크는 하드디스크 상에다가 데이터를 얹어놓는 것이 아닌 인메모리 캐시를 사용하여 처리하기 때문에 반복작업 등에서 훨씬 빠른 성능을 보여줌."
      ],
      "metadata": {
        "id": "4PRecNPEmuM5"
      }
    },
    {
      "cell_type": "code",
      "execution_count": null,
      "metadata": {
        "id": "g1DirG3gmspk"
      },
      "outputs": [],
      "source": [
        "pip install pyspark\n",
        "\n",
        "from pyspark.sql import SparkSession\n",
        "\n",
        "spark = SparkSession.builder.appName(\"Practice\").getOrCreate() # first run takes time."
      ]
    },
    {
      "cell_type": "code",
      "source": [
        "spark"
      ],
      "metadata": {
        "id": "Dy7r3haymuY_"
      },
      "execution_count": null,
      "outputs": []
    },
    {
      "cell_type": "code",
      "source": [
        "df_spark = spark.read.csv(\"/content/drive/MyDrive/dataset/home-credit-default-risk/application_train.csv\")"
      ],
      "metadata": {
        "id": "3NWPWApqn30_"
      },
      "execution_count": null,
      "outputs": []
    },
    {
      "cell_type": "code",
      "source": [
        "df_spark"
      ],
      "metadata": {
        "id": "Xg3zpBjOn33R"
      },
      "execution_count": null,
      "outputs": []
    },
    {
      "cell_type": "code",
      "source": [
        "spark.read.option('header', 'true').csv(\"/content/drive/MyDrive/dataset/home-credit-default-risk/application_train.csv\")"
      ],
      "metadata": {
        "id": "FpYv0m57n35U"
      },
      "execution_count": null,
      "outputs": []
    },
    {
      "cell_type": "code",
      "source": [
        "df_spark = spark.read.option('header', 'true').csv(\"/content/drive/MyDrive/dataset/home-credit-default-risk/application_train.csv\")"
      ],
      "metadata": {
        "id": "rAISRuxLn37o"
      },
      "execution_count": null,
      "outputs": []
    },
    {
      "cell_type": "code",
      "source": [
        "df_spark = spark.read.csv(\"/content/drive/MyDrive/dataset/home-credit-default-risk/application_train.csv\", header = True, inferSchema = True)"
      ],
      "metadata": {
        "id": "-HEluzRMn3-V"
      },
      "execution_count": null,
      "outputs": []
    },
    {
      "cell_type": "code",
      "source": [
        "df_spark.show()"
      ],
      "metadata": {
        "id": "euDIodHVn4Ao"
      },
      "execution_count": null,
      "outputs": []
    },
    {
      "cell_type": "code",
      "source": [
        "type(df_spark)"
      ],
      "metadata": {
        "id": "YllAbOZNoPtY"
      },
      "execution_count": null,
      "outputs": []
    },
    {
      "cell_type": "code",
      "source": [
        "df_spark.head(3)"
      ],
      "metadata": {
        "id": "3atH8oL5oPvv"
      },
      "execution_count": null,
      "outputs": []
    },
    {
      "cell_type": "code",
      "source": [
        "df_spark.printSchema() # df.info 와 같이 작동함."
      ],
      "metadata": {
        "id": "saAblefWoPyU"
      },
      "execution_count": null,
      "outputs": []
    },
    {
      "cell_type": "code",
      "source": [
        "df_spark.describe().show()"
      ],
      "metadata": {
        "id": "3Pdko0nHoP0z"
      },
      "execution_count": null,
      "outputs": []
    },
    {
      "cell_type": "code",
      "source": [
        ""
      ],
      "metadata": {
        "id": "Ar9lA1KooP3g"
      },
      "execution_count": null,
      "outputs": []
    }
  ]
}