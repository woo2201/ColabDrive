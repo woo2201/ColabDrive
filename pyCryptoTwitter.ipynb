{
  "nbformat": 4,
  "nbformat_minor": 0,
  "metadata": {
    "colab": {
      "name": "pyCryptoTwitter",
      "provenance": [],
      "collapsed_sections": [],
      "authorship_tag": "ABX9TyMtbZEnZK2lanuoHuW5FB+S",
      "include_colab_link": true
    },
    "kernelspec": {
      "name": "python3",
      "display_name": "Python 3"
    },
    "language_info": {
      "name": "python"
    }
  },
  "cells": [
    {
      "cell_type": "markdown",
      "metadata": {
        "id": "view-in-github",
        "colab_type": "text"
      },
      "source": [
        "<a href=\"https://colab.research.google.com/github/woo2201/ColabDrive/blob/reservior/pyCryptoTwitter.ipynb\" target=\"_parent\"><img src=\"https://colab.research.google.com/assets/colab-badge.svg\" alt=\"Open In Colab\"/></a>"
      ]
    },
    {
      "cell_type": "code",
      "execution_count": null,
      "metadata": {
        "colab": {
          "base_uri": "https://localhost:8080/"
        },
        "id": "K0GeBgFA01RE",
        "outputId": "5d184cb5-6922-4740-f362-867c7f1cd7cf"
      },
      "outputs": [
        {
          "output_type": "stream",
          "name": "stdout",
          "text": [
            "Collecting pyupbit\n",
            "  Downloading pyupbit-0.2.23-py3-none-any.whl (21 kB)\n",
            "Collecting websockets==9.1\n",
            "  Downloading websockets-9.1-cp37-cp37m-manylinux2010_x86_64.whl (103 kB)\n",
            "\u001b[K     |████████████████████████████████| 103 kB 5.7 MB/s \n",
            "\u001b[?25hCollecting pyjwt>=2.0.0\n",
            "  Downloading PyJWT-2.3.0-py3-none-any.whl (16 kB)\n",
            "Requirement already satisfied: requests in /usr/local/lib/python3.7/dist-packages (from pyupbit) (2.23.0)\n",
            "Requirement already satisfied: pandas in /usr/local/lib/python3.7/dist-packages (from pyupbit) (1.3.5)\n",
            "Requirement already satisfied: numpy>=1.17.3 in /usr/local/lib/python3.7/dist-packages (from pandas->pyupbit) (1.19.5)\n",
            "Requirement already satisfied: pytz>=2017.3 in /usr/local/lib/python3.7/dist-packages (from pandas->pyupbit) (2018.9)\n",
            "Requirement already satisfied: python-dateutil>=2.7.3 in /usr/local/lib/python3.7/dist-packages (from pandas->pyupbit) (2.8.2)\n",
            "Requirement already satisfied: six>=1.5 in /usr/local/lib/python3.7/dist-packages (from python-dateutil>=2.7.3->pandas->pyupbit) (1.15.0)\n",
            "Requirement already satisfied: urllib3!=1.25.0,!=1.25.1,<1.26,>=1.21.1 in /usr/local/lib/python3.7/dist-packages (from requests->pyupbit) (1.24.3)\n",
            "Requirement already satisfied: certifi>=2017.4.17 in /usr/local/lib/python3.7/dist-packages (from requests->pyupbit) (2021.10.8)\n",
            "Requirement already satisfied: chardet<4,>=3.0.2 in /usr/local/lib/python3.7/dist-packages (from requests->pyupbit) (3.0.4)\n",
            "Requirement already satisfied: idna<3,>=2.5 in /usr/local/lib/python3.7/dist-packages (from requests->pyupbit) (2.10)\n",
            "Installing collected packages: websockets, pyjwt, pyupbit\n",
            "Successfully installed pyjwt-2.3.0 pyupbit-0.2.23 websockets-9.1\n"
          ]
        }
      ],
      "source": [
        "pip install pyupbit"
      ]
    },
    {
      "cell_type": "code",
      "source": [
        "import pyupbit\n",
        "import pandas as pd\n",
        "import numpy as np\n",
        "import scipy as scp\n",
        "import math\n",
        "import time\n",
        "from collections import deque"
      ],
      "metadata": {
        "id": "isyB52jB06x7"
      },
      "execution_count": null,
      "outputs": []
    },
    {
      "cell_type": "markdown",
      "source": [
        "# Trading Bot Structure\n",
        "\n",
        "pyCrypto\n",
        "\n",
        "* balance.py : 잔고를 확인하고 매매가능 코인 수를 전달해주는 역할.\n",
        "* buy.py     : 코인 구매 로직\n",
        "* sell.py    : 코인 판매 로직\n",
        "* eyeballs.py : 마켓 변화에 대한 정보를 제공하는 파일. strategies 에 정보제공 \n",
        "* strategies.py : buy/sell 로직을 활용한, 매매전략 \n",
        "* module.py : 총괄\n",
        "\n",
        "해당 순서대로 제작할 것."
      ],
      "metadata": {
        "id": "D9dc33E6REuN"
      }
    },
    {
      "cell_type": "code",
      "source": [
        "class balance():\n",
        "    # upbit API and authkey required\n",
        "    # KRW 기준\n",
        "    def __init__(self, coin):\n",
        "        self.balance = upbit.get_balance(\"KRW\")\n",
        "        self.curr_price = pyupbit.get_current_price(self.coin)\n",
        "    \n",
        "    def balance_check(self):\n",
        "        # 현재 잔고 조회\n",
        "        return balance\n",
        "    \n",
        "    def purchasable():\n",
        "        # 구매가능 개수\n",
        "        return int(balance/curr_price)\n",
        "\n",
        "    return balance"
      ],
      "metadata": {
        "id": "_xkSm0-oTJbX"
      },
      "execution_count": null,
      "outputs": []
    },
    {
      "cell_type": "code",
      "source": [
        "def buybot(ticker, volume):\n",
        "    try:\n",
        "        while True:\n",
        "            buy = upbit.buy_market_order(ticker, volume)\n",
        "            if buy == None or 'error' in buy:\n",
        "                print(\"매수 재 주문\")\n",
        "                time.sleep(1)\n",
        "            else:\n",
        "                return buy\n",
        "    except:\n",
        "        print(\"매수 주문 이상\")"
      ],
      "metadata": {
        "id": "rOK-F13cRHgE"
      },
      "execution_count": null,
      "outputs": []
    },
    {
      "cell_type": "code",
      "source": [
        "def sellbot(ticker, volume):\n",
        "    try:\n",
        "        while True:\n",
        "            sell = upbit.sell_market_order(ticker, volume)\n",
        "            if sell == None or 'error' in sell:\n",
        "                print(f\"{sell_result}, 매도 재 주문\")\n",
        "                time.sleep(1)\n",
        "            else:\n",
        "                return sell\n",
        "    except:\n",
        "        print(\"매도 주문 이상\")"
      ],
      "metadata": {
        "id": "_xWK7mZFRElG"
      },
      "execution_count": null,
      "outputs": []
    },
    {
      "cell_type": "code",
      "source": [
        "def tradeStrategy():\n",
        "    return 'notsofast'"
      ],
      "metadata": {
        "id": "Aewyr_lBRD0c"
      },
      "execution_count": null,
      "outputs": []
    },
    {
      "cell_type": "code",
      "source": [
        "def marketEyes(tickers):\n",
        "    # 호가 감시\n",
        "\n",
        "    while True:\n",
        "        time.sleep(30) # every 30 sec, the system will send a notification.\n",
        "        curr_price = pyupbit.get_current_price(tickers)\n",
        "        print(f'current price is {curr_price}')"
      ],
      "metadata": {
        "id": "VwHoOIClS8nE"
      },
      "execution_count": null,
      "outputs": []
    },
    {
      "cell_type": "markdown",
      "source": [
        "------------------------------------------------------------------------------------------------------------------------------------------------------------------------------------------------------------------------------------------------------------\n"
      ],
      "metadata": {
        "id": "Bi7Krr_PTrXO"
      }
    },
    {
      "cell_type": "code",
      "source": [
        "curprice = pyupbit.get_current_price([\"KRW-XRP\", \"KRW-ETH\"])\n",
        "\n",
        "curprice['KRW-XRP']"
      ],
      "metadata": {
        "colab": {
          "base_uri": "https://localhost:8080/"
        },
        "id": "Gya8jvDO062W",
        "outputId": "5891957b-98a8-460a-9b02-0a45cb151210"
      },
      "execution_count": null,
      "outputs": [
        {
          "output_type": "execute_result",
          "data": {
            "text/plain": [
              "1065.0"
            ]
          },
          "metadata": {},
          "execution_count": 7
        }
      ]
    },
    {
      "cell_type": "code",
      "source": [
        "curr_price = pyupbit.get_current_price([\"KRW-XRP\", \"KRW-ETH\"])"
      ],
      "metadata": {
        "colab": {
          "base_uri": "https://localhost:8080/"
        },
        "id": "HrAbAaXx2pWq",
        "outputId": "c4aec3a1-d7e5-41cb-e409-6942621a3b9e"
      },
      "execution_count": null,
      "outputs": [
        {
          "output_type": "execute_result",
          "data": {
            "text/plain": [
              "{'KRW-ETH': 3733000.0, 'KRW-XRP': 1045.0}"
            ]
          },
          "metadata": {},
          "execution_count": 6
        }
      ]
    },
    {
      "cell_type": "code",
      "source": [
        "pyupbit.get_ohlcv(\"KRW-XRP\", interval=\"minute1\", count = 10)"
      ],
      "metadata": {
        "colab": {
          "base_uri": "https://localhost:8080/",
          "height": 363
        },
        "id": "pZYkDrEh5vLW",
        "outputId": "db282654-e86c-4cbf-e468-b944176ea7bf"
      },
      "execution_count": null,
      "outputs": [
        {
          "output_type": "execute_result",
          "data": {
            "text/html": [
              "\n",
              "  <div id=\"df-3e5cdf00-ea50-439e-891a-f58234d967fc\">\n",
              "    <div class=\"colab-df-container\">\n",
              "      <div>\n",
              "<style scoped>\n",
              "    .dataframe tbody tr th:only-of-type {\n",
              "        vertical-align: middle;\n",
              "    }\n",
              "\n",
              "    .dataframe tbody tr th {\n",
              "        vertical-align: top;\n",
              "    }\n",
              "\n",
              "    .dataframe thead th {\n",
              "        text-align: right;\n",
              "    }\n",
              "</style>\n",
              "<table border=\"1\" class=\"dataframe\">\n",
              "  <thead>\n",
              "    <tr style=\"text-align: right;\">\n",
              "      <th></th>\n",
              "      <th>open</th>\n",
              "      <th>high</th>\n",
              "      <th>low</th>\n",
              "      <th>close</th>\n",
              "      <th>volume</th>\n",
              "      <th>value</th>\n",
              "    </tr>\n",
              "  </thead>\n",
              "  <tbody>\n",
              "    <tr>\n",
              "      <th>2022-02-09 11:06:00</th>\n",
              "      <td>1065.0</td>\n",
              "      <td>1070.0</td>\n",
              "      <td>1055.0</td>\n",
              "      <td>1060.0</td>\n",
              "      <td>3.217606e+06</td>\n",
              "      <td>3.418826e+09</td>\n",
              "    </tr>\n",
              "    <tr>\n",
              "      <th>2022-02-09 11:07:00</th>\n",
              "      <td>1060.0</td>\n",
              "      <td>1065.0</td>\n",
              "      <td>1055.0</td>\n",
              "      <td>1055.0</td>\n",
              "      <td>7.936845e+05</td>\n",
              "      <td>8.402869e+08</td>\n",
              "    </tr>\n",
              "    <tr>\n",
              "      <th>2022-02-09 11:08:00</th>\n",
              "      <td>1055.0</td>\n",
              "      <td>1060.0</td>\n",
              "      <td>1050.0</td>\n",
              "      <td>1055.0</td>\n",
              "      <td>1.275240e+06</td>\n",
              "      <td>1.345493e+09</td>\n",
              "    </tr>\n",
              "    <tr>\n",
              "      <th>2022-02-09 11:09:00</th>\n",
              "      <td>1055.0</td>\n",
              "      <td>1060.0</td>\n",
              "      <td>1050.0</td>\n",
              "      <td>1050.0</td>\n",
              "      <td>1.094501e+06</td>\n",
              "      <td>1.153810e+09</td>\n",
              "    </tr>\n",
              "    <tr>\n",
              "      <th>2022-02-09 11:10:00</th>\n",
              "      <td>1055.0</td>\n",
              "      <td>1055.0</td>\n",
              "      <td>1050.0</td>\n",
              "      <td>1050.0</td>\n",
              "      <td>5.775577e+05</td>\n",
              "      <td>6.066951e+08</td>\n",
              "    </tr>\n",
              "    <tr>\n",
              "      <th>2022-02-09 11:11:00</th>\n",
              "      <td>1050.0</td>\n",
              "      <td>1055.0</td>\n",
              "      <td>1050.0</td>\n",
              "      <td>1050.0</td>\n",
              "      <td>1.064781e+06</td>\n",
              "      <td>1.120937e+09</td>\n",
              "    </tr>\n",
              "    <tr>\n",
              "      <th>2022-02-09 11:12:00</th>\n",
              "      <td>1050.0</td>\n",
              "      <td>1055.0</td>\n",
              "      <td>1045.0</td>\n",
              "      <td>1055.0</td>\n",
              "      <td>2.093450e+06</td>\n",
              "      <td>2.197722e+09</td>\n",
              "    </tr>\n",
              "    <tr>\n",
              "      <th>2022-02-09 11:13:00</th>\n",
              "      <td>1050.0</td>\n",
              "      <td>1055.0</td>\n",
              "      <td>1050.0</td>\n",
              "      <td>1050.0</td>\n",
              "      <td>4.116040e+05</td>\n",
              "      <td>4.327864e+08</td>\n",
              "    </tr>\n",
              "    <tr>\n",
              "      <th>2022-02-09 11:14:00</th>\n",
              "      <td>1050.0</td>\n",
              "      <td>1055.0</td>\n",
              "      <td>1050.0</td>\n",
              "      <td>1050.0</td>\n",
              "      <td>1.011282e+06</td>\n",
              "      <td>1.062477e+09</td>\n",
              "    </tr>\n",
              "    <tr>\n",
              "      <th>2022-02-09 11:15:00</th>\n",
              "      <td>1050.0</td>\n",
              "      <td>1055.0</td>\n",
              "      <td>1045.0</td>\n",
              "      <td>1050.0</td>\n",
              "      <td>1.470029e+06</td>\n",
              "      <td>1.542793e+09</td>\n",
              "    </tr>\n",
              "  </tbody>\n",
              "</table>\n",
              "</div>\n",
              "      <button class=\"colab-df-convert\" onclick=\"convertToInteractive('df-3e5cdf00-ea50-439e-891a-f58234d967fc')\"\n",
              "              title=\"Convert this dataframe to an interactive table.\"\n",
              "              style=\"display:none;\">\n",
              "        \n",
              "  <svg xmlns=\"http://www.w3.org/2000/svg\" height=\"24px\"viewBox=\"0 0 24 24\"\n",
              "       width=\"24px\">\n",
              "    <path d=\"M0 0h24v24H0V0z\" fill=\"none\"/>\n",
              "    <path d=\"M18.56 5.44l.94 2.06.94-2.06 2.06-.94-2.06-.94-.94-2.06-.94 2.06-2.06.94zm-11 1L8.5 8.5l.94-2.06 2.06-.94-2.06-.94L8.5 2.5l-.94 2.06-2.06.94zm10 10l.94 2.06.94-2.06 2.06-.94-2.06-.94-.94-2.06-.94 2.06-2.06.94z\"/><path d=\"M17.41 7.96l-1.37-1.37c-.4-.4-.92-.59-1.43-.59-.52 0-1.04.2-1.43.59L10.3 9.45l-7.72 7.72c-.78.78-.78 2.05 0 2.83L4 21.41c.39.39.9.59 1.41.59.51 0 1.02-.2 1.41-.59l7.78-7.78 2.81-2.81c.8-.78.8-2.07 0-2.86zM5.41 20L4 18.59l7.72-7.72 1.47 1.35L5.41 20z\"/>\n",
              "  </svg>\n",
              "      </button>\n",
              "      \n",
              "  <style>\n",
              "    .colab-df-container {\n",
              "      display:flex;\n",
              "      flex-wrap:wrap;\n",
              "      gap: 12px;\n",
              "    }\n",
              "\n",
              "    .colab-df-convert {\n",
              "      background-color: #E8F0FE;\n",
              "      border: none;\n",
              "      border-radius: 50%;\n",
              "      cursor: pointer;\n",
              "      display: none;\n",
              "      fill: #1967D2;\n",
              "      height: 32px;\n",
              "      padding: 0 0 0 0;\n",
              "      width: 32px;\n",
              "    }\n",
              "\n",
              "    .colab-df-convert:hover {\n",
              "      background-color: #E2EBFA;\n",
              "      box-shadow: 0px 1px 2px rgba(60, 64, 67, 0.3), 0px 1px 3px 1px rgba(60, 64, 67, 0.15);\n",
              "      fill: #174EA6;\n",
              "    }\n",
              "\n",
              "    [theme=dark] .colab-df-convert {\n",
              "      background-color: #3B4455;\n",
              "      fill: #D2E3FC;\n",
              "    }\n",
              "\n",
              "    [theme=dark] .colab-df-convert:hover {\n",
              "      background-color: #434B5C;\n",
              "      box-shadow: 0px 1px 3px 1px rgba(0, 0, 0, 0.15);\n",
              "      filter: drop-shadow(0px 1px 2px rgba(0, 0, 0, 0.3));\n",
              "      fill: #FFFFFF;\n",
              "    }\n",
              "  </style>\n",
              "\n",
              "      <script>\n",
              "        const buttonEl =\n",
              "          document.querySelector('#df-3e5cdf00-ea50-439e-891a-f58234d967fc button.colab-df-convert');\n",
              "        buttonEl.style.display =\n",
              "          google.colab.kernel.accessAllowed ? 'block' : 'none';\n",
              "\n",
              "        async function convertToInteractive(key) {\n",
              "          const element = document.querySelector('#df-3e5cdf00-ea50-439e-891a-f58234d967fc');\n",
              "          const dataTable =\n",
              "            await google.colab.kernel.invokeFunction('convertToInteractive',\n",
              "                                                     [key], {});\n",
              "          if (!dataTable) return;\n",
              "\n",
              "          const docLinkHtml = 'Like what you see? Visit the ' +\n",
              "            '<a target=\"_blank\" href=https://colab.research.google.com/notebooks/data_table.ipynb>data table notebook</a>'\n",
              "            + ' to learn more about interactive tables.';\n",
              "          element.innerHTML = '';\n",
              "          dataTable['output_type'] = 'display_data';\n",
              "          await google.colab.output.renderOutput(dataTable, element);\n",
              "          const docLink = document.createElement('div');\n",
              "          docLink.innerHTML = docLinkHtml;\n",
              "          element.appendChild(docLink);\n",
              "        }\n",
              "      </script>\n",
              "    </div>\n",
              "  </div>\n",
              "  "
            ],
            "text/plain": [
              "                       open    high     low   close        volume         value\n",
              "2022-02-09 11:06:00  1065.0  1070.0  1055.0  1060.0  3.217606e+06  3.418826e+09\n",
              "2022-02-09 11:07:00  1060.0  1065.0  1055.0  1055.0  7.936845e+05  8.402869e+08\n",
              "2022-02-09 11:08:00  1055.0  1060.0  1050.0  1055.0  1.275240e+06  1.345493e+09\n",
              "2022-02-09 11:09:00  1055.0  1060.0  1050.0  1050.0  1.094501e+06  1.153810e+09\n",
              "2022-02-09 11:10:00  1055.0  1055.0  1050.0  1050.0  5.775577e+05  6.066951e+08\n",
              "2022-02-09 11:11:00  1050.0  1055.0  1050.0  1050.0  1.064781e+06  1.120937e+09\n",
              "2022-02-09 11:12:00  1050.0  1055.0  1045.0  1055.0  2.093450e+06  2.197722e+09\n",
              "2022-02-09 11:13:00  1050.0  1055.0  1050.0  1050.0  4.116040e+05  4.327864e+08\n",
              "2022-02-09 11:14:00  1050.0  1055.0  1050.0  1050.0  1.011282e+06  1.062477e+09\n",
              "2022-02-09 11:15:00  1050.0  1055.0  1045.0  1050.0  1.470029e+06  1.542793e+09"
            ]
          },
          "metadata": {},
          "execution_count": 5
        }
      ]
    },
    {
      "cell_type": "code",
      "source": [
        "askbid = pyupbit.get_orderbook(\"KRW-XRP\")['orderbook_units']\n",
        "for info in askbid:\n",
        "    print(info)"
      ],
      "metadata": {
        "colab": {
          "base_uri": "https://localhost:8080/"
        },
        "id": "6UDi-lve7iSe",
        "outputId": "931140e0-1ebf-457c-9178-1ff76e4378d4"
      },
      "execution_count": null,
      "outputs": [
        {
          "output_type": "stream",
          "name": "stdout",
          "text": [
            "{'ask_price': 943.0, 'bid_price': 942.0, 'ask_size': 247020.27780006, 'bid_size': 105223.61347675}\n",
            "{'ask_price': 944.0, 'bid_price': 941.0, 'ask_size': 355450.17557474, 'bid_size': 62414.38892524}\n",
            "{'ask_price': 945.0, 'bid_price': 940.0, 'ask_size': 291316.3798203, 'bid_size': 124809.4728057}\n",
            "{'ask_price': 946.0, 'bid_price': 939.0, 'ask_size': 130716.19252695, 'bid_size': 275557.70275571}\n",
            "{'ask_price': 947.0, 'bid_price': 938.0, 'ask_size': 231792.29157001, 'bid_size': 195356.26020222}\n",
            "{'ask_price': 948.0, 'bid_price': 937.0, 'ask_size': 204910.17402949, 'bid_size': 205618.18500123}\n",
            "{'ask_price': 949.0, 'bid_price': 936.0, 'ask_size': 211746.81451835, 'bid_size': 190628.5391276}\n",
            "{'ask_price': 950.0, 'bid_price': 935.0, 'ask_size': 592365.85563975, 'bid_size': 153414.5660789}\n",
            "{'ask_price': 951.0, 'bid_price': 934.0, 'ask_size': 220779.62841142, 'bid_size': 133555.5478868}\n",
            "{'ask_price': 952.0, 'bid_price': 933.0, 'ask_size': 210879.23011776, 'bid_size': 81196.3241818}\n",
            "{'ask_price': 953.0, 'bid_price': 932.0, 'ask_size': 222760.68171199, 'bid_size': 209188.4748881}\n",
            "{'ask_price': 954.0, 'bid_price': 931.0, 'ask_size': 174094.35233923, 'bid_size': 251950.34576548}\n",
            "{'ask_price': 955.0, 'bid_price': 930.0, 'ask_size': 527924.11106253, 'bid_size': 555845.37526559}\n",
            "{'ask_price': 956.0, 'bid_price': 929.0, 'ask_size': 139715.48969959, 'bid_size': 118958.48413318}\n",
            "{'ask_price': 957.0, 'bid_price': 928.0, 'ask_size': 213939.47348077, 'bid_size': 135602.61310229}\n"
          ]
        }
      ]
    },
    {
      "cell_type": "code",
      "source": [
        "pd.concat(\n",
        "[pd.DataFrame.from_dict(askbid)[['ask_price', 'ask_size']], pd.DataFrame.from_dict(askbid)[['bid_price', 'bid_size']]]\n",
        ")"
      ],
      "metadata": {
        "colab": {
          "base_uri": "https://localhost:8080/",
          "height": 520
        },
        "id": "S9b4ljIs2pUD",
        "outputId": "3caa9e05-d15a-4ed5-f42e-6978299e0405"
      },
      "execution_count": null,
      "outputs": [
        {
          "output_type": "execute_result",
          "data": {
            "text/html": [
              "\n",
              "  <div id=\"df-856e3c99-f8e4-4c05-821f-d901199b92e8\">\n",
              "    <div class=\"colab-df-container\">\n",
              "      <div>\n",
              "<style scoped>\n",
              "    .dataframe tbody tr th:only-of-type {\n",
              "        vertical-align: middle;\n",
              "    }\n",
              "\n",
              "    .dataframe tbody tr th {\n",
              "        vertical-align: top;\n",
              "    }\n",
              "\n",
              "    .dataframe thead th {\n",
              "        text-align: right;\n",
              "    }\n",
              "</style>\n",
              "<table border=\"1\" class=\"dataframe\">\n",
              "  <thead>\n",
              "    <tr style=\"text-align: right;\">\n",
              "      <th></th>\n",
              "      <th>ask_price</th>\n",
              "      <th>bid_price</th>\n",
              "      <th>ask_size</th>\n",
              "      <th>bid_size</th>\n",
              "    </tr>\n",
              "  </thead>\n",
              "  <tbody>\n",
              "    <tr>\n",
              "      <th>0</th>\n",
              "      <td>943.0</td>\n",
              "      <td>942.0</td>\n",
              "      <td>247020.277800</td>\n",
              "      <td>105223.613477</td>\n",
              "    </tr>\n",
              "    <tr>\n",
              "      <th>1</th>\n",
              "      <td>944.0</td>\n",
              "      <td>941.0</td>\n",
              "      <td>355450.175575</td>\n",
              "      <td>62414.388925</td>\n",
              "    </tr>\n",
              "    <tr>\n",
              "      <th>2</th>\n",
              "      <td>945.0</td>\n",
              "      <td>940.0</td>\n",
              "      <td>291316.379820</td>\n",
              "      <td>124809.472806</td>\n",
              "    </tr>\n",
              "    <tr>\n",
              "      <th>3</th>\n",
              "      <td>946.0</td>\n",
              "      <td>939.0</td>\n",
              "      <td>130716.192527</td>\n",
              "      <td>275557.702756</td>\n",
              "    </tr>\n",
              "    <tr>\n",
              "      <th>4</th>\n",
              "      <td>947.0</td>\n",
              "      <td>938.0</td>\n",
              "      <td>231792.291570</td>\n",
              "      <td>195356.260202</td>\n",
              "    </tr>\n",
              "    <tr>\n",
              "      <th>5</th>\n",
              "      <td>948.0</td>\n",
              "      <td>937.0</td>\n",
              "      <td>204910.174029</td>\n",
              "      <td>205618.185001</td>\n",
              "    </tr>\n",
              "    <tr>\n",
              "      <th>6</th>\n",
              "      <td>949.0</td>\n",
              "      <td>936.0</td>\n",
              "      <td>211746.814518</td>\n",
              "      <td>190628.539128</td>\n",
              "    </tr>\n",
              "    <tr>\n",
              "      <th>7</th>\n",
              "      <td>950.0</td>\n",
              "      <td>935.0</td>\n",
              "      <td>592365.855640</td>\n",
              "      <td>153414.566079</td>\n",
              "    </tr>\n",
              "    <tr>\n",
              "      <th>8</th>\n",
              "      <td>951.0</td>\n",
              "      <td>934.0</td>\n",
              "      <td>220779.628411</td>\n",
              "      <td>133555.547887</td>\n",
              "    </tr>\n",
              "    <tr>\n",
              "      <th>9</th>\n",
              "      <td>952.0</td>\n",
              "      <td>933.0</td>\n",
              "      <td>210879.230118</td>\n",
              "      <td>81196.324182</td>\n",
              "    </tr>\n",
              "    <tr>\n",
              "      <th>10</th>\n",
              "      <td>953.0</td>\n",
              "      <td>932.0</td>\n",
              "      <td>222760.681712</td>\n",
              "      <td>209188.474888</td>\n",
              "    </tr>\n",
              "    <tr>\n",
              "      <th>11</th>\n",
              "      <td>954.0</td>\n",
              "      <td>931.0</td>\n",
              "      <td>174094.352339</td>\n",
              "      <td>251950.345765</td>\n",
              "    </tr>\n",
              "    <tr>\n",
              "      <th>12</th>\n",
              "      <td>955.0</td>\n",
              "      <td>930.0</td>\n",
              "      <td>527924.111063</td>\n",
              "      <td>555845.375266</td>\n",
              "    </tr>\n",
              "    <tr>\n",
              "      <th>13</th>\n",
              "      <td>956.0</td>\n",
              "      <td>929.0</td>\n",
              "      <td>139715.489700</td>\n",
              "      <td>118958.484133</td>\n",
              "    </tr>\n",
              "    <tr>\n",
              "      <th>14</th>\n",
              "      <td>957.0</td>\n",
              "      <td>928.0</td>\n",
              "      <td>213939.473481</td>\n",
              "      <td>135602.613102</td>\n",
              "    </tr>\n",
              "  </tbody>\n",
              "</table>\n",
              "</div>\n",
              "      <button class=\"colab-df-convert\" onclick=\"convertToInteractive('df-856e3c99-f8e4-4c05-821f-d901199b92e8')\"\n",
              "              title=\"Convert this dataframe to an interactive table.\"\n",
              "              style=\"display:none;\">\n",
              "        \n",
              "  <svg xmlns=\"http://www.w3.org/2000/svg\" height=\"24px\"viewBox=\"0 0 24 24\"\n",
              "       width=\"24px\">\n",
              "    <path d=\"M0 0h24v24H0V0z\" fill=\"none\"/>\n",
              "    <path d=\"M18.56 5.44l.94 2.06.94-2.06 2.06-.94-2.06-.94-.94-2.06-.94 2.06-2.06.94zm-11 1L8.5 8.5l.94-2.06 2.06-.94-2.06-.94L8.5 2.5l-.94 2.06-2.06.94zm10 10l.94 2.06.94-2.06 2.06-.94-2.06-.94-.94-2.06-.94 2.06-2.06.94z\"/><path d=\"M17.41 7.96l-1.37-1.37c-.4-.4-.92-.59-1.43-.59-.52 0-1.04.2-1.43.59L10.3 9.45l-7.72 7.72c-.78.78-.78 2.05 0 2.83L4 21.41c.39.39.9.59 1.41.59.51 0 1.02-.2 1.41-.59l7.78-7.78 2.81-2.81c.8-.78.8-2.07 0-2.86zM5.41 20L4 18.59l7.72-7.72 1.47 1.35L5.41 20z\"/>\n",
              "  </svg>\n",
              "      </button>\n",
              "      \n",
              "  <style>\n",
              "    .colab-df-container {\n",
              "      display:flex;\n",
              "      flex-wrap:wrap;\n",
              "      gap: 12px;\n",
              "    }\n",
              "\n",
              "    .colab-df-convert {\n",
              "      background-color: #E8F0FE;\n",
              "      border: none;\n",
              "      border-radius: 50%;\n",
              "      cursor: pointer;\n",
              "      display: none;\n",
              "      fill: #1967D2;\n",
              "      height: 32px;\n",
              "      padding: 0 0 0 0;\n",
              "      width: 32px;\n",
              "    }\n",
              "\n",
              "    .colab-df-convert:hover {\n",
              "      background-color: #E2EBFA;\n",
              "      box-shadow: 0px 1px 2px rgba(60, 64, 67, 0.3), 0px 1px 3px 1px rgba(60, 64, 67, 0.15);\n",
              "      fill: #174EA6;\n",
              "    }\n",
              "\n",
              "    [theme=dark] .colab-df-convert {\n",
              "      background-color: #3B4455;\n",
              "      fill: #D2E3FC;\n",
              "    }\n",
              "\n",
              "    [theme=dark] .colab-df-convert:hover {\n",
              "      background-color: #434B5C;\n",
              "      box-shadow: 0px 1px 3px 1px rgba(0, 0, 0, 0.15);\n",
              "      filter: drop-shadow(0px 1px 2px rgba(0, 0, 0, 0.3));\n",
              "      fill: #FFFFFF;\n",
              "    }\n",
              "  </style>\n",
              "\n",
              "      <script>\n",
              "        const buttonEl =\n",
              "          document.querySelector('#df-856e3c99-f8e4-4c05-821f-d901199b92e8 button.colab-df-convert');\n",
              "        buttonEl.style.display =\n",
              "          google.colab.kernel.accessAllowed ? 'block' : 'none';\n",
              "\n",
              "        async function convertToInteractive(key) {\n",
              "          const element = document.querySelector('#df-856e3c99-f8e4-4c05-821f-d901199b92e8');\n",
              "          const dataTable =\n",
              "            await google.colab.kernel.invokeFunction('convertToInteractive',\n",
              "                                                     [key], {});\n",
              "          if (!dataTable) return;\n",
              "\n",
              "          const docLinkHtml = 'Like what you see? Visit the ' +\n",
              "            '<a target=\"_blank\" href=https://colab.research.google.com/notebooks/data_table.ipynb>data table notebook</a>'\n",
              "            + ' to learn more about interactive tables.';\n",
              "          element.innerHTML = '';\n",
              "          dataTable['output_type'] = 'display_data';\n",
              "          await google.colab.output.renderOutput(dataTable, element);\n",
              "          const docLink = document.createElement('div');\n",
              "          docLink.innerHTML = docLinkHtml;\n",
              "          element.appendChild(docLink);\n",
              "        }\n",
              "      </script>\n",
              "    </div>\n",
              "  </div>\n",
              "  "
            ],
            "text/plain": [
              "    ask_price  bid_price       ask_size       bid_size\n",
              "0       943.0      942.0  247020.277800  105223.613477\n",
              "1       944.0      941.0  355450.175575   62414.388925\n",
              "2       945.0      940.0  291316.379820  124809.472806\n",
              "3       946.0      939.0  130716.192527  275557.702756\n",
              "4       947.0      938.0  231792.291570  195356.260202\n",
              "5       948.0      937.0  204910.174029  205618.185001\n",
              "6       949.0      936.0  211746.814518  190628.539128\n",
              "7       950.0      935.0  592365.855640  153414.566079\n",
              "8       951.0      934.0  220779.628411  133555.547887\n",
              "9       952.0      933.0  210879.230118   81196.324182\n",
              "10      953.0      932.0  222760.681712  209188.474888\n",
              "11      954.0      931.0  174094.352339  251950.345765\n",
              "12      955.0      930.0  527924.111063  555845.375266\n",
              "13      956.0      929.0  139715.489700  118958.484133\n",
              "14      957.0      928.0  213939.473481  135602.613102"
            ]
          },
          "metadata": {},
          "execution_count": 27
        }
      ]
    },
    {
      "cell_type": "code",
      "source": [
        "# 전략에 대해서 생각해보자.\n",
        "# 체결강도 주식 매수체결량을 주식 매도체결량으로 나눈 값에 숫자 100을 곱하여 계산하고 표현합니다. 따라서, 체결강도가 100이라는 의미는 매수체결량과 매도체결량이 같다는 의미라고 할 수 있습니다\n",
        "# 체결강도가  \n",
        "\n",
        "# 거래소에 코인이 대규모로 유입되면, 떨어질 신호."
      ],
      "metadata": {
        "id": "zGEGndV22pRe"
      },
      "execution_count": null,
      "outputs": []
    },
    {
      "cell_type": "code",
      "source": [
        "def get_movingAverage(ticker, rtn = 10):  \n",
        "\n",
        "    df = pyupbit.get_ohlcv(ticker, interval='day')\n",
        "    MAs = deque(maxlen = rtn)\n",
        "    MAs.extend(df['close'])\n",
        "    curr_MA = round(sum(MAs) / len(MAs),5)\n",
        "\n",
        "    return curr_MA"
      ],
      "metadata": {
        "id": "AQviXPv-2pO6"
      },
      "execution_count": null,
      "outputs": []
    },
    {
      "cell_type": "code",
      "source": [
        "def fast_stochastic(lowp, highp, closep, period=14, smoothing=3):\n",
        "    \"\"\" calculate slow stochastic\n",
        "    Fast stochastic calculation\n",
        "    %K = (Current Close - Lowest Low)/(Highest High - Lowest Low) * 100\n",
        "    %D = 3-day SMA of %K\n",
        "    \"\"\"\n",
        "    low_min = pd.rolling_min(lowp, period)\n",
        "    high_max = pd.rolling_max(highp, period)\n",
        "    k_fast = 100 * (closep - low_min)/(high_max - low_min)\n",
        "    k_fast = k_fast.dropna()\n",
        "    d_fast = simple_moving_average(k_fast, smoothing)\n",
        "    return k_fast, d_fast"
      ],
      "metadata": {
        "colab": {
          "base_uri": "https://localhost:8080/"
        },
        "id": "Ch2JGd6W5noY",
        "outputId": "d26d1a59-1417-4b2a-cd68-9c28f621a094"
      },
      "execution_count": null,
      "outputs": [
        {
          "output_type": "execute_result",
          "data": {
            "text/plain": [
              "942.0"
            ]
          },
          "metadata": {},
          "execution_count": 21
        }
      ]
    },
    {
      "cell_type": "code",
      "source": [
        "askbid"
      ],
      "metadata": {
        "colab": {
          "base_uri": "https://localhost:8080/"
        },
        "id": "YiZ8EgGy4Ozy",
        "outputId": "5c167b92-a9f4-4150-b751-3e7fdf7fc2c4"
      },
      "execution_count": null,
      "outputs": [
        {
          "output_type": "execute_result",
          "data": {
            "text/plain": [
              "[{'ask_price': 943.0,\n",
              "  'ask_size': 130595.0077498,\n",
              "  'bid_price': 942.0,\n",
              "  'bid_size': 68332.17203607},\n",
              " {'ask_price': 944.0,\n",
              "  'ask_size': 211975.73051741,\n",
              "  'bid_price': 941.0,\n",
              "  'bid_size': 161408.74853552},\n",
              " {'ask_price': 945.0,\n",
              "  'ask_size': 204695.77678869,\n",
              "  'bid_price': 940.0,\n",
              "  'bid_size': 81772.22768447},\n",
              " {'ask_price': 946.0,\n",
              "  'ask_size': 309580.66824494,\n",
              "  'bid_price': 939.0,\n",
              "  'bid_size': 82206.53905234},\n",
              " {'ask_price': 947.0,\n",
              "  'ask_size': 295959.78305345,\n",
              "  'bid_price': 938.0,\n",
              "  'bid_size': 184933.56604984},\n",
              " {'ask_price': 948.0,\n",
              "  'ask_size': 499823.00544179,\n",
              "  'bid_price': 937.0,\n",
              "  'bid_size': 144512.90787905},\n",
              " {'ask_price': 949.0,\n",
              "  'ask_size': 440294.93412514,\n",
              "  'bid_price': 936.0,\n",
              "  'bid_size': 212458.92096905},\n",
              " {'ask_price': 950.0,\n",
              "  'ask_size': 546139.04585355,\n",
              "  'bid_price': 935.0,\n",
              "  'bid_size': 544403.6796783},\n",
              " {'ask_price': 951.0,\n",
              "  'ask_size': 301090.69130774,\n",
              "  'bid_price': 934.0,\n",
              "  'bid_size': 106958.57480473},\n",
              " {'ask_price': 952.0,\n",
              "  'ask_size': 170396.24479523,\n",
              "  'bid_price': 933.0,\n",
              "  'bid_size': 95471.44192067},\n",
              " {'ask_price': 953.0,\n",
              "  'ask_size': 199518.04250443,\n",
              "  'bid_price': 932.0,\n",
              "  'bid_size': 170856.356038},\n",
              " {'ask_price': 954.0,\n",
              "  'ask_size': 130593.4160647,\n",
              "  'bid_price': 931.0,\n",
              "  'bid_size': 205909.32481921},\n",
              " {'ask_price': 955.0,\n",
              "  'ask_size': 486697.60849223,\n",
              "  'bid_price': 930.0,\n",
              "  'bid_size': 460376.83178848},\n",
              " {'ask_price': 956.0,\n",
              "  'ask_size': 130041.95176629,\n",
              "  'bid_price': 929.0,\n",
              "  'bid_size': 79304.67242245},\n",
              " {'ask_price': 957.0,\n",
              "  'ask_size': 190396.96809272,\n",
              "  'bid_price': 928.0,\n",
              "  'bid_size': 125803.75911909}]"
            ]
          },
          "metadata": {},
          "execution_count": 22
        }
      ]
    },
    {
      "cell_type": "code",
      "source": [
        "from collections import deque\n",
        "\n",
        "tickers = pyupbit.get_tickers(fiat = 'KRW')[:10]\n",
        "\n",
        "for ticker in tickers:\n",
        "    get_movingAverage(ticker)"
      ],
      "metadata": {
        "colab": {
          "base_uri": "https://localhost:8080/"
        },
        "id": "HwDKipRg2pIT",
        "outputId": "572cc739-d716-40e8-86f8-0d654f4e7391"
      },
      "execution_count": null,
      "outputs": [
        {
          "output_type": "stream",
          "name": "stdout",
          "text": [
            "Ticker: KRW-BTC MA(3): 50816666.67, MA(5): 48760400.0, MA(10): 47977000.0\n",
            "Ticker: KRW-ETH MA(3): 3673333.33, MA(5): 3526200.0, MA(10): 3397100.0\n",
            "Ticker: KRW-NEO MA(3): 27173.33, MA(5): 26224.0, MA(10): 25183.0\n",
            "Ticker: KRW-MTL MA(3): 2123.33, MA(5): 2066.0, MA(10): 1960.0\n",
            "Ticker: KRW-LTC MA(3): 149333.33, MA(5): 143580.0, MA(10): 140215.0\n",
            "Ticker: KRW-XRP MA(3): 812.33, MA(5): 785.4, MA(10): 773.6\n",
            "Ticker: KRW-ETC MA(3): 36206.67, MA(5): 35048.0, MA(10): 33342.0\n",
            "Ticker: KRW-OMG MA(3): 6195.0, MA(5): 6020.0, MA(10): 6000.0\n",
            "Ticker: KRW-SNT MA(3): 67.5, MA(5): 65.16, MA(10): 63.26\n",
            "Ticker: KRW-WAVES MA(3): 12180.0, MA(5): 11596.0, MA(10): 11668.0\n"
          ]
        }
      ]
    },
    {
      "cell_type": "code",
      "source": [
        ""
      ],
      "metadata": {
        "id": "Xn2kIrLB7i17"
      },
      "execution_count": null,
      "outputs": []
    },
    {
      "cell_type": "code",
      "source": [
        ""
      ],
      "metadata": {
        "colab": {
          "base_uri": "https://localhost:8080/"
        },
        "id": "x-hV870g7lSa",
        "outputId": "fa2b946d-0405-461e-ca51-38585d60202e"
      },
      "execution_count": null,
      "outputs": [
        {
          "output_type": "execute_result",
          "data": {
            "text/plain": [
              "13195"
            ]
          },
          "metadata": {},
          "execution_count": 28
        }
      ]
    }
  ]
}