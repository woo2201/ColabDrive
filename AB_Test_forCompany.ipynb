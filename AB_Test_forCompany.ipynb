{
  "nbformat": 4,
  "nbformat_minor": 0,
  "metadata": {
    "colab": {
      "name": "AB_Test_forCompany.ipynb",
      "provenance": [],
      "collapsed_sections": [],
      "authorship_tag": "ABX9TyNh66e+dK39W3L36IRT2Cv5",
      "include_colab_link": true
    },
    "kernelspec": {
      "name": "python3",
      "display_name": "Python 3"
    },
    "language_info": {
      "name": "python"
    }
  },
  "cells": [
    {
      "cell_type": "markdown",
      "metadata": {
        "id": "view-in-github",
        "colab_type": "text"
      },
      "source": [
        "<a href=\"https://colab.research.google.com/github/woo2201/ColabDrive/blob/reservior/AB_Test_forCompany.ipynb\" target=\"_parent\"><img src=\"https://colab.research.google.com/assets/colab-badge.svg\" alt=\"Open In Colab\"/></a>"
      ]
    },
    {
      "cell_type": "markdown",
      "source": [
        "\n",
        "<h2>빈도주의에 기초한 기본 가설검정 방법론<h2\\>\n",
        "\n"
      ],
      "metadata": {
        "id": "xZJdayc6REGf"
      }
    },
    {
      "cell_type": "markdown",
      "source": [
        "1. 간단한 T - test 입니다.\n",
        "T - test 의 목적은 다른 두 동질 집단의 평균 비교입니다. "
      ],
      "metadata": {
        "id": "DKyCDztuZLUr"
      }
    },
    {
      "cell_type": "code",
      "source": [
        "from scipy import stats\n",
        "import random\n",
        "\n",
        "# generate a random list from which you gonna extract a sublist.\n",
        "randomlist = [round(random.uniform(10.5, 25.5),5) for i in range(0, 100)] \n",
        "\n",
        "group_A = random.choices(randomlist, k = 24) # A group has 24 samples\n",
        "group_B = random.choices(randomlist, k = 28) # A group has 28 samples\n",
        "\n",
        "stats.ttest_ind(group_A,\n",
        "                group_B,\n",
        "                equal_var = False) # can't assume equal variance cuz I just random sampled. This \"equal_var = False\" equals to Welch's t-test. \n",
        "                                   # 실무에서 수집한 데이터의 분산이 같기는 드물 뿐더러 수집 데이터의 갯수가 같은 경우는 더욱 드물기 때문입니다."
      ],
      "metadata": {
        "colab": {
          "base_uri": "https://localhost:8080/"
        },
        "id": "4laebnYDTOz5",
        "outputId": "a053b21f-8855-4b36-d037-d9b878d2bfe6"
      },
      "execution_count": 1,
      "outputs": [
        {
          "output_type": "execute_result",
          "data": {
            "text/plain": [
              "Ttest_indResult(statistic=2.1048317849709877, pvalue=0.04049891370679466)"
            ]
          },
          "metadata": {},
          "execution_count": 1
        }
      ]
    },
    {
      "cell_type": "markdown",
      "source": [
        "\n",
        "```python\n",
        "Ttest_indResult(statistic = -1.5887136398548387,\n",
        "                pvalue = 0.11851296053114146)\n",
        "```"
      ],
      "metadata": {
        "id": "mnSAsoKZY36w"
      }
    },
    {
      "cell_type": "markdown",
      "source": [
        "P - value 가 0.05 수준에서 유의하지 않습니다.\n",
        "바꿔 말하면, 우연에 의해 나타난 효과일 가능성이 있다는 (11% 정도) 이야기입니다.\n",
        "동일한 기준으로 uniformly distributed 된 데이터셋에서 산출된 데이터니 당연한 결과겠네요.\n",
        "\n",
        "✅ 테스트 설정값 중 : ``` equal_var = True ``` 으로 설정된 부분이 있는데, 이 부분의 의미하는 바는 등분산 가정(homoskedacity)을 가정하지 않는 Welch's T-test 로 테스트를 하겠다는 의미입니다. 실제 세상에서는 데이터의 분산이 같기 힘들 뿐더러, 갯수도 같지 않은 경우가 많습니다.\n",
        "\n",
        "이를 고려해서 Welch's T-test로 테스트를 합니다.\n"
      ],
      "metadata": {
        "id": "C5CNO78Sh7E9"
      }
    },
    {
      "cell_type": "markdown",
      "source": [
        "- 또한 위의 T test는 평균간의 비교입니다. 바꿔 말하면, 연속형 변수들의 평균 비교밖에 유효하지 않다는 이야기입니다. 그렇다면 명목형/범주형 변수들의 (예를 들자면, 청약 여부) 비교는 어떻게 해야할까요? 예를 들어 이번 보따리 실험과 같이 말입니다.\n",
        "\n",
        "- 아래서 소개하는 방식은 카이스퀘어 방식입니다."
      ],
      "metadata": {
        "id": "bBI79xGAgrAZ"
      }
    },
    {
      "cell_type": "code",
      "source": [
        "import pandas as pd\n",
        "from scipy.stats import chi2_contingency\n",
        "\n",
        "def click_abtest(a_Yes, a_Tot, b_Yes, b_Tot):\n",
        "\n",
        "    agreed = [a_Yes, b_Yes] \n",
        "    disagreed = [a_Tot - a_Yes, b_Tot - b_Yes] \n",
        "    cont_table = pd.DataFrame([agreed, disagreed], columns=['A', 'B'], index=['agreed', 'disagreed'])\n",
        "    chi2, p_val, d_f, expected = chi2_contingency([agreed, disagreed])\n",
        "\n",
        "    print(\"Chi-square Value :\", format(chi2, '.6f'))\n",
        "    print(\"p_value :\", format(p_val, '.6f'))\n",
        "\n",
        "click_abtest(13, 244, 23, 287)"
      ],
      "metadata": {
        "colab": {
          "base_uri": "https://localhost:8080/"
        },
        "id": "xQMIMkWkYeXG",
        "outputId": "9b2d0880-7471-4369-f9c8-3b67c216738c"
      },
      "execution_count": null,
      "outputs": [
        {
          "output_type": "stream",
          "name": "stdout",
          "text": [
            "Chi-square Value : 1.110527\n",
            "p_value : 0.291967\n"
          ]
        }
      ]
    },
    {
      "cell_type": "markdown",
      "source": [
        "```python\n",
        "Chi-square Value : 1.110527\n",
        "p_value : 0.291967\n",
        "```\n",
        "\n",
        "기각해야겠네요.\n"
      ],
      "metadata": {
        "id": "uu20UejxoYUZ"
      }
    },
    {
      "cell_type": "markdown",
      "source": [
        "<h2> 검정력 테스트 </h2>\n",
        "\n",
        "- 이 모든 테스트에 앞서서, 우리가 하나 잊어먹은게 있습니다. \n",
        "- 실제 세계에서는 표본을 무제한으로 모을 수는 없습니다. 무제한으로 모아도 p-value 가 무한정 낮아지는 오류가 발생하고요.\n",
        "\n",
        "- 그런 의미에서, 일단 얼마만큼의 표본이 필요한지에 대한 기준이 필요합니다."
      ],
      "metadata": {
        "id": "B86oW6jGlAA3"
      }
    },
    {
      "cell_type": "code",
      "source": [
        "# estimate sample size via power analysis\n",
        "from statsmodels.stats.power import TTestIndPower\n",
        "\n",
        "effect = 0.06 # Cohen's d measure 로 측정하는 effective effect size 의 크기는 0.8 <= 정도라고 합니다. 이게 낮아질 수록 필요 샘플사이즈는 올라갑니다.  집단간 평균 차이가 크다는 건, 효과크기가 크다는걸 의미합니다.\n",
        "alpha = 0.05 # 유의수준입니다.\n",
        "power = 0.8 # 원하는 검정력 수치입니다. \n",
        "# perform power analysis\n",
        "analysis = TTestIndPower()\n",
        "result = analysis.solve_power(effect, power=power, nobs1=None, ratio=1.0, alpha=alpha)\n",
        "print('Sample Size: %.3f' % result)"
      ],
      "metadata": {
        "colab": {
          "base_uri": "https://localhost:8080/"
        },
        "id": "eWOF_TXXk_Mj",
        "outputId": "4acb4a7d-3ee2-4754-9545-4c4acab0b5aa"
      },
      "execution_count": 10,
      "outputs": [
        {
          "output_type": "stream",
          "name": "stdout",
          "text": [
            "Sample Size: 4361.439\n"
          ]
        }
      ]
    },
    {
      "cell_type": "code",
      "source": [
        "# calculate power curves for varying sample and effect size\n",
        "import numpy as np\n",
        "import matplotlib.pyplot as plt\n",
        "from statsmodels.stats.power import TTestIndPower\n",
        "# parameters for power analysis\n",
        "effect_sizes = np.arange(0.1, 1, 0.1)\n",
        "sample_sizes = np.array(range(5, 2000))\n",
        "# calculate power curves from multiple power analyses\n",
        "analysis = TTestIndPower()\n",
        "analysis.plot_power(dep_var = 'nobs',\n",
        "                    nobs = sample_sizes,\n",
        "                    effect_size = effect_sizes)\n",
        "plt.show()"
      ],
      "metadata": {
        "colab": {
          "base_uri": "https://localhost:8080/",
          "height": 295
        },
        "id": "zrQI_7yck_Vq",
        "outputId": "7d13601a-8bc5-4a06-fa8e-082594ffe26c"
      },
      "execution_count": 20,
      "outputs": [
        {
          "output_type": "display_data",
          "data": {
            "image/png": "[encoded data removed]",
            "text/plain": [
              "<Figure size 432x288 with 1 Axes>"
            ]
          },
          "metadata": {
            "needs_background": "light"
          }
        }
      ]
    },
    {
      "cell_type": "markdown",
      "source": [
        "이펙트 사이즈가 아무리 적더라도, 사실 0.8 까지의 검정력을 확보하는데 있어서는 1700 선까지만 모으면 됬던 것."
      ],
      "metadata": {
        "id": "m_3igPYxwBYA"
      }
    }
  ]
}