{
  "nbformat": 4,
  "nbformat_minor": 0,
  "metadata": {
    "colab": {
      "name": "Pdf Parsing",
      "provenance": [],
      "collapsed_sections": [],
      "authorship_tag": "ABX9TyML+h91KnUOXBqB10voRD5M",
      "include_colab_link": true
    },
    "kernelspec": {
      "name": "python3",
      "display_name": "Python 3"
    },
    "language_info": {
      "name": "python"
    }
  },
  "cells": [
    {
      "cell_type": "markdown",
      "metadata": {
        "id": "view-in-github",
        "colab_type": "text"
      },
      "source": [
        "<a href=\"https://colab.research.google.com/github/woo2201/ColabDrive/blob/reservior/Pdf_Parsing.ipynb\" target=\"_parent\"><img src=\"https://colab.research.google.com/assets/colab-badge.svg\" alt=\"Open In Colab\"/></a>"
      ]
    },
    {
      "cell_type": "markdown",
      "source": [
        "# 약관 파싱 서비스입니다 😊\n",
        "### 유의점 : pdf 파일 내 사진 형식으로 된 문장들은 제대로 추출이 안될 수 있습니다 ㅠㅠ\n"
      ],
      "metadata": {
        "id": "fLWOwFSke6FN"
      }
    },
    {
      "cell_type": "markdown",
      "source": [
        "- Colab 에 연결합니다"
      ],
      "metadata": {
        "id": "CzY2GasTfAY2"
      }
    },
    {
      "cell_type": "code",
      "source": [
        "from google.colab import drive \n",
        "drive.mount('/content/gdrive') "
      ],
      "metadata": {
        "colab": {
          "base_uri": "https://localhost:8080/"
        },
        "id": "fNE0q-JnrIyv",
        "outputId": "0a723dab-cf6d-4294-db66-36cfc956976f"
      },
      "execution_count": null,
      "outputs": [
        {
          "output_type": "stream",
          "name": "stdout",
          "text": [
            "Drive already mounted at /content/gdrive; to attempt to forcibly remount, call drive.mount(\"/content/gdrive\", force_remount=True).\n"
          ]
        }
      ]
    },
    {
      "cell_type": "code",
      "source": [
        "cd /content/gdrive/MyDrive/dataset"
      ],
      "metadata": {
        "colab": {
          "base_uri": "https://localhost:8080/"
        },
        "id": "NHR4tjmBrLHd",
        "outputId": "aa1dc618-b7d9-4085-c6ee-b5c22eacaa71"
      },
      "execution_count": null,
      "outputs": [
        {
          "output_type": "stream",
          "name": "stdout",
          "text": [
            "/content/gdrive/MyDrive/dataset\n"
          ]
        }
      ]
    },
    {
      "cell_type": "markdown",
      "source": [
        "- 필요한 패키지들을 불러옵니다."
      ],
      "metadata": {
        "id": "MMy7ifBlfEVA"
      }
    },
    {
      "cell_type": "code",
      "source": [
        "off"
      ],
      "metadata": {
        "id": "91qZP4VQlz92"
      },
      "execution_count": null,
      "outputs": []
    },
    {
      "cell_type": "code",
      "source": [
        "from tika import parser # 설치해야 할 것.\n",
        "import numpy as np  # 설치해야 할 것.\n",
        "import pandas as pd # 설치해야 할 것.\n",
        "import re # 아마~? 설치해야할 것.\n",
        "from os import listdir\n",
        "from os.path import isfile, join"
      ],
      "metadata": {
        "id": "Vm13FQ86u3HH"
      },
      "execution_count": null,
      "outputs": []
    },
    {
      "cell_type": "code",
      "source": [
        "class SearchWord:\n",
        "    def __init__(self):\n",
        "        self.word = 'default'\n",
        "        self.path = 'default' \n",
        "\n",
        "    def get_filelists(self, path):\n",
        "        onlyfiles = [f for f in listdir(path) if isfile(join(path, f))]\n",
        "        absPath = [path + i for i in onlyfiles if i.endswith('.pdf')]\n",
        "        \n",
        "        return absPath\n",
        "\n",
        "    def search_filename(self, pathlist, word):\n",
        "        #Target word 를 찾아, 해당 파일네임으로 반환함        \n",
        "        ans = []\n",
        "        for idv in pathlist:\n",
        "            # 파일 하나씩 꺼내옴 \n",
        "\n",
        "            filename = idv.split('/')[-1].split('.')[0] # 파일명을 말해주기 위해서 생성.\n",
        "            rawText = parser.from_file(idv)             # 파싱절차는 여기에서 한다.\n",
        "            rawList = rawText['content'].splitlines()   # 각각의 pdf 에 대한 text info 가 rawList 로 반환됨.\n",
        "            rawList = [i for i in rawList if i != \"\"]   # empty string 은 제외.\n",
        "\n",
        "            cnt = 0\n",
        "\n",
        "            lst = [element for element in rawList]\n",
        "            chk = [i for i in lst if word in i]\n",
        "\n",
        "            if len(chk) >= 1:\n",
        "                cnt = cnt + 1\n",
        "                ans.append(filename)\n",
        "\n",
        "        return ans\n"
      ],
      "metadata": {
        "id": "LmmC6B_uzQ1M"
      },
      "execution_count": null,
      "outputs": []
    },
    {
      "cell_type": "code",
      "source": [
        "def execution(word):\n",
        "    test = SearchWord()\n",
        "    absolutePath = test.get_filelists('/content/gdrive/MyDrive/dataset/')\n",
        "    return test.search_filename(absolutePath, word)"
      ],
      "metadata": {
        "id": "yeaQGGgD6cw9"
      },
      "execution_count": null,
      "outputs": []
    },
    {
      "cell_type": "markdown",
      "source": [
        ""
      ],
      "metadata": {
        "id": "lIRGxcS2DvhZ"
      }
    },
    {
      "cell_type": "code",
      "source": [
        "execution('우중원')"
      ],
      "metadata": {
        "colab": {
          "base_uri": "https://localhost:8080/"
        },
        "id": "vvlR7yJg8gBa",
        "outputId": "bb6936ce-3e67-4b7c-99c6-c6bf8957ae10"
      },
      "execution_count": null,
      "outputs": [
        {
          "output_type": "execute_result",
          "data": {
            "text/plain": [
              "[]"
            ]
          },
          "metadata": {},
          "execution_count": 245
        }
      ]
    }
  ]
}