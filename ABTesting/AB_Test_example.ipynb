{
  "nbformat": 4,
  "nbformat_minor": 0,
  "metadata": {
    "colab": {
      "name": "AB_Test_forCompany.ipynb",
      "provenance": [],
      "authorship_tag": "ABX9TyPyFnBqc3VpJDCpVK3jjgYS",
      "include_colab_link": true
    },
    "kernelspec": {
      "name": "python3",
      "display_name": "Python 3"
    },
    "language_info": {
      "name": "python"
    }
  },
  "cells": [
    {
      "cell_type": "markdown",
      "metadata": {
        "id": "view-in-github",
        "colab_type": "text"
      },
      "source": [
        "<a href=\"https://colab.research.google.com/github/woo2201/ColabDrive/blob/reservior/AB_Test_forCompany.ipynb\" target=\"_parent\"><img src=\"https://colab.research.google.com/assets/colab-badge.svg\" alt=\"Open In Colab\"/></a>"
      ]
    },
    {
      "cell_type": "markdown",
      "source": [
        "\b# 기본 가설검정 방법론.\n",
        "\n",
        "- 가장 간단한 것들부터."
      ],
      "metadata": {
        "id": "xZJdayc6REGf"
      }
    },
    {
      "cell_type": "markdown",
      "source": [
        "AB 테스트 이야기를 하기 전에 앞서, <br>\n",
        "\n",
        "우리가 기본적으로 알고 있는 T-test 에 대한 이야기를 해보겠습니다. T test 를 하는 이유에 대해서 정확히 알고 가야합니다. <br> \n",
        "\n",
        "물론 T test 의 결과는 단편적으로 봤을 땐, <br> \n",
        "-  \"A 의 평균이 B의 평균보다 통계적으로 유의미하게 높다.\" 이지만,<br> \n",
        "-  우리는 \" A 의 평균이 B보다 높은데, **<u>과연 이것이 *우연의 일치* 에 의한 것인지 아닌지</u>**를 본다 \" \n",
        "\n",
        "라고 생각하면 조금 더 정확하지 않을까 합니다.\n"
      ],
      "metadata": {
        "id": "5RUDqqCHRvRh"
      }
    },
    {
      "cell_type": "markdown",
      "source": [
        "그러면, 간단한 t-test 를 구현해봅시다."
      ],
      "metadata": {
        "id": "DKyCDztuZLUr"
      }
    },
    {
      "cell_type": "code",
      "source": [
        "from scipy import stats\n",
        "import random\n",
        "\n",
        "randomlist = [round(random.uniform(10.5, 25.5),5) for i in range(0, 100)] # generate a random list from which you gonna extract a sublist.\n",
        "\n",
        "group_A = random.choices(randomlist, k = 24) # A group has 24 samples\n",
        "group_B = random.choices(randomlist, k = 28) # A group has 28 samples\n",
        "\n",
        "stats.ttest_ind(group_A,\n",
        "                group_B,\n",
        "                equal_var = False) # can't assume equal variance cuz I just random sampled. This \"equal_var = False\" equals to Welch's t-test. \n",
        "                                   # 실무에서 수집한 데이터의 분산이 같기는 드물 뿐더러 수집 데이터의 갯수가 같은 경우는 더욱 드물기 때문입니다."
      ],
      "metadata": {
        "colab": {
          "base_uri": "https://localhost:8080/"
        },
        "id": "4laebnYDTOz5",
        "outputId": "d7b1005c-60c3-42e2-ae55-c65499293141"
      },
      "execution_count": 11,
      "outputs": [
        {
          "output_type": "execute_result",
          "data": {
            "text/plain": [
              "Ttest_indResult(statistic=-1.5887136398548387, pvalue=0.11851296053114146)"
            ]
          },
          "metadata": {},
          "execution_count": 11
        }
      ]
    },
    {
      "cell_type": "markdown",
      "source": [
        "\n",
        "```python\n",
        "Ttest_indResult(statistic = -1.5887136398548387,\n",
        "                pvalue = 0.11851296053114146)\n",
        "```"
      ],
      "metadata": {
        "id": "mnSAsoKZY36w"
      }
    },
    {
      "cell_type": "markdown",
      "source": [
        "위의 T test는 평균간의 비교입니다. 바꿔 말하면, 연속형 변수들의 평균 비교밖에 유효하지 않다는 이야기입니다.\n",
        "그렇다면 명목형/범주형 변수들의 (예를 들자면, 청약 여부) 비교는 어떻게 해야할까요?\n",
        "\n",
        "아래서 소개하는 방식은 카이스퀘어 방식입니다."
      ],
      "metadata": {
        "id": "bBI79xGAgrAZ"
      }
    },
    {
      "cell_type": "code",
      "source": [
        "import pandas as pd\n",
        "from scipy.stats import chi2_contingency\n",
        "\n",
        "def click_abtest(a_Yes, a_Tot, b_Yes, b_Tot):\n",
        "\n",
        "    agreed = [a_Yes, b_Yes] \n",
        "    disagreed = [a_Tot - a_Yes, b_Tot - b_Yes] \n",
        "    cont_table = pd.DataFrame([agreed, disagreed], columns=['A', 'B'], index=['agreed', 'disagreed'])\n",
        "    chi2, p_val, d_f, expected = chi2_contingency([agreed, disagreed])\n",
        "\n",
        "    print(\"Chi-square Value :\", format(chi2, '.6f'))\n",
        "    print(\"p_value :\", format(p_val, '.6f'))\n",
        "\n",
        "click_abtest(13, 244, 23, 287)"
      ],
      "metadata": {
        "colab": {
          "base_uri": "https://localhost:8080/"
        },
        "id": "xQMIMkWkYeXG",
        "outputId": "9b2d0880-7471-4369-f9c8-3b67c216738c"
      },
      "execution_count": 14,
      "outputs": [
        {
          "output_type": "stream",
          "name": "stdout",
          "text": [
            "Chi-square Value : 1.110527\n",
            "p_value : 0.291967\n"
          ]
        }
      ]
    },
    {
      "cell_type": "markdown",
      "source": [
        "```python\n",
        "Chi-square Value : 1.110527\n",
        "p_value : 0.291967\n",
        "```\n",
        "\n",
        "기각해야겠네요.\n"
      ],
      "metadata": {
        "id": "uu20UejxoYUZ"
      }
    },
    {
      "cell_type": "code",
      "source": [
        ""
      ],
      "metadata": {
        "id": "zZujgybqmEMV"
      },
      "execution_count": null,
      "outputs": []
    }
  ]
}
